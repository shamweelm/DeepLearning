{
  "nbformat": 4,
  "nbformat_minor": 0,
  "metadata": {
    "colab": {
      "name": "DL_01 Intro to Python and Mathematics.ipynb",
      "provenance": [],
      "collapsed_sections": [
        "zsCR1Z74Nok9",
        "nAJ4fQMSpDln",
        "ICDFjAtyyqG3"
      ]
    },
    "kernelspec": {
      "name": "python3",
      "display_name": "Python 3"
    }
  },
  "cells": [
    {
      "cell_type": "code",
      "metadata": {
        "id": "gB2vpViVFbJd",
        "outputId": "a95d47ae-03be-4b74-c910-68284993ac10",
        "colab": {
          "base_uri": "https://localhost:8080/",
          "height": 34
        }
      },
      "source": [
        "!ls"
      ],
      "execution_count": null,
      "outputs": [
        {
          "output_type": "stream",
          "text": [
            "sample_data\n"
          ],
          "name": "stdout"
        }
      ]
    },
    {
      "cell_type": "code",
      "metadata": {
        "id": "LDb-MxvXF0uw"
      },
      "source": [
        "!cat /proc/cpuinfo"
      ],
      "execution_count": null,
      "outputs": []
    },
    {
      "cell_type": "code",
      "metadata": {
        "id": "hlBWQSqSF1y7"
      },
      "source": [
        "! cat /proc/meminfo"
      ],
      "execution_count": null,
      "outputs": []
    },
    {
      "cell_type": "markdown",
      "metadata": {
        "id": "snHEfkpZHAih"
      },
      "source": [
        "**bold**\n",
        "$\\LaTeX$\n",
        "#Python Basics"
      ]
    },
    {
      "cell_type": "code",
      "metadata": {
        "id": "dzOTUuLCHdhT"
      },
      "source": [
        "name = 'SHAMWEEL'"
      ],
      "execution_count": null,
      "outputs": []
    },
    {
      "cell_type": "code",
      "metadata": {
        "id": "iygyMnfhIbcw",
        "outputId": "1b11e349-92f0-46e1-e723-ea0e7fe9353d",
        "colab": {
          "base_uri": "https://localhost:8080/",
          "height": 163
        }
      },
      "source": [
        "type [name]"
      ],
      "execution_count": null,
      "outputs": [
        {
          "output_type": "error",
          "ename": "TypeError",
          "evalue": "ignored",
          "traceback": [
            "\u001b[0;31m---------------------------------------------------------------------------\u001b[0m",
            "\u001b[0;31mTypeError\u001b[0m                                 Traceback (most recent call last)",
            "\u001b[0;32m<ipython-input-6-739e520fbecb>\u001b[0m in \u001b[0;36m<module>\u001b[0;34m()\u001b[0m\n\u001b[0;32m----> 1\u001b[0;31m \u001b[0mtype\u001b[0m \u001b[0;34m[\u001b[0m\u001b[0mname\u001b[0m\u001b[0;34m]\u001b[0m\u001b[0;34m\u001b[0m\u001b[0;34m\u001b[0m\u001b[0m\n\u001b[0m",
            "\u001b[0;31mTypeError\u001b[0m: 'type' object is not subscriptable"
          ]
        }
      ]
    },
    {
      "cell_type": "code",
      "metadata": {
        "id": "sy8pR3z6IdJy",
        "outputId": "85acdc7e-75a8-4b26-c8f6-87baf15aa2f7",
        "colab": {
          "base_uri": "https://localhost:8080/",
          "height": 34
        }
      },
      "source": [
        "type(name)"
      ],
      "execution_count": null,
      "outputs": [
        {
          "output_type": "execute_result",
          "data": {
            "text/plain": [
              "str"
            ]
          },
          "metadata": {
            "tags": []
          },
          "execution_count": 8
        }
      ]
    },
    {
      "cell_type": "code",
      "metadata": {
        "id": "q30XI_K7Igg_",
        "outputId": "a12481a3-9210-47a2-d572-ed94569cd266",
        "colab": {
          "base_uri": "https://localhost:8080/",
          "height": 34
        }
      },
      "source": [
        "print(name + 'Mohammed', 10)"
      ],
      "execution_count": null,
      "outputs": [
        {
          "output_type": "stream",
          "text": [
            "SHAMWEELMohammed 10\n"
          ],
          "name": "stdout"
        }
      ]
    },
    {
      "cell_type": "code",
      "metadata": {
        "id": "Hgj8EMpnIxt9",
        "outputId": "6f73e8f4-5d6c-44a7-880b-f437577e9f55",
        "colab": {
          "base_uri": "https://localhost:8080/",
          "height": 34
        }
      },
      "source": [
        "is_Android = False\n",
        "type(is_Android)\n"
      ],
      "execution_count": null,
      "outputs": [
        {
          "output_type": "execute_result",
          "data": {
            "text/plain": [
              "bool"
            ]
          },
          "metadata": {
            "tags": []
          },
          "execution_count": 11
        }
      ]
    },
    {
      "cell_type": "code",
      "metadata": {
        "id": "u2w9kT9UJo87",
        "outputId": "f6da1f88-c72f-46d7-b474-aff8213c28e8",
        "colab": {
          "base_uri": "https://localhost:8080/",
          "height": 34
        }
      },
      "source": [
        "x = 20\n",
        "if x<20:\n",
        "    print('Inside Block')\n",
        "print('Outside')"
      ],
      "execution_count": null,
      "outputs": [
        {
          "output_type": "stream",
          "text": [
            "Outside\n"
          ],
          "name": "stdout"
        }
      ]
    },
    {
      "cell_type": "code",
      "metadata": {
        "id": "sp3ctzx_KMyC",
        "outputId": "0933adfa-ec79-44cb-cc58-ad15ecb22129",
        "colab": {
          "base_uri": "https://localhost:8080/",
          "height": 102
        }
      },
      "source": [
        "for i in range(5):\n",
        "    print(i,i**2)"
      ],
      "execution_count": null,
      "outputs": [
        {
          "output_type": "stream",
          "text": [
            "0 0\n",
            "1 1\n",
            "2 4\n",
            "3 9\n",
            "4 16\n"
          ],
          "name": "stdout"
        }
      ]
    },
    {
      "cell_type": "code",
      "metadata": {
        "id": "L0Q8-bZmK6Ac"
      },
      "source": [
        "range?"
      ],
      "execution_count": null,
      "outputs": []
    },
    {
      "cell_type": "code",
      "metadata": {
        "id": "xSiA6majK8l4",
        "outputId": "e32254c3-4c6a-4b03-bf97-2156bd341139",
        "colab": {
          "base_uri": "https://localhost:8080/",
          "height": 187
        }
      },
      "source": [
        "i = 2\n",
        "while i<=10:\n",
        "    print(i)\n",
        "    i+=1\n",
        "print('done')"
      ],
      "execution_count": null,
      "outputs": [
        {
          "output_type": "stream",
          "text": [
            "2\n",
            "3\n",
            "4\n",
            "5\n",
            "6\n",
            "7\n",
            "8\n",
            "9\n",
            "10\n",
            "done\n"
          ],
          "name": "stdout"
        }
      ]
    },
    {
      "cell_type": "code",
      "metadata": {
        "id": "r5PHXK9sL6B4"
      },
      "source": [
        "def fsquare(n):\n",
        "    '''Printing square of a number'''\n",
        "    for i in range(1,n+1):\n",
        "        print(i, i**2)"
      ],
      "execution_count": null,
      "outputs": []
    },
    {
      "cell_type": "code",
      "metadata": {
        "id": "sj5b1-6pMTDN",
        "outputId": "48fbaa94-ae4b-4d37-fc9b-d31bb156a016",
        "colab": {
          "base_uri": "https://localhost:8080/",
          "height": 102
        }
      },
      "source": [
        "fsquare(5)"
      ],
      "execution_count": null,
      "outputs": [
        {
          "output_type": "stream",
          "text": [
            "1 1\n",
            "2 4\n",
            "3 9\n",
            "4 16\n",
            "5 25\n"
          ],
          "name": "stdout"
        }
      ]
    },
    {
      "cell_type": "code",
      "metadata": {
        "id": "j-Ww4TokMWrr"
      },
      "source": [
        "fsquare?"
      ],
      "execution_count": null,
      "outputs": []
    },
    {
      "cell_type": "markdown",
      "metadata": {
        "id": "zsCR1Z74Nok9"
      },
      "source": [
        "# Lists"
      ]
    },
    {
      "cell_type": "code",
      "metadata": {
        "id": "k7KC2GmTNqkA"
      },
      "source": [
        "name = 'iPhone 7 Plus'\n",
        "size = 5.3\n",
        "iOS = True\n",
        "my_phone = [name, iOS, size]"
      ],
      "execution_count": null,
      "outputs": []
    },
    {
      "cell_type": "code",
      "metadata": {
        "id": "CdIHsuktPC6p",
        "outputId": "65a5a102-cecd-4767-a513-0c05a96f24e6",
        "colab": {
          "base_uri": "https://localhost:8080/",
          "height": 34
        }
      },
      "source": [
        "print(my_phone)"
      ],
      "execution_count": null,
      "outputs": [
        {
          "output_type": "stream",
          "text": [
            "['iPhone 7 Plus', True, 5.3]\n"
          ],
          "name": "stdout"
        }
      ]
    },
    {
      "cell_type": "code",
      "metadata": {
        "id": "moHqkO0LPEjZ",
        "outputId": "0ea8cda5-83b9-49dc-980a-4de6801df200",
        "colab": {
          "base_uri": "https://localhost:8080/",
          "height": 34
        }
      },
      "source": [
        "type(my_phone)"
      ],
      "execution_count": null,
      "outputs": [
        {
          "output_type": "execute_result",
          "data": {
            "text/plain": [
              "list"
            ]
          },
          "metadata": {
            "tags": []
          },
          "execution_count": 33
        }
      ]
    },
    {
      "cell_type": "code",
      "metadata": {
        "id": "ok2BFpVTPN6u",
        "outputId": "3e6bcd54-835d-46b4-f55c-22061fde1d25",
        "colab": {
          "base_uri": "https://localhost:8080/",
          "height": 34
        }
      },
      "source": [
        "type(iOS)"
      ],
      "execution_count": null,
      "outputs": [
        {
          "output_type": "execute_result",
          "data": {
            "text/plain": [
              "bool"
            ]
          },
          "metadata": {
            "tags": []
          },
          "execution_count": 34
        }
      ]
    },
    {
      "cell_type": "code",
      "metadata": {
        "id": "YtvBjW15PVC3",
        "outputId": "13c39ddf-cfa1-4e6b-e7b8-859b49c7e784",
        "colab": {
          "base_uri": "https://localhost:8080/",
          "height": 34
        }
      },
      "source": [
        "type(name)"
      ],
      "execution_count": null,
      "outputs": [
        {
          "output_type": "execute_result",
          "data": {
            "text/plain": [
              "str"
            ]
          },
          "metadata": {
            "tags": []
          },
          "execution_count": 35
        }
      ]
    },
    {
      "cell_type": "code",
      "metadata": {
        "id": "pQvhpa_jPXdk"
      },
      "source": [
        "my_bros_phone = my_phone"
      ],
      "execution_count": null,
      "outputs": []
    },
    {
      "cell_type": "code",
      "metadata": {
        "id": "XAZhBojGPeHy",
        "outputId": "58cd5e33-b43a-403f-a9aa-a459cf91bd10",
        "colab": {
          "base_uri": "https://localhost:8080/",
          "height": 34
        }
      },
      "source": [
        "print(my_bros_phone)"
      ],
      "execution_count": null,
      "outputs": [
        {
          "output_type": "stream",
          "text": [
            "['iPhone 7 Plus', True, 5.3]\n"
          ],
          "name": "stdout"
        }
      ]
    },
    {
      "cell_type": "code",
      "metadata": {
        "id": "PViQA8BCPgu2",
        "outputId": "19c01370-1130-481f-c225-e0868fed1fc7",
        "colab": {
          "base_uri": "https://localhost:8080/",
          "height": 34
        }
      },
      "source": [
        "my_phone[1:3]"
      ],
      "execution_count": null,
      "outputs": [
        {
          "output_type": "execute_result",
          "data": {
            "text/plain": [
              "[True, 5.3]"
            ]
          },
          "metadata": {
            "tags": []
          },
          "execution_count": 38
        }
      ]
    },
    {
      "cell_type": "code",
      "metadata": {
        "id": "Rcnbh2W4Pm-2",
        "outputId": "6f13e2db-f314-42fe-ac69-a27362ca2ef5",
        "colab": {
          "base_uri": "https://localhost:8080/",
          "height": 34
        }
      },
      "source": [
        "my_phone[0:-1]"
      ],
      "execution_count": null,
      "outputs": [
        {
          "output_type": "execute_result",
          "data": {
            "text/plain": [
              "['iPhone 7 Plus', True]"
            ]
          },
          "metadata": {
            "tags": []
          },
          "execution_count": 46
        }
      ]
    },
    {
      "cell_type": "code",
      "metadata": {
        "id": "FCARYR-_Ps7N"
      },
      "source": [
        "my_phone[2]=5.2"
      ],
      "execution_count": null,
      "outputs": []
    },
    {
      "cell_type": "code",
      "metadata": {
        "id": "XEwJLvxDQRjY",
        "outputId": "ac928bc8-6944-44d6-c45e-78a2bf30a460",
        "colab": {
          "base_uri": "https://localhost:8080/",
          "height": 34
        }
      },
      "source": [
        "print(my_phone)"
      ],
      "execution_count": null,
      "outputs": [
        {
          "output_type": "stream",
          "text": [
            "['iPhone 7 Plus', True, 5.2, 13.4, 1, 'airtel']\n"
          ],
          "name": "stdout"
        }
      ]
    },
    {
      "cell_type": "code",
      "metadata": {
        "id": "-CvEeLyiQTvn",
        "outputId": "7e8fecbd-5161-4716-be39-177b5da990f5",
        "colab": {
          "base_uri": "https://localhost:8080/",
          "height": 34
        }
      },
      "source": [
        "print(my_bros_phone)"
      ],
      "execution_count": null,
      "outputs": [
        {
          "output_type": "stream",
          "text": [
            "['iPhone 7 Plus', True, 5.1]\n"
          ],
          "name": "stdout"
        }
      ]
    },
    {
      "cell_type": "code",
      "metadata": {
        "id": "wn1h2YopQaig"
      },
      "source": [
        "my_bros_phone = list(my_phone)\n",
        "# my_bros_phone = my_phone[:]"
      ],
      "execution_count": null,
      "outputs": []
    },
    {
      "cell_type": "code",
      "metadata": {
        "id": "KEj0Uep4Qe2A",
        "outputId": "a913fe50-2253-455a-e6ba-b1d54560702b",
        "colab": {
          "base_uri": "https://localhost:8080/",
          "height": 34
        }
      },
      "source": [
        "len(my_phone)"
      ],
      "execution_count": null,
      "outputs": [
        {
          "output_type": "execute_result",
          "data": {
            "text/plain": [
              "4"
            ]
          },
          "metadata": {
            "tags": []
          },
          "execution_count": 63
        }
      ]
    },
    {
      "cell_type": "code",
      "metadata": {
        "id": "0RaETRDvRbUQ"
      },
      "source": [
        "len?"
      ],
      "execution_count": null,
      "outputs": []
    },
    {
      "cell_type": "code",
      "metadata": {
        "id": "ANZjUVv9Rf5S"
      },
      "source": [
        "my_phone.append(13.4)"
      ],
      "execution_count": null,
      "outputs": []
    },
    {
      "cell_type": "code",
      "metadata": {
        "id": "rhSnakbZRvsB"
      },
      "source": [
        "my_phone.remove(13.4)"
      ],
      "execution_count": null,
      "outputs": []
    },
    {
      "cell_type": "code",
      "metadata": {
        "id": "lEJLC-d6SL5f"
      },
      "source": [
        "sim_details = [1,'airtel']"
      ],
      "execution_count": null,
      "outputs": []
    },
    {
      "cell_type": "code",
      "metadata": {
        "id": "CupV_f3dTedw"
      },
      "source": [
        "my_phone = my_phone + sim_details"
      ],
      "execution_count": null,
      "outputs": []
    },
    {
      "cell_type": "code",
      "metadata": {
        "id": "reJTcST8TixO",
        "outputId": "8fe90e3a-4e83-41b0-c56c-a9b7a33dee94",
        "colab": {
          "base_uri": "https://localhost:8080/",
          "height": 119
        }
      },
      "source": [
        "for data in my_phone:\n",
        "    print(data)"
      ],
      "execution_count": null,
      "outputs": [
        {
          "output_type": "stream",
          "text": [
            "iPhone 7 Plus\n",
            "True\n",
            "5.2\n",
            "13.4\n",
            "1\n",
            "airtel\n"
          ],
          "name": "stdout"
        }
      ]
    },
    {
      "cell_type": "code",
      "metadata": {
        "id": "QkykaWtiTvLf",
        "outputId": "904c7834-0432-4ecd-a0e9-78dad3a64ef1",
        "colab": {
          "base_uri": "https://localhost:8080/",
          "height": 34
        }
      },
      "source": [
        "range(5)"
      ],
      "execution_count": null,
      "outputs": [
        {
          "output_type": "execute_result",
          "data": {
            "text/plain": [
              "range(0, 5)"
            ]
          },
          "metadata": {
            "tags": []
          },
          "execution_count": 68
        }
      ]
    },
    {
      "cell_type": "code",
      "metadata": {
        "id": "0w0voHzRT4fP",
        "outputId": "61a9be7d-7559-454b-d461-07b4f6bd27ba",
        "colab": {
          "base_uri": "https://localhost:8080/",
          "height": 34
        }
      },
      "source": [
        "print(list((range(5))))"
      ],
      "execution_count": null,
      "outputs": [
        {
          "output_type": "stream",
          "text": [
            "[0, 1, 2, 3, 4]\n"
          ],
          "name": "stdout"
        }
      ]
    },
    {
      "cell_type": "code",
      "metadata": {
        "id": "HyhZ5581T9ag"
      },
      "source": [
        "a = list(range(5))"
      ],
      "execution_count": null,
      "outputs": []
    },
    {
      "cell_type": "code",
      "metadata": {
        "id": "5yx17zPtUpBa",
        "outputId": "f4e3ee0a-9046-4f63-dcff-45fec3fcd575",
        "colab": {
          "base_uri": "https://localhost:8080/",
          "height": 34
        }
      },
      "source": [
        "print(a)"
      ],
      "execution_count": null,
      "outputs": [
        {
          "output_type": "stream",
          "text": [
            "[0, 1, 2, 3, 4]\n"
          ],
          "name": "stdout"
        }
      ]
    },
    {
      "cell_type": "code",
      "metadata": {
        "id": "-CRsiS2FUqET"
      },
      "source": [
        "b = list(map(lambda x : x**2, a))"
      ],
      "execution_count": null,
      "outputs": []
    },
    {
      "cell_type": "code",
      "metadata": {
        "id": "Ob6XIQhtUxie",
        "outputId": "cce7551d-030f-477c-a612-e474b2638929",
        "colab": {
          "base_uri": "https://localhost:8080/",
          "height": 34
        }
      },
      "source": [
        "print(b)"
      ],
      "execution_count": null,
      "outputs": [
        {
          "output_type": "stream",
          "text": [
            "[0, 1, 4, 9, 16]\n"
          ],
          "name": "stdout"
        }
      ]
    },
    {
      "cell_type": "code",
      "metadata": {
        "id": "0gog6VU2UyvX"
      },
      "source": [
        "c = list(filter(lambda  x : x%2==0 , b))"
      ],
      "execution_count": null,
      "outputs": []
    },
    {
      "cell_type": "code",
      "metadata": {
        "id": "fqqBtRH5oq7t",
        "outputId": "cc8cbe22-68fb-494a-d0d4-39806a77513b",
        "colab": {
          "base_uri": "https://localhost:8080/",
          "height": 34
        }
      },
      "source": [
        "print(c)"
      ],
      "execution_count": null,
      "outputs": [
        {
          "output_type": "stream",
          "text": [
            "[0, 4, 16]\n"
          ],
          "name": "stdout"
        }
      ]
    },
    {
      "cell_type": "code",
      "metadata": {
        "id": "LrSIMCHMosiy"
      },
      "source": [
        ""
      ],
      "execution_count": null,
      "outputs": []
    },
    {
      "cell_type": "markdown",
      "metadata": {
        "id": "nAJ4fQMSpDln"
      },
      "source": [
        "# Tuples, Sets and Dictionaries"
      ]
    },
    {
      "cell_type": "code",
      "metadata": {
        "id": "pD4TDxOgpHfx",
        "outputId": "5b8cbe03-e99f-4557-c0ad-9b7d561acb12",
        "colab": {
          "base_uri": "https://localhost:8080/",
          "height": 51
        }
      },
      "source": [
        "my_phone_tuple = ('7Plus',128,'black')\n",
        "print(my_phone_tuple)\n",
        "print(type(my_phone_tuple))"
      ],
      "execution_count": null,
      "outputs": [
        {
          "output_type": "stream",
          "text": [
            "('7Plus', 128, 'black')\n",
            "<class 'tuple'>\n"
          ],
          "name": "stdout"
        }
      ]
    },
    {
      "cell_type": "code",
      "metadata": {
        "id": "JU9WfMq7qkQd",
        "outputId": "6e32a75d-5eca-4d2b-f4c2-acee6c68c4a2",
        "colab": {
          "base_uri": "https://localhost:8080/",
          "height": 34
        }
      },
      "source": [
        "my_phone_tuple[2]"
      ],
      "execution_count": null,
      "outputs": [
        {
          "output_type": "execute_result",
          "data": {
            "text/plain": [
              "'black'"
            ]
          },
          "metadata": {
            "tags": []
          },
          "execution_count": 80
        }
      ]
    },
    {
      "cell_type": "code",
      "metadata": {
        "id": "iqLFRTBrrxR0"
      },
      "source": [
        "my_phone_tuple[2] = 'red'"
      ],
      "execution_count": null,
      "outputs": []
    },
    {
      "cell_type": "code",
      "metadata": {
        "id": "aJ2WC08ssHsm"
      },
      "source": [
        "import time\n",
        "tic = time.time()"
      ],
      "execution_count": null,
      "outputs": []
    },
    {
      "cell_type": "code",
      "metadata": {
        "id": "mP_HjhkWsLDy",
        "outputId": "37a2119c-54da-43e1-8c3d-ae6b589eeed7",
        "colab": {
          "base_uri": "https://localhost:8080/",
          "height": 34
        }
      },
      "source": [
        "print(tic)"
      ],
      "execution_count": null,
      "outputs": [
        {
          "output_type": "stream",
          "text": [
            "1586012140.0313647\n"
          ],
          "name": "stdout"
        }
      ]
    },
    {
      "cell_type": "code",
      "metadata": {
        "id": "ZMrlHP78sMmU",
        "outputId": "635799c5-9cf8-43d3-a93a-9b65f2e0eec6",
        "colab": {
          "base_uri": "https://localhost:8080/",
          "height": 34
        }
      },
      "source": [
        "tic = time.time()\n",
        "#do something\n",
        "toc = time.time()\n",
        "print(\"Elapsed time in seconds \", toc - tic)"
      ],
      "execution_count": null,
      "outputs": [
        {
          "output_type": "stream",
          "text": [
            "Elapsed time in seconds  2.8133392333984375e-05\n"
          ],
          "name": "stdout"
        }
      ]
    },
    {
      "cell_type": "code",
      "metadata": {
        "id": "wl2l6OB2sToN",
        "outputId": "263ff984-f83d-4f97-d41a-4480b5b413c3",
        "colab": {
          "base_uri": "https://localhost:8080/",
          "height": 34
        }
      },
      "source": [
        "my_list = list(range(100000))\n",
        "tic = time.time()\n",
        "my_squared_list = map(lambda x : x**2, my_list)\n",
        "toc = time.time()\n",
        "print('Time taken = ', toc-tic)"
      ],
      "execution_count": null,
      "outputs": [
        {
          "output_type": "stream",
          "text": [
            "Time taken =  0.0011279582977294922\n"
          ],
          "name": "stdout"
        }
      ]
    },
    {
      "cell_type": "code",
      "metadata": {
        "id": "-jzgeqM_tjaz",
        "outputId": "51606760-f024-403f-bfc0-792ef0a36ede",
        "colab": {
          "base_uri": "https://localhost:8080/",
          "height": 34
        }
      },
      "source": [
        "my_tuple = tuple(range(100000))\n",
        "tic = time.time()\n",
        "my_squared_tuple = map(lambda x : x**2, my_tuple)\n",
        "toc = time.time()\n",
        "print('Time taken = ', toc-tic)"
      ],
      "execution_count": null,
      "outputs": [
        {
          "output_type": "stream",
          "text": [
            "Time taken =  0.0024263858795166016\n"
          ],
          "name": "stdout"
        }
      ]
    },
    {
      "cell_type": "code",
      "metadata": {
        "id": "kXJA8xgUttYm",
        "outputId": "feb94c18-11c9-4aff-c295-b61f7eaf1235",
        "colab": {
          "base_uri": "https://localhost:8080/",
          "height": 34
        }
      },
      "source": [
        "my_set = set(my_phone)\n",
        "print(my_set)"
      ],
      "execution_count": null,
      "outputs": [
        {
          "output_type": "stream",
          "text": [
            "{True, 5.2, 'iPhone 7 Plus', 13.4, 'airtel'}\n"
          ],
          "name": "stdout"
        }
      ]
    },
    {
      "cell_type": "code",
      "metadata": {
        "id": "41XsGqmCvWid",
        "outputId": "c251a410-3bab-4d0c-d018-e65f1c562d61",
        "colab": {
          "base_uri": "https://localhost:8080/",
          "height": 34
        }
      },
      "source": [
        "my_phone.append(13.4)\n",
        "print(my_phone)"
      ],
      "execution_count": null,
      "outputs": [
        {
          "output_type": "stream",
          "text": [
            "['iPhone 7 Plus', True, 5.2, 13.4, 1, 'airtel', 13.4]\n"
          ],
          "name": "stdout"
        }
      ]
    },
    {
      "cell_type": "code",
      "metadata": {
        "id": "rXYgXfiTvcpO",
        "outputId": "5e51ca68-9ccc-457a-a01c-52857adeccf7",
        "colab": {
          "base_uri": "https://localhost:8080/",
          "height": 34
        }
      },
      "source": [
        "my_set = set(my_phone)\n",
        "print(my_set)"
      ],
      "execution_count": null,
      "outputs": [
        {
          "output_type": "stream",
          "text": [
            "{True, 5.2, 'iPhone 7 Plus', 13.4, 'airtel'}\n"
          ],
          "name": "stdout"
        }
      ]
    },
    {
      "cell_type": "code",
      "metadata": {
        "id": "23VlCWwmvfsr",
        "outputId": "ca63c337-b6e0-474a-9b25-0515d6255f46",
        "colab": {
          "base_uri": "https://localhost:8080/",
          "height": 85
        }
      },
      "source": [
        "my_list = list(range(100000))\n",
        "tic = time.time()\n",
        "print(1253 in my_list)\n",
        "print(95684 in my_list)\n",
        "print(1111253 in my_list)\n",
        "toc = time.time()\n",
        "print('Elapsed time ', toc-tic)"
      ],
      "execution_count": null,
      "outputs": [
        {
          "output_type": "stream",
          "text": [
            "True\n",
            "True\n",
            "False\n",
            "Elapsed time  0.002855062484741211\n"
          ],
          "name": "stdout"
        }
      ]
    },
    {
      "cell_type": "code",
      "metadata": {
        "id": "zD1MAWcIwdSZ",
        "outputId": "4db818e2-04e3-4850-e802-452b0dbc26dd",
        "colab": {
          "base_uri": "https://localhost:8080/",
          "height": 85
        }
      },
      "source": [
        "my_set = set(range(100000))\n",
        "tic = time.time()\n",
        "print(1253 in my_set)\n",
        "print(95684 in my_set)\n",
        "print(1111253 in my_set)\n",
        "toc = time.time()\n",
        "print('Elapsed time ', toc-tic)"
      ],
      "execution_count": null,
      "outputs": [
        {
          "output_type": "stream",
          "text": [
            "True\n",
            "True\n",
            "False\n",
            "Elapsed time  0.000392913818359375\n"
          ],
          "name": "stdout"
        }
      ]
    },
    {
      "cell_type": "code",
      "metadata": {
        "id": "Hyr_2FgCwlqe",
        "outputId": "ef9a494b-11e6-440b-ccef-c609dc915b81",
        "colab": {
          "base_uri": "https://localhost:8080/",
          "height": 34
        }
      },
      "source": [
        "my_phone_dict = {}\n",
        "type(my_phone_dict)"
      ],
      "execution_count": null,
      "outputs": [
        {
          "output_type": "execute_result",
          "data": {
            "text/plain": [
              "dict"
            ]
          },
          "metadata": {
            "tags": []
          },
          "execution_count": 113
        }
      ]
    },
    {
      "cell_type": "code",
      "metadata": {
        "id": "B5i6QESaw-j-"
      },
      "source": [
        "my_phone_dict['name'] = 'iPhone7Plus'\n",
        "my_phone_dict['color'] = 'Black'\n",
        "my_phone_dict['storage'] = '128'"
      ],
      "execution_count": null,
      "outputs": []
    },
    {
      "cell_type": "code",
      "metadata": {
        "id": "ZvJmH9GmxZa5",
        "outputId": "84cb3adc-11f3-4074-f5e1-a8c2ddb19513",
        "colab": {
          "base_uri": "https://localhost:8080/",
          "height": 34
        }
      },
      "source": [
        "print(my_phone_dict)"
      ],
      "execution_count": null,
      "outputs": [
        {
          "output_type": "stream",
          "text": [
            "{'name': 'iPhone7Plus', 'color': 'Black', 'storage': '128'}\n"
          ],
          "name": "stdout"
        }
      ]
    },
    {
      "cell_type": "code",
      "metadata": {
        "id": "InIw2shOxeH0",
        "outputId": "ff5db262-1144-4078-9ae7-73b1dd87dfaa",
        "colab": {
          "base_uri": "https://localhost:8080/",
          "height": 34
        }
      },
      "source": [
        "print(my_phone_dict['name'])"
      ],
      "execution_count": null,
      "outputs": [
        {
          "output_type": "stream",
          "text": [
            "iPhone7Plus\n"
          ],
          "name": "stdout"
        }
      ]
    },
    {
      "cell_type": "code",
      "metadata": {
        "id": "f18WnGCtxhIL",
        "outputId": "9f56d9f0-bd63-4de0-aae6-21139cd3874d",
        "colab": {
          "base_uri": "https://localhost:8080/",
          "height": 34
        }
      },
      "source": [
        "print(my_phone_dict.keys())"
      ],
      "execution_count": null,
      "outputs": [
        {
          "output_type": "stream",
          "text": [
            "dict_keys(['name', 'color', 'storage'])\n"
          ],
          "name": "stdout"
        }
      ]
    },
    {
      "cell_type": "code",
      "metadata": {
        "id": "AuvCKzt7xxYP",
        "outputId": "83fd774d-b163-42c3-8305-df99b757d9ed",
        "colab": {
          "base_uri": "https://localhost:8080/",
          "height": 34
        }
      },
      "source": [
        "print(my_phone_dict.values())"
      ],
      "execution_count": null,
      "outputs": [
        {
          "output_type": "stream",
          "text": [
            "dict_values(['iPhone7Plus', 'Black', '128'])\n"
          ],
          "name": "stdout"
        }
      ]
    },
    {
      "cell_type": "code",
      "metadata": {
        "id": "C_5ysMVIx2k6",
        "outputId": "2c166146-cfb9-474e-8a28-0e2602c2fd00",
        "colab": {
          "base_uri": "https://localhost:8080/",
          "height": 34
        }
      },
      "source": [
        "print(my_phone_dict.items())"
      ],
      "execution_count": null,
      "outputs": [
        {
          "output_type": "stream",
          "text": [
            "dict_items([('name', 'iPhone7Plus'), ('color', 'Black'), ('storage', '128')])\n"
          ],
          "name": "stdout"
        }
      ]
    },
    {
      "cell_type": "code",
      "metadata": {
        "id": "OTrp2wHdx5Ky",
        "outputId": "5b36a086-c761-4671-fbb4-163cdbdc19d9",
        "colab": {
          "base_uri": "https://localhost:8080/",
          "height": 68
        }
      },
      "source": [
        "for key in my_phone_dict.keys():\n",
        "    print(key, ':', my_phone_dict[key])"
      ],
      "execution_count": null,
      "outputs": [
        {
          "output_type": "stream",
          "text": [
            "name : iPhone7Plus\n",
            "color : Black\n",
            "storage : 128\n"
          ],
          "name": "stdout"
        }
      ]
    },
    {
      "cell_type": "code",
      "metadata": {
        "id": "emxiIIltyU1x"
      },
      "source": [
        ""
      ],
      "execution_count": null,
      "outputs": []
    },
    {
      "cell_type": "markdown",
      "metadata": {
        "id": "ICDFjAtyyqG3"
      },
      "source": [
        "# Packages"
      ]
    },
    {
      "cell_type": "code",
      "metadata": {
        "id": "hSi5DZChysS0"
      },
      "source": [
        "import math"
      ],
      "execution_count": null,
      "outputs": []
    },
    {
      "cell_type": "code",
      "metadata": {
        "id": "8qMe57Umy-Pf",
        "outputId": "6781fed3-1b4f-413d-e95b-5d79bfc51d9b",
        "colab": {
          "base_uri": "https://localhost:8080/",
          "height": 34
        }
      },
      "source": [
        "a = math.sqrt(4)\n",
        "print(a)"
      ],
      "execution_count": null,
      "outputs": [
        {
          "output_type": "stream",
          "text": [
            "2.0\n"
          ],
          "name": "stdout"
        }
      ]
    },
    {
      "cell_type": "code",
      "metadata": {
        "id": "ObVRmgdvzCco",
        "outputId": "bdd9bce4-359e-4889-f768-faaadab21bfc",
        "colab": {
          "base_uri": "https://localhost:8080/",
          "height": 34
        }
      },
      "source": [
        "b = math.pow(4,3)\n",
        "print(b)"
      ],
      "execution_count": null,
      "outputs": [
        {
          "output_type": "stream",
          "text": [
            "64.0\n"
          ],
          "name": "stdout"
        }
      ]
    },
    {
      "cell_type": "code",
      "metadata": {
        "id": "F0y57v9HzYoZ",
        "outputId": "6ab609f5-20d8-4318-a410-f4825a908d88",
        "colab": {
          "base_uri": "https://localhost:8080/",
          "height": 54
        }
      },
      "source": [
        "x = 100\n",
        "y = 1\n",
        "for i in range(1,x+1):\n",
        "    y = y * i\n",
        "print('Factorial is ', y)"
      ],
      "execution_count": null,
      "outputs": [
        {
          "output_type": "stream",
          "text": [
            "Factorial is  93326215443944152681699238856266700490715968264381621468592963895217599993229915608941463976156518286253697920827223758251185210916864000000000000000000000000\n"
          ],
          "name": "stdout"
        }
      ]
    },
    {
      "cell_type": "code",
      "metadata": {
        "id": "r3Jp8lITzq0R",
        "outputId": "4dbf43c5-133d-4490-8da1-2c9f1daca31f",
        "colab": {
          "base_uri": "https://localhost:8080/",
          "height": 54
        }
      },
      "source": [
        "y = math.factorial(100)\n",
        "print(y)"
      ],
      "execution_count": null,
      "outputs": [
        {
          "output_type": "stream",
          "text": [
            "93326215443944152681699238856266700490715968264381621468592963895217599993229915608941463976156518286253697920827223758251185210916864000000000000000000000000\n"
          ],
          "name": "stdout"
        }
      ]
    },
    {
      "cell_type": "code",
      "metadata": {
        "id": "qdvi7jqJz3t6"
      },
      "source": [
        "import math as m\n",
        "x = m.factorial(50)"
      ],
      "execution_count": null,
      "outputs": []
    },
    {
      "cell_type": "code",
      "metadata": {
        "id": "Q4wGOOZO0K6N"
      },
      "source": [
        "from math import factorial\n",
        "x = factorial(100)"
      ],
      "execution_count": null,
      "outputs": []
    },
    {
      "cell_type": "code",
      "metadata": {
        "id": "DWTf25C-0P3D",
        "outputId": "71ff3706-4ee3-493e-c198-b91e5a7bd1cc",
        "colab": {
          "base_uri": "https://localhost:8080/",
          "height": 51
        }
      },
      "source": [
        "vals = list(range(1,100))\n",
        "tic = time.time()\n",
        "for x in vals:\n",
        "    y = 1\n",
        "    for i in range(1,x):\n",
        "            y = y * i\n",
        "toc = time.time()\n",
        "print('Time elapsed ', toc-tic)\n",
        "\n",
        "tic = time.time()\n",
        "for x in vals:\n",
        "    y = math.factorial(x)\n",
        "toc = time.time()\n",
        "print('Time elapsed now ', toc-tic)"
      ],
      "execution_count": null,
      "outputs": [
        {
          "output_type": "stream",
          "text": [
            "Time elapsed  0.0006315708160400391\n",
            "Time elapsed now  0.00016570091247558594\n"
          ],
          "name": "stdout"
        }
      ]
    },
    {
      "cell_type": "code",
      "metadata": {
        "id": "tPEfi-171PFB"
      },
      "source": [
        ""
      ],
      "execution_count": null,
      "outputs": []
    },
    {
      "cell_type": "markdown",
      "metadata": {
        "id": "__Mb4AE0CliO"
      },
      "source": [
        "# File Handling"
      ]
    },
    {
      "cell_type": "markdown",
      "metadata": {
        "id": "XEhUxKk1BfQq"
      },
      "source": [
        "Keep this pending//"
      ]
    },
    {
      "cell_type": "code",
      "metadata": {
        "id": "sIw0oX5-Coo3"
      },
      "source": [
        ""
      ],
      "execution_count": null,
      "outputs": []
    },
    {
      "cell_type": "markdown",
      "metadata": {
        "id": "pO1f8nADBhQv"
      },
      "source": [
        "# Classes"
      ]
    },
    {
      "cell_type": "code",
      "metadata": {
        "id": "lI05usi1Bjfo"
      },
      "source": [
        "class MobilePhone:\n",
        "    '''Sample Class'''\n",
        "    def __init__(self, name, screen = 5.3):\n",
        "        self.name = name\n",
        "        self.screen = screen\n",
        "        self.rating = -1\n",
        "\n",
        "    def get_rating(self):\n",
        "        return self.rating > -1"
      ],
      "execution_count": null,
      "outputs": []
    },
    {
      "cell_type": "code",
      "metadata": {
        "id": "jRGSizWnBxXs"
      },
      "source": [
        "new_phone = MobilePhone('iPhone5s', 5.1)"
      ],
      "execution_count": null,
      "outputs": []
    },
    {
      "cell_type": "code",
      "metadata": {
        "id": "mPQ-FWcuB1kJ",
        "outputId": "cb9e0b73-599b-4b9c-98e6-fcc13ae84b0c",
        "colab": {
          "base_uri": "https://localhost:8080/",
          "height": 34
        }
      },
      "source": [
        "type(new_phone)"
      ],
      "execution_count": null,
      "outputs": [
        {
          "output_type": "execute_result",
          "data": {
            "text/plain": [
              "__main__.MobilePhone"
            ]
          },
          "metadata": {
            "tags": []
          },
          "execution_count": 10
        }
      ]
    },
    {
      "cell_type": "code",
      "metadata": {
        "id": "wj2rbwFuCVK7",
        "outputId": "429c67ce-401a-4cff-dd1d-391eda8face5",
        "colab": {
          "base_uri": "https://localhost:8080/",
          "height": 34
        }
      },
      "source": [
        "print(new_phone.screen)"
      ],
      "execution_count": null,
      "outputs": [
        {
          "output_type": "stream",
          "text": [
            "5.1\n"
          ],
          "name": "stdout"
        }
      ]
    },
    {
      "cell_type": "code",
      "metadata": {
        "id": "NNa1B1hjC7tk",
        "outputId": "632e40d6-802d-44bc-d6d5-d297065b1131",
        "colab": {
          "base_uri": "https://localhost:8080/",
          "height": 34
        }
      },
      "source": [
        "print(new_phone)"
      ],
      "execution_count": null,
      "outputs": [
        {
          "output_type": "stream",
          "text": [
            "<__main__.MobilePhone object at 0x7f0bf3359208>\n"
          ],
          "name": "stdout"
        }
      ]
    },
    {
      "cell_type": "code",
      "metadata": {
        "id": "64J6O76ADTPM",
        "outputId": "864e1743-a108-4432-f3c9-983f1c94bce6",
        "colab": {
          "base_uri": "https://localhost:8080/",
          "height": 34
        }
      },
      "source": [
        "new_phone.get_rating()"
      ],
      "execution_count": null,
      "outputs": [
        {
          "output_type": "execute_result",
          "data": {
            "text/plain": [
              "True"
            ]
          },
          "metadata": {
            "tags": []
          },
          "execution_count": 37
        }
      ]
    },
    {
      "cell_type": "code",
      "metadata": {
        "id": "Z77zu_EED5Ih"
      },
      "source": [
        "new_phone.rating = 5"
      ],
      "execution_count": null,
      "outputs": []
    },
    {
      "cell_type": "code",
      "metadata": {
        "id": "U8_TdmCzEbWW",
        "outputId": "700b9bae-d67d-4567-f3ea-5e5e6efbd4a9",
        "colab": {
          "base_uri": "https://localhost:8080/",
          "height": 34
        }
      },
      "source": [
        "MobilePhone.__doc__\n",
        "#MobilePhone?"
      ],
      "execution_count": null,
      "outputs": [
        {
          "output_type": "execute_result",
          "data": {
            "text/plain": [
              "'Sample Class'"
            ]
          },
          "metadata": {
            "tags": []
          },
          "execution_count": 41
        }
      ]
    },
    {
      "cell_type": "code",
      "metadata": {
        "id": "Li9ma-0OEeiS"
      },
      "source": [
        "class iPhone(MobilePhone):\n",
        "    def __init__(self, name):\n",
        "        MobilePhone.__init__(self, name,5.0)\n",
        "\n",
        "    def __str__(self):\n",
        "        return self.name + \" Changing the print statement\" + str(self.screen)"
      ],
      "execution_count": null,
      "outputs": []
    },
    {
      "cell_type": "code",
      "metadata": {
        "id": "AqckulRYFxbU"
      },
      "source": [
        "new_iPhone = iPhone('iPhone--5s')"
      ],
      "execution_count": null,
      "outputs": []
    },
    {
      "cell_type": "code",
      "metadata": {
        "id": "HL9yTN4HF6oU",
        "outputId": "5967d005-1112-4366-ded7-d44e4fdca0a0",
        "colab": {
          "base_uri": "https://localhost:8080/",
          "height": 34
        }
      },
      "source": [
        "new_iPhone.screen"
      ],
      "execution_count": null,
      "outputs": [
        {
          "output_type": "execute_result",
          "data": {
            "text/plain": [
              "5.0"
            ]
          },
          "metadata": {
            "tags": []
          },
          "execution_count": 44
        }
      ]
    },
    {
      "cell_type": "code",
      "metadata": {
        "id": "-lDHBYYWF-ld",
        "outputId": "d52910e9-5dac-44ff-bfe0-e27a89cef243",
        "colab": {
          "base_uri": "https://localhost:8080/",
          "height": 34
        }
      },
      "source": [
        "print(new_iPhone)"
      ],
      "execution_count": null,
      "outputs": [
        {
          "output_type": "stream",
          "text": [
            "<__main__.iPhone object at 0x7f0bf3372cf8>\n"
          ],
          "name": "stdout"
        }
      ]
    },
    {
      "cell_type": "code",
      "metadata": {
        "id": "7kSSSVeBGBoc",
        "outputId": "b6d5306f-8ec9-4753-ea66-ab5d77100bda",
        "colab": {
          "base_uri": "https://localhost:8080/",
          "height": 34
        }
      },
      "source": [
        "print(new_iPhone)"
      ],
      "execution_count": null,
      "outputs": [
        {
          "output_type": "stream",
          "text": [
            "iPhone--5s Changing the print statement5.0\n"
          ],
          "name": "stdout"
        }
      ]
    },
    {
      "cell_type": "markdown",
      "metadata": {
        "id": "xbES8czvHTXJ"
      },
      "source": [
        "# Numpy Basics"
      ]
    },
    {
      "cell_type": "code",
      "metadata": {
        "id": "0nX5cMzbGTb6"
      },
      "source": [
        "import numpy as np"
      ],
      "execution_count": null,
      "outputs": []
    },
    {
      "cell_type": "code",
      "metadata": {
        "id": "gTdqUjG-HXgz",
        "outputId": "9d29ac0f-24f3-4003-ba55-acf4c496a142",
        "colab": {
          "base_uri": "https://localhost:8080/",
          "height": 34
        }
      },
      "source": [
        "x = np.array([1,2,3])\n",
        "print(x)"
      ],
      "execution_count": null,
      "outputs": [
        {
          "output_type": "stream",
          "text": [
            "[1 2 3]\n"
          ],
          "name": "stdout"
        }
      ]
    },
    {
      "cell_type": "code",
      "metadata": {
        "id": "X0eLiCYRHlZk",
        "outputId": "769a103f-86e1-4215-c546-c7231234a87b",
        "colab": {
          "base_uri": "https://localhost:8080/",
          "height": 34
        }
      },
      "source": [
        "type(x)"
      ],
      "execution_count": null,
      "outputs": [
        {
          "output_type": "execute_result",
          "data": {
            "text/plain": [
              "numpy.ndarray"
            ]
          },
          "metadata": {
            "tags": []
          },
          "execution_count": 61
        }
      ]
    },
    {
      "cell_type": "code",
      "metadata": {
        "id": "HbRN9H0zHmvX",
        "outputId": "4ab2bb3f-e216-401d-af42-8e1d5286d356",
        "colab": {
          "base_uri": "https://localhost:8080/",
          "height": 34
        }
      },
      "source": [
        "l = ([4,5,6])\n",
        "x = np.array(l)\n",
        "print(x)"
      ],
      "execution_count": null,
      "outputs": [
        {
          "output_type": "stream",
          "text": [
            "[4 5 6]\n"
          ],
          "name": "stdout"
        }
      ]
    },
    {
      "cell_type": "code",
      "metadata": {
        "id": "rdbYt22ZH5St",
        "outputId": "f5f70231-1bb1-4473-c25d-b39f5e4304a2",
        "colab": {
          "base_uri": "https://localhost:8080/",
          "height": 34
        }
      },
      "source": [
        "type(x)"
      ],
      "execution_count": null,
      "outputs": [
        {
          "output_type": "execute_result",
          "data": {
            "text/plain": [
              "numpy.ndarray"
            ]
          },
          "metadata": {
            "tags": []
          },
          "execution_count": 64
        }
      ]
    },
    {
      "cell_type": "code",
      "metadata": {
        "id": "YngNRI9JH8mf",
        "outputId": "70fcc0ca-6d03-48ca-d1fd-b580bc2b8152",
        "colab": {
          "base_uri": "https://localhost:8080/",
          "height": 34
        }
      },
      "source": [
        "x = np.asarray(l,float)\n",
        "print(x)"
      ],
      "execution_count": null,
      "outputs": [
        {
          "output_type": "stream",
          "text": [
            "[4. 5. 6.]\n"
          ],
          "name": "stdout"
        }
      ]
    },
    {
      "cell_type": "code",
      "metadata": {
        "id": "t2M7C4a-IGtK",
        "outputId": "9cd6a2f6-c464-4041-88fe-965675a84c81",
        "colab": {
          "base_uri": "https://localhost:8080/",
          "height": 34
        }
      },
      "source": [
        "x.shape"
      ],
      "execution_count": null,
      "outputs": [
        {
          "output_type": "execute_result",
          "data": {
            "text/plain": [
              "(3,)"
            ]
          },
          "metadata": {
            "tags": []
          },
          "execution_count": 66
        }
      ]
    },
    {
      "cell_type": "code",
      "metadata": {
        "id": "C7J2L6e2IOEP"
      },
      "source": [
        "np.array?"
      ],
      "execution_count": null,
      "outputs": []
    },
    {
      "cell_type": "code",
      "metadata": {
        "id": "R5831xXTIR9m",
        "outputId": "f78b3b3e-0bae-4ee6-87c1-58901b82af25",
        "colab": {
          "base_uri": "https://localhost:8080/",
          "height": 51
        }
      },
      "source": [
        "x = np.array([[1,5,9],[3,5,7]])\n",
        "print(x)"
      ],
      "execution_count": null,
      "outputs": [
        {
          "output_type": "stream",
          "text": [
            "[[1 5 9]\n",
            " [3 5 7]]\n"
          ],
          "name": "stdout"
        }
      ]
    },
    {
      "cell_type": "code",
      "metadata": {
        "id": "eHLMjtEyIjHf",
        "outputId": "b448f446-6fc9-4b7f-b5be-9f0f4425af04",
        "colab": {
          "base_uri": "https://localhost:8080/",
          "height": 34
        }
      },
      "source": [
        "x.shape"
      ],
      "execution_count": null,
      "outputs": [
        {
          "output_type": "execute_result",
          "data": {
            "text/plain": [
              "(2, 3)"
            ]
          },
          "metadata": {
            "tags": []
          },
          "execution_count": 70
        }
      ]
    },
    {
      "cell_type": "code",
      "metadata": {
        "id": "JvIB3AHLI5Uv",
        "outputId": "fd5dd0a8-874a-4f9a-948b-066ddfeb431d",
        "colab": {
          "base_uri": "https://localhost:8080/",
          "height": 34
        }
      },
      "source": [
        "x[0,1]"
      ],
      "execution_count": null,
      "outputs": [
        {
          "output_type": "execute_result",
          "data": {
            "text/plain": [
              "5"
            ]
          },
          "metadata": {
            "tags": []
          },
          "execution_count": 71
        }
      ]
    },
    {
      "cell_type": "code",
      "metadata": {
        "id": "UmZ40HgIJB0Z",
        "outputId": "98f0a018-0869-44f7-9173-12c32ecb527a",
        "colab": {
          "base_uri": "https://localhost:8080/",
          "height": 34
        }
      },
      "source": [
        "x[1,0:2]"
      ],
      "execution_count": null,
      "outputs": [
        {
          "output_type": "execute_result",
          "data": {
            "text/plain": [
              "array([3, 5])"
            ]
          },
          "metadata": {
            "tags": []
          },
          "execution_count": 72
        }
      ]
    },
    {
      "cell_type": "code",
      "metadata": {
        "id": "Z1vc0bWjJOZ_",
        "outputId": "c242562c-1351-40b3-cc3c-4a9a4ff30edb",
        "colab": {
          "base_uri": "https://localhost:8080/",
          "height": 34
        }
      },
      "source": [
        "x[0, :]"
      ],
      "execution_count": null,
      "outputs": [
        {
          "output_type": "execute_result",
          "data": {
            "text/plain": [
              "array([1, 5, 9])"
            ]
          },
          "metadata": {
            "tags": []
          },
          "execution_count": 73
        }
      ]
    },
    {
      "cell_type": "markdown",
      "metadata": {
        "id": "r1IwaPKQJssy"
      },
      "source": [
        "np.zeros inside is a tuple!!"
      ]
    },
    {
      "cell_type": "code",
      "metadata": {
        "id": "QK8UJJRmJT5b"
      },
      "source": [
        "x = np.zeros((4,5))"
      ],
      "execution_count": null,
      "outputs": []
    },
    {
      "cell_type": "code",
      "metadata": {
        "id": "SHLCC0fbJf1j",
        "outputId": "8e7d9f3c-ee98-494d-b58c-2994ad6aec88",
        "colab": {
          "base_uri": "https://localhost:8080/",
          "height": 85
        }
      },
      "source": [
        "print(x)"
      ],
      "execution_count": null,
      "outputs": [
        {
          "output_type": "stream",
          "text": [
            "[[0. 0. 0. 0. 0.]\n",
            " [0. 0. 0. 0. 0.]\n",
            " [0. 0. 0. 0. 0.]\n",
            " [0. 0. 0. 0. 0.]]\n"
          ],
          "name": "stdout"
        }
      ]
    },
    {
      "cell_type": "code",
      "metadata": {
        "id": "N_Q3niYlJ05N"
      },
      "source": [
        "x = np.eye(4,5)"
      ],
      "execution_count": null,
      "outputs": []
    },
    {
      "cell_type": "code",
      "metadata": {
        "id": "sQzZ0FS4KC2u",
        "outputId": "6b2e6bf8-4f31-474e-9c08-f16780905083",
        "colab": {
          "base_uri": "https://localhost:8080/",
          "height": 85
        }
      },
      "source": [
        "print(x)"
      ],
      "execution_count": null,
      "outputs": [
        {
          "output_type": "stream",
          "text": [
            "[[0.71323679 0.02994111 0.61341246 0.69951063 0.77729551]\n",
            " [0.19371705 0.65004938 0.47684019 0.11474767 0.28751238]\n",
            " [0.29347013 0.7167978  0.9106302  0.56352005 0.3520524 ]\n",
            " [0.33938211 0.31249435 0.18418447 0.61121413 0.41050454]]\n"
          ],
          "name": "stdout"
        }
      ]
    },
    {
      "cell_type": "code",
      "metadata": {
        "id": "t61OQrCEKD3M"
      },
      "source": [
        "x = np.random.random((4,5)) # takes a tuple inside"
      ],
      "execution_count": null,
      "outputs": []
    },
    {
      "cell_type": "code",
      "metadata": {
        "id": "c9HnRhk8KMSD",
        "outputId": "cd941cc1-5b0f-4e4c-f1e5-7d9f699b6b23",
        "colab": {
          "base_uri": "https://localhost:8080/",
          "height": 85
        }
      },
      "source": [
        "print(x)"
      ],
      "execution_count": null,
      "outputs": [
        {
          "output_type": "stream",
          "text": [
            "[[0.71323679 0.02994111 0.61341246 0.69951063 0.77729551]\n",
            " [0.19371705 0.65004938 0.47684019 0.11474767 0.28751238]\n",
            " [0.29347013 0.7167978  0.9106302  0.56352005 0.3520524 ]\n",
            " [0.33938211 0.31249435 0.18418447 0.61121413 0.41050454]]\n"
          ],
          "name": "stdout"
        }
      ]
    },
    {
      "cell_type": "markdown",
      "metadata": {
        "id": "s-wJc979KlDw"
      },
      "source": [
        "Transpose"
      ]
    },
    {
      "cell_type": "code",
      "metadata": {
        "id": "g-1dIJ8dKQsj"
      },
      "source": [
        "z = x.T"
      ],
      "execution_count": null,
      "outputs": []
    },
    {
      "cell_type": "code",
      "metadata": {
        "id": "Js3_SDl0Kfcf",
        "outputId": "41ef8f7f-54f4-4be1-f84f-57beac97f3cb",
        "colab": {
          "base_uri": "https://localhost:8080/",
          "height": 102
        }
      },
      "source": [
        "print(z)"
      ],
      "execution_count": null,
      "outputs": [
        {
          "output_type": "stream",
          "text": [
            "[[0.71323679 0.19371705 0.29347013 0.33938211]\n",
            " [0.02994111 0.65004938 0.7167978  0.31249435]\n",
            " [0.61341246 0.47684019 0.9106302  0.18418447]\n",
            " [0.69951063 0.11474767 0.56352005 0.61121413]\n",
            " [0.77729551 0.28751238 0.3520524  0.41050454]]\n"
          ],
          "name": "stdout"
        }
      ]
    },
    {
      "cell_type": "code",
      "metadata": {
        "id": "IoCnI95HKhf3"
      },
      "source": [
        "y = x.reshape(20,1)"
      ],
      "execution_count": null,
      "outputs": []
    },
    {
      "cell_type": "code",
      "metadata": {
        "id": "oJtezlmKK2rX",
        "outputId": "a8329dad-af6c-4723-967a-f47bc5d74e33",
        "colab": {
          "base_uri": "https://localhost:8080/",
          "height": 357
        }
      },
      "source": [
        "print(y)"
      ],
      "execution_count": null,
      "outputs": [
        {
          "output_type": "stream",
          "text": [
            "[[0.71323679]\n",
            " [0.02994111]\n",
            " [0.61341246]\n",
            " [0.69951063]\n",
            " [0.77729551]\n",
            " [0.19371705]\n",
            " [0.65004938]\n",
            " [0.47684019]\n",
            " [0.11474767]\n",
            " [0.28751238]\n",
            " [0.29347013]\n",
            " [0.7167978 ]\n",
            " [0.9106302 ]\n",
            " [0.56352005]\n",
            " [0.3520524 ]\n",
            " [0.33938211]\n",
            " [0.31249435]\n",
            " [0.18418447]\n",
            " [0.61121413]\n",
            " [0.41050454]]\n"
          ],
          "name": "stdout"
        }
      ]
    },
    {
      "cell_type": "code",
      "metadata": {
        "id": "E-KSznJRK3uO",
        "outputId": "04d70687-9efd-4d6a-a5d5-4529d7bc2781",
        "colab": {
          "base_uri": "https://localhost:8080/",
          "height": 34
        }
      },
      "source": [
        "a = np.arange(5)\n",
        "print(a)"
      ],
      "execution_count": null,
      "outputs": [
        {
          "output_type": "stream",
          "text": [
            "[0 1 2 3 4]\n"
          ],
          "name": "stdout"
        }
      ]
    },
    {
      "cell_type": "code",
      "metadata": {
        "id": "meBfFymrLUlF",
        "outputId": "f5970557-c626-4945-c47a-040707b70faf",
        "colab": {
          "base_uri": "https://localhost:8080/",
          "height": 34
        }
      },
      "source": [
        "b = np.arange(5)\n",
        "print(b)"
      ],
      "execution_count": null,
      "outputs": [
        {
          "output_type": "stream",
          "text": [
            "[0 1 2 3 4]\n"
          ],
          "name": "stdout"
        }
      ]
    },
    {
      "cell_type": "code",
      "metadata": {
        "id": "NB3BkfJOLWnc",
        "outputId": "8c46869e-d0aa-435f-9b75-eee866bacaf9",
        "colab": {
          "base_uri": "https://localhost:8080/",
          "height": 34
        }
      },
      "source": [
        "c = a + b\n",
        "d = a - b\n",
        "e = a * b\n",
        "print(c,d,e)"
      ],
      "execution_count": null,
      "outputs": [
        {
          "output_type": "stream",
          "text": [
            "[0 2 4 6 8] [0 0 0 0 0] [ 0  1  4  9 16]\n"
          ],
          "name": "stdout"
        }
      ]
    },
    {
      "cell_type": "code",
      "metadata": {
        "id": "XIpXvAGcLb64",
        "outputId": "f35e1a37-2455-4ba4-bfda-5c2311dd58ee",
        "colab": {
          "base_uri": "https://localhost:8080/",
          "height": 34
        }
      },
      "source": [
        "print(a, a+1)"
      ],
      "execution_count": null,
      "outputs": [
        {
          "output_type": "stream",
          "text": [
            "[0 1 2 3 4] [1 2 3 4 5]\n"
          ],
          "name": "stdout"
        }
      ]
    },
    {
      "cell_type": "code",
      "metadata": {
        "id": "-O9jyIpHLtTP",
        "outputId": "2efa57a3-2d9f-4313-cebc-20c585b8210b",
        "colab": {
          "base_uri": "https://localhost:8080/",
          "height": 85
        }
      },
      "source": [
        "a = np.random.random((2,3))\n",
        "print(a)\n",
        "print(a+1)"
      ],
      "execution_count": null,
      "outputs": [
        {
          "output_type": "stream",
          "text": [
            "[[0.53120527 0.50609449 0.46896228]\n",
            " [0.18683203 0.18811373 0.6304616 ]]\n",
            "[[1.53120527 1.50609449 1.46896228]\n",
            " [1.18683203 1.18811373 1.6304616 ]]\n"
          ],
          "name": "stdout"
        }
      ]
    },
    {
      "cell_type": "code",
      "metadata": {
        "id": "hDc0-hn7MGtR",
        "outputId": "c7784a20-00c1-4c99-c73a-f7b1eada88e8",
        "colab": {
          "base_uri": "https://localhost:8080/",
          "height": 68
        }
      },
      "source": [
        "x = np.floor(np.random.random((3,3))*10)\n",
        "print(x)"
      ],
      "execution_count": null,
      "outputs": [
        {
          "output_type": "stream",
          "text": [
            "[[8. 9. 2.]\n",
            " [2. 4. 3.]\n",
            " [2. 2. 3.]]\n"
          ],
          "name": "stdout"
        }
      ]
    },
    {
      "cell_type": "code",
      "metadata": {
        "id": "m3YCNlP_MTtR",
        "outputId": "d971da7d-1d78-4417-8742-aa985496b739",
        "colab": {
          "base_uri": "https://localhost:8080/",
          "height": 34
        }
      },
      "source": [
        "u = [1,2,3]\n",
        "v = [-1,2,-3]\n",
        "\n",
        "p = np.inner(u,v)\n",
        "print(p)"
      ],
      "execution_count": null,
      "outputs": [
        {
          "output_type": "stream",
          "text": [
            "-6\n"
          ],
          "name": "stdout"
        }
      ]
    },
    {
      "cell_type": "code",
      "metadata": {
        "id": "eNGMCjhMMxu2",
        "outputId": "95a8b575-7766-4ca4-ee7f-236aa917de8e",
        "colab": {
          "base_uri": "https://localhost:8080/",
          "height": 68
        }
      },
      "source": [
        "p = np.outer(u,v)\n",
        "print(p)"
      ],
      "execution_count": null,
      "outputs": [
        {
          "output_type": "stream",
          "text": [
            "[[-1  2 -3]\n",
            " [-2  4 -6]\n",
            " [-3  6 -9]]\n"
          ],
          "name": "stdout"
        }
      ]
    },
    {
      "cell_type": "code",
      "metadata": {
        "id": "_lqYoMHxM4Za",
        "outputId": "f26689e0-2bc6-41aa-9064-0d85b0536ee4",
        "colab": {
          "base_uri": "https://localhost:8080/",
          "height": 51
        }
      },
      "source": [
        "a = np.ones((2,3))\n",
        "b = np.ones((3,3))\n",
        "\n",
        "p = np.dot(a,b)\n",
        "print(p)"
      ],
      "execution_count": null,
      "outputs": [
        {
          "output_type": "stream",
          "text": [
            "[[3. 3. 3.]\n",
            " [3. 3. 3.]]\n"
          ],
          "name": "stdout"
        }
      ]
    },
    {
      "cell_type": "code",
      "metadata": {
        "id": "wifO_kM1NRFv",
        "outputId": "7d282f34-126d-4093-9bad-582f5d9644c2",
        "colab": {
          "base_uri": "https://localhost:8080/",
          "height": 51
        }
      },
      "source": [
        "a = np.ones((2,3))\n",
        "print(a)"
      ],
      "execution_count": null,
      "outputs": [
        {
          "output_type": "stream",
          "text": [
            "[[1. 1. 1.]\n",
            " [1. 1. 1.]]\n"
          ],
          "name": "stdout"
        }
      ]
    },
    {
      "cell_type": "code",
      "metadata": {
        "id": "1L66XaAZNnlo",
        "outputId": "2e59b5f4-7d51-46ad-ea5c-370e47878d47",
        "colab": {
          "base_uri": "https://localhost:8080/",
          "height": 34
        }
      },
      "source": [
        "a.sum()"
      ],
      "execution_count": null,
      "outputs": [
        {
          "output_type": "execute_result",
          "data": {
            "text/plain": [
              "6.0"
            ]
          },
          "metadata": {
            "tags": []
          },
          "execution_count": 104
        }
      ]
    },
    {
      "cell_type": "markdown",
      "metadata": {
        "id": "NpBdX5dJNqeh"
      },
      "source": [
        "Column Sum"
      ]
    },
    {
      "cell_type": "code",
      "metadata": {
        "id": "2ZHIq1clNpIz",
        "outputId": "bf4ffa44-4e50-49d6-fca7-1c53af648df4",
        "colab": {
          "base_uri": "https://localhost:8080/",
          "height": 34
        }
      },
      "source": [
        "a.sum(axis=0)"
      ],
      "execution_count": null,
      "outputs": [
        {
          "output_type": "execute_result",
          "data": {
            "text/plain": [
              "array([2., 2., 2.])"
            ]
          },
          "metadata": {
            "tags": []
          },
          "execution_count": 105
        }
      ]
    },
    {
      "cell_type": "markdown",
      "metadata": {
        "id": "J8avzP87Nuob"
      },
      "source": [
        "Row Sum"
      ]
    },
    {
      "cell_type": "code",
      "metadata": {
        "id": "Ro5ERl-zNtEG",
        "outputId": "de66f9fd-9df7-4c49-d79d-84e57290fe36",
        "colab": {
          "base_uri": "https://localhost:8080/",
          "height": 34
        }
      },
      "source": [
        "a.sum(axis=1)"
      ],
      "execution_count": null,
      "outputs": [
        {
          "output_type": "execute_result",
          "data": {
            "text/plain": [
              "array([3., 3.])"
            ]
          },
          "metadata": {
            "tags": []
          },
          "execution_count": 107
        }
      ]
    },
    {
      "cell_type": "code",
      "metadata": {
        "id": "QrJJ6idKNw1V",
        "outputId": "3058d813-a4aa-4d68-960b-95866e334c68",
        "colab": {
          "base_uri": "https://localhost:8080/",
          "height": 34
        }
      },
      "source": [
        "a.max()"
      ],
      "execution_count": null,
      "outputs": [
        {
          "output_type": "execute_result",
          "data": {
            "text/plain": [
              "1.0"
            ]
          },
          "metadata": {
            "tags": []
          },
          "execution_count": 108
        }
      ]
    },
    {
      "cell_type": "code",
      "metadata": {
        "id": "GG8kHnK0N3aF",
        "outputId": "cdc1dd89-343d-46e1-a8a5-3016d71d2b39",
        "colab": {
          "base_uri": "https://localhost:8080/",
          "height": 34
        }
      },
      "source": [
        "a.shape"
      ],
      "execution_count": null,
      "outputs": [
        {
          "output_type": "execute_result",
          "data": {
            "text/plain": [
              "(2, 3)"
            ]
          },
          "metadata": {
            "tags": []
          },
          "execution_count": 110
        }
      ]
    },
    {
      "cell_type": "code",
      "metadata": {
        "id": "a7axvAPFOBk1",
        "outputId": "9aacc447-4f47-4f86-bad9-d60a9b1fb506",
        "colab": {
          "base_uri": "https://localhost:8080/",
          "height": 34
        }
      },
      "source": [
        "a.size"
      ],
      "execution_count": null,
      "outputs": [
        {
          "output_type": "execute_result",
          "data": {
            "text/plain": [
              "6"
            ]
          },
          "metadata": {
            "tags": []
          },
          "execution_count": 111
        }
      ]
    },
    {
      "cell_type": "code",
      "metadata": {
        "id": "mMrbmvUoOPFm",
        "outputId": "8f0c2f21-065d-4e93-d23e-9bb6e2aba7c3",
        "colab": {
          "base_uri": "https://localhost:8080/",
          "height": 34
        }
      },
      "source": [
        "len(a)"
      ],
      "execution_count": null,
      "outputs": [
        {
          "output_type": "execute_result",
          "data": {
            "text/plain": [
              "2"
            ]
          },
          "metadata": {
            "tags": []
          },
          "execution_count": 113
        }
      ]
    },
    {
      "cell_type": "code",
      "metadata": {
        "id": "gIpjGDFROROB"
      },
      "source": [
        ""
      ],
      "execution_count": null,
      "outputs": []
    },
    {
      "cell_type": "markdown",
      "metadata": {
        "id": "NZ9RaCHyLuOd"
      },
      "source": [
        "# Plotting"
      ]
    },
    {
      "cell_type": "code",
      "metadata": {
        "id": "s1Zp3Qp1Lvut"
      },
      "source": [
        "import matplotlib.pyplot as plt"
      ],
      "execution_count": null,
      "outputs": []
    },
    {
      "cell_type": "code",
      "metadata": {
        "id": "gu38_HibL153",
        "outputId": "7421348f-6f5f-464a-c784-993e25cb1721",
        "colab": {
          "base_uri": "https://localhost:8080/",
          "height": 187
        }
      },
      "source": [
        "x = np.random.random([10,1])\n",
        "print(x)"
      ],
      "execution_count": null,
      "outputs": [
        {
          "output_type": "stream",
          "text": [
            "[[0.38320738]\n",
            " [0.62604118]\n",
            " [0.15114439]\n",
            " [0.70485818]\n",
            " [0.24234924]\n",
            " [0.56638243]\n",
            " [0.32099842]\n",
            " [0.90779029]\n",
            " [0.67090356]\n",
            " [0.38176432]]\n"
          ],
          "name": "stdout"
        }
      ]
    },
    {
      "cell_type": "code",
      "metadata": {
        "id": "uT5YIw_YMAEG",
        "outputId": "706b93a2-f241-4169-b5db-f102f8f80283",
        "colab": {
          "base_uri": "https://localhost:8080/",
          "height": 265
        }
      },
      "source": [
        "plt.plot(x, '*-')\n",
        "plt.show()"
      ],
      "execution_count": null,
      "outputs": [
        {
          "output_type": "display_data",
          "data": {
            "image/png": "[encoded data removed]",
            "text/plain": [
              "<Figure size 432x288 with 1 Axes>"
            ]
          },
          "metadata": {
            "tags": []
          }
        }
      ]
    },
    {
      "cell_type": "code",
      "metadata": {
        "id": "dHPDmdXlMNYM",
        "outputId": "fbadd7a5-b410-498d-fc74-c6bcfa32be53",
        "colab": {
          "base_uri": "https://localhost:8080/",
          "height": 268
        }
      },
      "source": [
        "x = np.linspace(0,10,50)\n",
        "y = np.power(x,0.5)\n",
        "plt.plot(x,y,'+')\n",
        "plt.show()"
      ],
      "execution_count": null,
      "outputs": [
        {
          "output_type": "display_data",
          "data": {
            "image/png": "[encoded data removed]",
            "text/plain": [
              "<Figure size 432x288 with 1 Axes>"
            ]
          },
          "metadata": {
            "tags": []
          }
        }
      ]
    },
    {
      "cell_type": "code",
      "metadata": {
        "id": "tDYkj2CrNYMm",
        "outputId": "cd5a60e0-4250-483e-9ea6-cb2f7f93f5fd",
        "colab": {
          "base_uri": "https://localhost:8080/",
          "height": 71
        }
      },
      "source": [
        "import seaborn as sns"
      ],
      "execution_count": null,
      "outputs": [
        {
          "output_type": "stream",
          "text": [
            "/usr/local/lib/python3.6/dist-packages/statsmodels/tools/_testing.py:19: FutureWarning: pandas.util.testing is deprecated. Use the functions in the public API at pandas.testing instead.\n",
            "  import pandas.util.testing as tm\n"
          ],
          "name": "stderr"
        }
      ]
    },
    {
      "cell_type": "code",
      "metadata": {
        "id": "iNo5OWthN2kJ"
      },
      "source": [
        "sns.set()"
      ],
      "execution_count": null,
      "outputs": []
    },
    {
      "cell_type": "code",
      "metadata": {
        "id": "n75bka9xN-ya",
        "outputId": "b854af6c-a415-4c12-b51b-aa2048c2f0b1",
        "colab": {
          "base_uri": "https://localhost:8080/",
          "height": 268
        }
      },
      "source": [
        "sns.lineplot(x,y)\n",
        "plt.show()"
      ],
      "execution_count": null,
      "outputs": [
        {
          "output_type": "display_data",
          "data": {
            "image/png": "[encoded data removed]",
            "text/plain": [
              "<Figure size 432x288 with 1 Axes>"
            ]
          },
          "metadata": {
            "tags": []
          }
        }
      ]
    },
    {
      "cell_type": "code",
      "metadata": {
        "id": "_cC8wDc7OLMT",
        "outputId": "3d4186a2-de37-4380-ba4f-bf9231d6bcbe",
        "colab": {
          "base_uri": "https://localhost:8080/",
          "height": 309
        }
      },
      "source": [
        "!wget https://drive.google.com/drive/folders/1VTkz2tYCjCOaIGuNPw5HxTsBWZTl8lZV"
      ],
      "execution_count": null,
      "outputs": [
        {
          "output_type": "stream",
          "text": [
            "--2020-04-06 11:44:12--  https://drive.google.com/drive/folders/1VTkz2tYCjCOaIGuNPw5HxTsBWZTl8lZV\n",
            "Resolving drive.google.com (drive.google.com)... 172.217.204.100, 172.217.204.102, 172.217.204.138, ...\n",
            "Connecting to drive.google.com (drive.google.com)|172.217.204.100|:443... connected.\n",
            "HTTP request sent, awaiting response... 302 Found\n",
            "Location: https://accounts.google.com/ServiceLogin?service=wise&passive=1209600&continue=https://drive.google.com/drive/folders/1VTkz2tYCjCOaIGuNPw5HxTsBWZTl8lZV&followup=https://drive.google.com/drive/folders/1VTkz2tYCjCOaIGuNPw5HxTsBWZTl8lZV [following]\n",
            "--2020-04-06 11:44:12--  https://accounts.google.com/ServiceLogin?service=wise&passive=1209600&continue=https://drive.google.com/drive/folders/1VTkz2tYCjCOaIGuNPw5HxTsBWZTl8lZV&followup=https://drive.google.com/drive/folders/1VTkz2tYCjCOaIGuNPw5HxTsBWZTl8lZV\n",
            "Resolving accounts.google.com (accounts.google.com)... 173.194.210.84, 2607:f8b0:400c:c0b::54\n",
            "Connecting to accounts.google.com (accounts.google.com)|173.194.210.84|:443... connected.\n",
            "HTTP request sent, awaiting response... 200 OK\n",
            "Length: unspecified [text/html]\n",
            "Saving to: ‘1VTkz2tYCjCOaIGuNPw5HxTsBWZTl8lZV’\n",
            "\n",
            "\r          1VTkz2tYC     [<=>                 ]       0  --.-KB/s               \r1VTkz2tYCjCOaIGuNPw     [ <=>                ]  56.16K  --.-KB/s    in 0.002s  \n",
            "\n",
            "2020-04-06 11:44:13 (32.9 MB/s) - ‘1VTkz2tYCjCOaIGuNPw5HxTsBWZTl8lZV’ saved [57504]\n",
            "\n"
          ],
          "name": "stdout"
        }
      ]
    },
    {
      "cell_type": "code",
      "metadata": {
        "id": "BS81AXHFO31Y",
        "outputId": "0cede897-bd8b-4887-a3d6-a1a4c2d4cd26",
        "colab": {
          "base_uri": "https://localhost:8080/",
          "height": 34
        }
      },
      "source": [
        "!ls"
      ],
      "execution_count": null,
      "outputs": [
        {
          "output_type": "stream",
          "text": [
            "1VTkz2tYCjCOaIGuNPw5HxTsBWZTl8lZV  sample_data\n"
          ],
          "name": "stdout"
        }
      ]
    },
    {
      "cell_type": "code",
      "metadata": {
        "id": "gtgwe208QAGa",
        "outputId": "9308d28a-b82e-4717-b220-81e2e6df10f3",
        "colab": {
          "base_uri": "https://localhost:8080/",
          "height": 224
        }
      },
      "source": [
        "import pandas as pd\n",
        "data = pd.read_csv('mobile_cleaned.csv')\n",
        "data.head()"
      ],
      "execution_count": null,
      "outputs": [
        {
          "output_type": "execute_result",
          "data": {
            "text/html": [
              "<div>\n",
              "<style scoped>\n",
              "    .dataframe tbody tr th:only-of-type {\n",
              "        vertical-align: middle;\n",
              "    }\n",
              "\n",
              "    .dataframe tbody tr th {\n",
              "        vertical-align: top;\n",
              "    }\n",
              "\n",
              "    .dataframe thead th {\n",
              "        text-align: right;\n",
              "    }\n",
              "</style>\n",
              "<table border=\"1\" class=\"dataframe\">\n",
              "  <thead>\n",
              "    <tr style=\"text-align: right;\">\n",
              "      <th></th>\n",
              "      <th>sim_type</th>\n",
              "      <th>aperture</th>\n",
              "      <th>gpu_rank</th>\n",
              "      <th>weight</th>\n",
              "      <th>stand_by_time</th>\n",
              "      <th>processor_frequency</th>\n",
              "      <th>thickness</th>\n",
              "      <th>flash_type</th>\n",
              "      <th>front_camera_resolution</th>\n",
              "      <th>auto_focus</th>\n",
              "      <th>screen_size</th>\n",
              "      <th>frames_per_second</th>\n",
              "      <th>FM</th>\n",
              "      <th>no_of_reviews_in_gsmarena_in_week</th>\n",
              "      <th>os</th>\n",
              "      <th>phone_height</th>\n",
              "      <th>screen_protection</th>\n",
              "      <th>sim_size</th>\n",
              "      <th>price</th>\n",
              "      <th>talk_time</th>\n",
              "      <th>video_resolution</th>\n",
              "      <th>display_resolution</th>\n",
              "      <th>removable_battery</th>\n",
              "      <th>display_type</th>\n",
              "      <th>primary_camera_resolution</th>\n",
              "      <th>battery_type</th>\n",
              "      <th>ram_memory</th>\n",
              "      <th>internal_memory</th>\n",
              "      <th>brand_rank</th>\n",
              "      <th>no_of_cores</th>\n",
              "      <th>micro_sd_slot</th>\n",
              "      <th>screen_pixel_density</th>\n",
              "      <th>water_proof_rate</th>\n",
              "      <th>phone_width</th>\n",
              "      <th>expandable_memory</th>\n",
              "      <th>version</th>\n",
              "      <th>usb_type</th>\n",
              "      <th>battery_capacity</th>\n",
              "      <th>processor_rank</th>\n",
              "      <th>is_liked</th>\n",
              "    </tr>\n",
              "  </thead>\n",
              "  <tbody>\n",
              "    <tr>\n",
              "      <th>0</th>\n",
              "      <td>0</td>\n",
              "      <td>12</td>\n",
              "      <td>55</td>\n",
              "      <td>155.0</td>\n",
              "      <td>250</td>\n",
              "      <td>1.3</td>\n",
              "      <td>10.5</td>\n",
              "      <td>5</td>\n",
              "      <td>2.00</td>\n",
              "      <td>0</td>\n",
              "      <td>4.5</td>\n",
              "      <td>15</td>\n",
              "      <td>3</td>\n",
              "      <td>0</td>\n",
              "      <td>0</td>\n",
              "      <td>132.9</td>\n",
              "      <td>26</td>\n",
              "      <td>3</td>\n",
              "      <td>3870</td>\n",
              "      <td>9</td>\n",
              "      <td>480</td>\n",
              "      <td>12</td>\n",
              "      <td>3</td>\n",
              "      <td>11</td>\n",
              "      <td>5.00</td>\n",
              "      <td>1</td>\n",
              "      <td>1</td>\n",
              "      <td>7</td>\n",
              "      <td>29</td>\n",
              "      <td>6</td>\n",
              "      <td>4</td>\n",
              "      <td>2</td>\n",
              "      <td>3</td>\n",
              "      <td>67.8</td>\n",
              "      <td>64.0</td>\n",
              "      <td>5</td>\n",
              "      <td>3</td>\n",
              "      <td>2000</td>\n",
              "      <td>125</td>\n",
              "      <td>1</td>\n",
              "    </tr>\n",
              "    <tr>\n",
              "      <th>1</th>\n",
              "      <td>0</td>\n",
              "      <td>1</td>\n",
              "      <td>55</td>\n",
              "      <td>132.0</td>\n",
              "      <td>300</td>\n",
              "      <td>1.3</td>\n",
              "      <td>10.6</td>\n",
              "      <td>5</td>\n",
              "      <td>0.30</td>\n",
              "      <td>1</td>\n",
              "      <td>4.0</td>\n",
              "      <td>30</td>\n",
              "      <td>2</td>\n",
              "      <td>6</td>\n",
              "      <td>0</td>\n",
              "      <td>124.5</td>\n",
              "      <td>26</td>\n",
              "      <td>5</td>\n",
              "      <td>4059</td>\n",
              "      <td>9</td>\n",
              "      <td>720</td>\n",
              "      <td>15</td>\n",
              "      <td>3</td>\n",
              "      <td>11</td>\n",
              "      <td>5.00</td>\n",
              "      <td>1</td>\n",
              "      <td>1</td>\n",
              "      <td>7</td>\n",
              "      <td>11</td>\n",
              "      <td>6</td>\n",
              "      <td>4</td>\n",
              "      <td>4</td>\n",
              "      <td>6</td>\n",
              "      <td>64.0</td>\n",
              "      <td>32.0</td>\n",
              "      <td>5</td>\n",
              "      <td>3</td>\n",
              "      <td>2000</td>\n",
              "      <td>165</td>\n",
              "      <td>1</td>\n",
              "    </tr>\n",
              "    <tr>\n",
              "      <th>2</th>\n",
              "      <td>0</td>\n",
              "      <td>9</td>\n",
              "      <td>55</td>\n",
              "      <td>142.0</td>\n",
              "      <td>329</td>\n",
              "      <td>1.5</td>\n",
              "      <td>8.5</td>\n",
              "      <td>5</td>\n",
              "      <td>2.00</td>\n",
              "      <td>3</td>\n",
              "      <td>5.0</td>\n",
              "      <td>30</td>\n",
              "      <td>2</td>\n",
              "      <td>20</td>\n",
              "      <td>0</td>\n",
              "      <td>145.5</td>\n",
              "      <td>4</td>\n",
              "      <td>3</td>\n",
              "      <td>4777</td>\n",
              "      <td>10</td>\n",
              "      <td>1080</td>\n",
              "      <td>4</td>\n",
              "      <td>3</td>\n",
              "      <td>1</td>\n",
              "      <td>5.04</td>\n",
              "      <td>2</td>\n",
              "      <td>1</td>\n",
              "      <td>7</td>\n",
              "      <td>27</td>\n",
              "      <td>6</td>\n",
              "      <td>4</td>\n",
              "      <td>9</td>\n",
              "      <td>6</td>\n",
              "      <td>72.0</td>\n",
              "      <td>32.0</td>\n",
              "      <td>6</td>\n",
              "      <td>3</td>\n",
              "      <td>2500</td>\n",
              "      <td>164</td>\n",
              "      <td>0</td>\n",
              "    </tr>\n",
              "    <tr>\n",
              "      <th>3</th>\n",
              "      <td>0</td>\n",
              "      <td>8</td>\n",
              "      <td>55</td>\n",
              "      <td>152.0</td>\n",
              "      <td>385</td>\n",
              "      <td>1.3</td>\n",
              "      <td>8.0</td>\n",
              "      <td>5</td>\n",
              "      <td>2.00</td>\n",
              "      <td>3</td>\n",
              "      <td>5.0</td>\n",
              "      <td>15</td>\n",
              "      <td>3</td>\n",
              "      <td>0</td>\n",
              "      <td>0</td>\n",
              "      <td>147.5</td>\n",
              "      <td>26</td>\n",
              "      <td>3</td>\n",
              "      <td>5799</td>\n",
              "      <td>19</td>\n",
              "      <td>720</td>\n",
              "      <td>17</td>\n",
              "      <td>3</td>\n",
              "      <td>2</td>\n",
              "      <td>5.00</td>\n",
              "      <td>1</td>\n",
              "      <td>1</td>\n",
              "      <td>7</td>\n",
              "      <td>4</td>\n",
              "      <td>6</td>\n",
              "      <td>4</td>\n",
              "      <td>1</td>\n",
              "      <td>3</td>\n",
              "      <td>75.1</td>\n",
              "      <td>32.0</td>\n",
              "      <td>6</td>\n",
              "      <td>3</td>\n",
              "      <td>3000</td>\n",
              "      <td>165</td>\n",
              "      <td>1</td>\n",
              "    </tr>\n",
              "    <tr>\n",
              "      <th>4</th>\n",
              "      <td>1</td>\n",
              "      <td>1</td>\n",
              "      <td>55</td>\n",
              "      <td>234.0</td>\n",
              "      <td>385</td>\n",
              "      <td>1.3</td>\n",
              "      <td>7.9</td>\n",
              "      <td>5</td>\n",
              "      <td>1.92</td>\n",
              "      <td>3</td>\n",
              "      <td>5.0</td>\n",
              "      <td>15</td>\n",
              "      <td>3</td>\n",
              "      <td>0</td>\n",
              "      <td>0</td>\n",
              "      <td>179.0</td>\n",
              "      <td>18</td>\n",
              "      <td>3</td>\n",
              "      <td>5990</td>\n",
              "      <td>11</td>\n",
              "      <td>720</td>\n",
              "      <td>17</td>\n",
              "      <td>3</td>\n",
              "      <td>1</td>\n",
              "      <td>5.00</td>\n",
              "      <td>1</td>\n",
              "      <td>1</td>\n",
              "      <td>7</td>\n",
              "      <td>4</td>\n",
              "      <td>6</td>\n",
              "      <td>4</td>\n",
              "      <td>1</td>\n",
              "      <td>6</td>\n",
              "      <td>91.0</td>\n",
              "      <td>32.0</td>\n",
              "      <td>6</td>\n",
              "      <td>3</td>\n",
              "      <td>3000</td>\n",
              "      <td>165</td>\n",
              "      <td>0</td>\n",
              "    </tr>\n",
              "  </tbody>\n",
              "</table>\n",
              "</div>"
            ],
            "text/plain": [
              "   sim_type  aperture  gpu_rank  ...  battery_capacity  processor_rank  is_liked\n",
              "0         0        12        55  ...              2000             125         1\n",
              "1         0         1        55  ...              2000             165         1\n",
              "2         0         9        55  ...              2500             164         0\n",
              "3         0         8        55  ...              3000             165         1\n",
              "4         1         1        55  ...              3000             165         0\n",
              "\n",
              "[5 rows x 40 columns]"
            ]
          },
          "metadata": {
            "tags": []
          },
          "execution_count": 20
        }
      ]
    },
    {
      "cell_type": "code",
      "metadata": {
        "id": "KhU-k5ASQN0v",
        "outputId": "ced11cc1-0868-45e6-bd8e-a883a8c8da9f",
        "colab": {
          "base_uri": "https://localhost:8080/",
          "height": 285
        }
      },
      "source": [
        "ax = sns.scatterplot(x=\"stand_by_time\", y=\"battery_capacity\", data=data)"
      ],
      "execution_count": null,
      "outputs": [
        {
          "output_type": "display_data",
          "data": {
            "image/png": "[encoded data removed]",
            "text/plain": [
              "<Figure size 432x288 with 1 Axes>"
            ]
          },
          "metadata": {
            "tags": []
          }
        }
      ]
    },
    {
      "cell_type": "code",
      "metadata": {
        "id": "zyf1pd9QSkCQ",
        "outputId": "6998cfef-32c2-409c-dbd5-45dbbd76a7a7",
        "colab": {
          "base_uri": "https://localhost:8080/",
          "height": 285
        }
      },
      "source": [
        "ax = sns.scatterplot(x = \"stand_by_time\", y = \"battery_capacity\", hue=\"thickness\", data=data)"
      ],
      "execution_count": null,
      "outputs": [
        {
          "output_type": "display_data",
          "data": {
            "image/png": "[encoded data removed]",
            "text/plain": [
              "<Figure size 432x288 with 1 Axes>"
            ]
          },
          "metadata": {
            "tags": []
          }
        }
      ]
    },
    {
      "cell_type": "code",
      "metadata": {
        "id": "XVjlu2MDStyI",
        "outputId": "d2c331a1-f4bb-4efa-8fcd-c6a3fdd3bf14",
        "colab": {
          "base_uri": "https://localhost:8080/",
          "height": 285
        }
      },
      "source": [
        "ax = sns.distplot(data[\"stand_by_time\"])"
      ],
      "execution_count": null,
      "outputs": [
        {
          "output_type": "display_data",
          "data": {
            "image/png": "[encoded data removed]",
            "text/plain": [
              "<Figure size 432x288 with 1 Axes>"
            ]
          },
          "metadata": {
            "tags": []
          }
        }
      ]
    },
    {
      "cell_type": "code",
      "metadata": {
        "id": "YDVWD2SWTa7t",
        "outputId": "9002079f-7f0c-4294-f8f2-d861a8039834",
        "colab": {
          "base_uri": "https://localhost:8080/",
          "height": 285
        }
      },
      "source": [
        "ax = sns.distplot(data[\"stand_by_time\"], kde = False, rug = True, bins = 20)"
      ],
      "execution_count": null,
      "outputs": [
        {
          "output_type": "display_data",
          "data": {
            "image/png": "[encoded data removed]",
            "text/plain": [
              "<Figure size 432x288 with 1 Axes>"
            ]
          },
          "metadata": {
            "tags": []
          }
        }
      ]
    },
    {
      "cell_type": "code",
      "metadata": {
        "id": "Al_X28hzURem",
        "outputId": "8cf46bb1-aa7f-4fc8-d726-31f863ac6e03",
        "colab": {
          "base_uri": "https://localhost:8080/",
          "height": 285
        }
      },
      "source": [
        "ax = sns.boxplot(x=\"is_liked\", y =\"battery_capacity\", data= data)"
      ],
      "execution_count": null,
      "outputs": [
        {
          "output_type": "display_data",
          "data": {
            "image/png": "[encoded data removed]",
            "text/plain": [
              "<Figure size 432x288 with 1 Axes>"
            ]
          },
          "metadata": {
            "tags": []
          }
        }
      ]
    },
    {
      "cell_type": "code",
      "metadata": {
        "id": "rHLvsCRHV1Vm",
        "outputId": "9c6c97b8-3803-4db7-898f-184bc034504c",
        "colab": {
          "base_uri": "https://localhost:8080/",
          "height": 285
        }
      },
      "source": [
        "ax = sns.boxplot(x=\"expandable_memory\", y =\"price\", data= data)"
      ],
      "execution_count": null,
      "outputs": [
        {
          "output_type": "display_data",
          "data": {
            "image/png": "[encoded data removed]",
            "text/plain": [
              "<Figure size 432x288 with 1 Axes>"
            ]
          },
          "metadata": {
            "tags": []
          }
        }
      ]
    },
    {
      "cell_type": "code",
      "metadata": {
        "id": "VuSbToZlW7_1"
      },
      "source": [
        "uniform_data = np.random.random([10,12])"
      ],
      "execution_count": null,
      "outputs": []
    },
    {
      "cell_type": "code",
      "metadata": {
        "id": "QNuXxw4HXBYY",
        "outputId": "c09e1484-2070-4de6-afe6-15ae068d3f4a",
        "colab": {
          "base_uri": "https://localhost:8080/",
          "height": 357
        }
      },
      "source": [
        "print(uniform_data)"
      ],
      "execution_count": null,
      "outputs": [
        {
          "output_type": "stream",
          "text": [
            "[[0.95293997 0.25098886 0.41953376 0.8226858  0.72792505 0.81145441\n",
            "  0.68052482 0.58122076 0.26114638 0.52822206 0.20320246 0.21450274]\n",
            " [0.64507307 0.88583925 0.10791791 0.66125836 0.6787266  0.18234988\n",
            "  0.90592929 0.00610371 0.62820061 0.1077173  0.80614711 0.21578548]\n",
            " [0.15624539 0.45641241 0.33477658 0.5602021  0.5338002  0.53657414\n",
            "  0.02320797 0.40184708 0.30615963 0.1172071  0.81896232 0.42367382]\n",
            " [0.14025205 0.96581066 0.67486034 0.05696217 0.56611224 0.97563569\n",
            "  0.92345148 0.2868808  0.33108387 0.23109256 0.35368098 0.53994442]\n",
            " [0.4370458  0.30506258 0.76902839 0.8218975  0.42214338 0.96550746\n",
            "  0.94207541 0.43354489 0.39851636 0.13030354 0.63424959 0.6208787 ]\n",
            " [0.94667246 0.218706   0.33962275 0.91540559 0.17766731 0.52275465\n",
            "  0.52399199 0.25763302 0.86051553 0.68332535 0.1629346  0.2570227 ]\n",
            " [0.38957609 0.09361346 0.09073361 0.10107605 0.71243996 0.12795737\n",
            "  0.47229565 0.68193217 0.52237156 0.73026964 0.88706525 0.96294468]\n",
            " [0.77194193 0.69257299 0.24294003 0.84592499 0.94908238 0.39073893\n",
            "  0.77287837 0.50653997 0.35904762 0.80852102 0.81705272 0.71969074]\n",
            " [0.32278676 0.90239706 0.73131562 0.39202892 0.46387345 0.96997515\n",
            "  0.15648621 0.92454248 0.08216064 0.98982493 0.83547581 0.95375803]\n",
            " [0.32507468 0.683296   0.58664521 0.33126412 0.13580462 0.72174246\n",
            "  0.39305933 0.14562428 0.65636113 0.40280861 0.49967076 0.54155214]]\n"
          ],
          "name": "stdout"
        }
      ]
    },
    {
      "cell_type": "code",
      "metadata": {
        "id": "qLEA3RWFXDOj",
        "outputId": "7953941b-bc97-41fa-c00c-05ab1727f3be",
        "colab": {
          "base_uri": "https://localhost:8080/",
          "height": 268
        }
      },
      "source": [
        "ax = sns.heatmap(uniform_data)"
      ],
      "execution_count": null,
      "outputs": [
        {
          "output_type": "display_data",
          "data": {
            "image/png": "[encoded data removed]",
            "text/plain": [
              "<Figure size 432x288 with 2 Axes>"
            ]
          },
          "metadata": {
            "tags": []
          }
        }
      ]
    },
    {
      "cell_type": "code",
      "metadata": {
        "id": "_Xy1gT_EXLH6",
        "outputId": "269fcf24-acae-4b6b-f31b-74fedb86da19",
        "colab": {
          "base_uri": "https://localhost:8080/",
          "height": 268
        }
      },
      "source": [
        "ax = sns.heatmap(uniform_data, cmap=\"YlGnBu\")"
      ],
      "execution_count": null,
      "outputs": [
        {
          "output_type": "display_data",
          "data": {
            "image/png": "[encoded data removed]",
            "text/plain": [
              "<Figure size 432x288 with 2 Axes>"
            ]
          },
          "metadata": {
            "tags": []
          }
        }
      ]
    },
    {
      "cell_type": "code",
      "metadata": {
        "id": "efoTkR1OXtDV",
        "outputId": "ccf18f4b-b6be-461d-d4c7-4693a0a486dd",
        "colab": {
          "base_uri": "https://localhost:8080/",
          "height": 221
        }
      },
      "source": [
        "!wget https://miro.medium.com/max/950/1*sUHVxRoPHoZpPi7XjmVkzg.png"
      ],
      "execution_count": null,
      "outputs": [
        {
          "output_type": "stream",
          "text": [
            "Warning: wildcards not supported in HTTP.\n",
            "--2020-04-06 12:05:08--  https://miro.medium.com/max/950/1*sUHVxRoPHoZpPi7XjmVkzg.png\n",
            "Resolving miro.medium.com (miro.medium.com)... 104.16.118.145, 104.16.117.145, 104.16.120.145, ...\n",
            "Connecting to miro.medium.com (miro.medium.com)|104.16.118.145|:443... connected.\n",
            "HTTP request sent, awaiting response... 200 OK\n",
            "Length: 39865 (39K) [image/png]\n",
            "Saving to: ‘1*sUHVxRoPHoZpPi7XjmVkzg.png’\n",
            "\n",
            "\r          1*sUHVxRo   0%[                    ]       0  --.-KB/s               \r1*sUHVxRoPHoZpPi7Xj 100%[===================>]  38.93K  --.-KB/s    in 0s      \n",
            "\n",
            "2020-04-06 12:05:08 (96.7 MB/s) - ‘1*sUHVxRoPHoZpPi7XjmVkzg.png’ saved [39865/39865]\n",
            "\n"
          ],
          "name": "stdout"
        }
      ]
    },
    {
      "cell_type": "code",
      "metadata": {
        "id": "wzoc_LRUYkoj"
      },
      "source": [
        "!mv 1*sUHVxRoPHoZpPi7XjmVkzg.png onefourthlabs.png"
      ],
      "execution_count": null,
      "outputs": []
    },
    {
      "cell_type": "code",
      "metadata": {
        "id": "p4NkkNRXYkaU"
      },
      "source": [
        "import matplotlib.image as mpimg"
      ],
      "execution_count": null,
      "outputs": []
    },
    {
      "cell_type": "code",
      "metadata": {
        "id": "x4UBrKHCY1cm"
      },
      "source": [
        "img = mpimg.imread(\"onefourthlabs.png\")"
      ],
      "execution_count": null,
      "outputs": []
    },
    {
      "cell_type": "code",
      "metadata": {
        "id": "nt72ppiVZGhI",
        "outputId": "652817d3-8f00-4b34-a6d1-bff2c91f1721",
        "colab": {
          "base_uri": "https://localhost:8080/",
          "height": 850
        }
      },
      "source": [
        "print(img)"
      ],
      "execution_count": null,
      "outputs": [
        {
          "output_type": "stream",
          "text": [
            "[[[0. 0. 0. 0.]\n",
            "  [0. 0. 0. 0.]\n",
            "  [0. 0. 0. 0.]\n",
            "  ...\n",
            "  [0. 0. 0. 0.]\n",
            "  [0. 0. 0. 0.]\n",
            "  [0. 0. 0. 0.]]\n",
            "\n",
            " [[0. 0. 0. 0.]\n",
            "  [0. 0. 0. 0.]\n",
            "  [0. 0. 0. 0.]\n",
            "  ...\n",
            "  [0. 0. 0. 0.]\n",
            "  [0. 0. 0. 0.]\n",
            "  [0. 0. 0. 0.]]\n",
            "\n",
            " [[0. 0. 0. 0.]\n",
            "  [0. 0. 0. 0.]\n",
            "  [0. 0. 0. 0.]\n",
            "  ...\n",
            "  [0. 0. 0. 0.]\n",
            "  [0. 0. 0. 0.]\n",
            "  [0. 0. 0. 0.]]\n",
            "\n",
            " ...\n",
            "\n",
            " [[0. 0. 0. 0.]\n",
            "  [0. 0. 0. 0.]\n",
            "  [0. 0. 0. 0.]\n",
            "  ...\n",
            "  [0. 0. 0. 0.]\n",
            "  [0. 0. 0. 0.]\n",
            "  [0. 0. 0. 0.]]\n",
            "\n",
            " [[0. 0. 0. 0.]\n",
            "  [0. 0. 0. 0.]\n",
            "  [0. 0. 0. 0.]\n",
            "  ...\n",
            "  [0. 0. 0. 0.]\n",
            "  [0. 0. 0. 0.]\n",
            "  [0. 0. 0. 0.]]\n",
            "\n",
            " [[0. 0. 0. 0.]\n",
            "  [0. 0. 0. 0.]\n",
            "  [0. 0. 0. 0.]\n",
            "  ...\n",
            "  [0. 0. 0. 0.]\n",
            "  [0. 0. 0. 0.]\n",
            "  [0. 0. 0. 0.]]]\n"
          ],
          "name": "stdout"
        }
      ]
    },
    {
      "cell_type": "code",
      "metadata": {
        "id": "5tJhqA1tZHmD",
        "outputId": "6918adda-5a39-4e11-d99d-3c7a5be172ac",
        "colab": {
          "base_uri": "https://localhost:8080/",
          "height": 139
        }
      },
      "source": [
        "imgplot = plt.imshow(img)"
      ],
      "execution_count": null,
      "outputs": [
        {
          "output_type": "display_data",
          "data": {
            "image/png": "[encoded data removed]",
            "text/plain": [
              "<Figure size 432x288 with 1 Axes>"
            ]
          },
          "metadata": {
            "tags": []
          }
        }
      ]
    },
    {
      "cell_type": "code",
      "metadata": {
        "id": "X-CnXadLZUyo"
      },
      "source": [
        ""
      ],
      "execution_count": null,
      "outputs": []
    },
    {
      "cell_type": "markdown",
      "metadata": {
        "id": "0H7gd0xSDADT"
      },
      "source": [
        "# Vectors and Matrices"
      ]
    },
    {
      "cell_type": "code",
      "metadata": {
        "id": "WcyW0qN7DCKC",
        "outputId": "bc58464e-118d-4785-dc75-c06d4449ec82",
        "colab": {
          "base_uri": "https://localhost:8080/",
          "height": 34
        }
      },
      "source": [
        "# Import PyDrive and associated libraries.\n",
        "# This only needs to be done once in a notebook.\n",
        "from pydrive.auth import GoogleAuth\n",
        "from pydrive.drive import GoogleDrive\n",
        "from google.colab import auth\n",
        "from oauth2client.client import GoogleCredentials\n",
        "\n",
        "# Authenticate and create the PyDrive client.\n",
        "# This only needs to be done once in a notebook.\n",
        "auth.authenticate_user()\n",
        "gauth = GoogleAuth()\n",
        "gauth.credentials = GoogleCredentials.get_application_default()\n",
        "drive = GoogleDrive(gauth)\n",
        "\n",
        "# Create & upload a text file.\n",
        "uploaded = drive.CreateFile({'title': 'Sample file.txt'})\n",
        "uploaded.SetContentString('Sample upload file content')\n",
        "uploaded.Upload()\n",
        "print('Uploaded file with ID {}'.format(uploaded.get('id')))"
      ],
      "execution_count": null,
      "outputs": [
        {
          "output_type": "stream",
          "text": [
            "Uploaded file with ID 1hu2wMWqAwxURN3FtdBhERyeQYZVlHOe4\n"
          ],
          "name": "stdout"
        }
      ]
    },
    {
      "cell_type": "code",
      "metadata": {
        "id": "NDLIN0g5N6y_",
        "outputId": "fcb43ab7-1f62-4939-e746-f5bbcf1b9654",
        "colab": {
          "base_uri": "https://localhost:8080/",
          "height": 34
        }
      },
      "source": [
        "# Create & upload a text file.\n",
        "uploaded = drive.CreateFile({'title': 'Sample file.txt'})\n",
        "uploaded.SetContentString('Sample upload file content')\n",
        "uploaded.Upload()\n",
        "print('Uploaded file with ID {}'.format(uploaded.get('id')))"
      ],
      "execution_count": null,
      "outputs": [
        {
          "output_type": "stream",
          "text": [
            "Uploaded file with ID 196rOaPCfi3LoNoyvfhO5UMr58BSg62ff\n"
          ],
          "name": "stdout"
        }
      ]
    },
    {
      "cell_type": "code",
      "metadata": {
        "id": "XxvKiI1oN7jW",
        "outputId": "5e00446f-6547-4557-c991-5959d7d935fe",
        "colab": {
          "base_uri": "https://localhost:8080/",
          "height": 51
        }
      },
      "source": [
        "# List .txt files in the root.\n",
        "#\n",
        "# Search query reference:\n",
        "# https://developers.google.com/drive/v2/web/search-parameters\n",
        "listed = drive.ListFile({'q': \"title contains '.txt' and 'root' in parents\"}).GetList()\n",
        "for file in listed:\n",
        "  print('title {}, id {}'.format(file['title'], file['id']))"
      ],
      "execution_count": null,
      "outputs": [
        {
          "output_type": "stream",
          "text": [
            "title Sample file.txt, id 196rOaPCfi3LoNoyvfhO5UMr58BSg62ff\n",
            "title Sample file.txt, id 1ZY7KFss1lvy0-cCqbLqYt0C-pLmmqvw9\n"
          ],
          "name": "stdout"
        }
      ]
    },
    {
      "cell_type": "code",
      "metadata": {
        "id": "o7ojEx65OvtS",
        "outputId": "a6b55295-81a7-4373-a465-0d2b4e9ce1e2",
        "colab": {
          "base_uri": "https://localhost:8080/",
          "height": 1000
        }
      },
      "source": [
        "# Download a file based on its file ID.\n",
        "#\n",
        "# A file ID looks like: laggVyWshwcyP6kEI-y_W3P8D26sz\n",
        "file_id = '1MPKXP9D2oTUx64N2teGOWoeB6WylYS43' #https://drive.google.com/open?id=1MPKXP9D2oTUx64N2teGOWoeB6WylYS43\n",
        "downloaded = drive.CreateFile({'id': file_id})\n",
        "print('Downloaded content \"{}\"'.format(downloaded.GetContentString()))"
      ],
      "execution_count": null,
      "outputs": [
        {
          "output_type": "stream",
          "text": [
            "Downloaded content \"sim_type,aperture,gpu_rank,weight,stand_by_time,processor_frequency,thickness,flash_type,front_camera_resolution,auto_focus,screen_size,frames_per_second,FM,no_of_reviews_in_gsmarena_in_week,os,phone_height,screen_protection,sim_size,price,talk_time,video_resolution,display_resolution,removable_battery,display_type,primary_camera_resolution,battery_type,ram_memory,internal_memory,brand_rank,no_of_cores,micro_sd_slot,screen_pixel_density,water_proof_rate,phone_width,expandable_memory,version,usb_type,battery_capacity,processor_rank,is_liked\n",
            "0,12,55,155.0,250,1.3,10.5,5,2.0,0,4.5,15,3,0,0,132.9,26,3,3870,9,480,12,3,11,5.0,1,1,7,29,6,4,2,3,67.8,64.0,5,3,2000,125,1\n",
            "0,1,55,132.0,300,1.3,10.6,5,0.3,1,4.0,30,2,6,0,124.5,26,5,4059,9,720,15,3,11,5.0,1,1,7,11,6,4,4,6,64.0,32.0,5,3,2000,165,1\n",
            "0,9,55,142.0,329,1.5,8.5,5,2.0,3,5.0,30,2,20,0,145.5,4,3,4777,10,1080,4,3,1,5.04,2,1,7,27,6,4,9,6,72.0,32.0,6,3,2500,164,0\n",
            "0,8,55,152.0,385,1.3,8.0,5,2.0,3,5.0,15,3,0,0,147.5,26,3,5799,19,720,17,3,2,5.0,1,1,7,4,6,4,1,3,75.1,32.0,6,3,3000,165,1\n",
            "1,1,55,234.0,385,1.3,7.9,5,1.92,3,5.0,15,3,0,0,179.0,18,3,5990,11,720,17,3,1,5.0,1,1,7,4,6,4,1,6,91.0,32.0,6,3,3000,165,0\n",
            "0,14,55,179.0,280,1.3,7.9,5,5.0,3,5.5,30,3,6,0,150.0,5,3,5999,22,720,0,0,2,8.0,1,1,7,4,6,4,7,3,71.0,32.0,6,3,2900,165,0\n",
            "1,1,56,124.0,230,1.3,8.8,5,2.0,3,4.0,30,3,0,0,123.0,26,3,5999,11,1080,16,3,2,5.0,1,512,5,30,0,4,4,3,62.5,128.0,2,3,1700,163,1\n",
            "0,8,41,154.0,182,1.0,8.1,5,2.0,3,5.0,30,5,0,0,132.0,26,3,6599,7,720,4,3,2,8.0,0,2,2,4,6,4,9,3,78.0,32.0,6,3,2000,92,1\n",
            "1,8,41,214.0,182,1.0,8.2,5,2.0,3,5.0,30,3,39,0,172.0,18,3,6599,6,720,14,3,2,8.0,1,2,2,4,6,4,9,6,80.0,32.0,6,7,2000,92,1\n",
            "0,1,55,155.0,435,1.3,11.6,5,2.0,3,5.0,15,2,5,0,142.1,5,3,6649,9,720,4,1,2,8.0,1,2,7,4,6,4,9,6,72.4,32.0,5,3,3000,125,1\n",
            "0,1,55,169.0,514,1.3,7.9,2,2.0,3,5.0,30,3,5,0,152.0,26,3,6749,14,720,4,1,2,8.0,2,2,7,4,6,4,9,3,75.0,32.0,5,4,4000,126,1\n",
            "0,10,55,137.0,300,1.3,7.9,5,5.0,3,5.0,30,2,42,1,141.6,18,3,6990,15,720,3,3,7,8.0,1,1,7,2,6,3,9,6,70.0,128.0,0,3,2600,166,0\n",
            "0,1,50,135.0,280,1.4,8.0,7,5.0,3,5.3,30,3,10,0,148.0,26,3,6999,8,1080,4,3,2,13.0,1,1,7,20,4,4,8,2,74.0,32.0,4,3,2500,79,1\n",
            "0,11,43,133.0,198,1.2,9.0,5,2.0,3,4.7,30,2,139,0,134.0,5,3,6999,7,1080,14,3,2,8.0,2,2,2,6,6,4,11,6,67.0,32.0,4,8,2200,94,1\n",
            "0,8,41,142.0,200,1.3,8.9,5,5.0,3,5.0,30,3,94,0,140.8,21,3,6999,10,1080,4,1,2,13.0,1,3,2,18,6,6,9,6,70.4,32.0,6,3,2500,92,1\n",
            "1,10,41,131.0,680,1.3,8.7,5,5.0,3,5.0,30,1,10,0,140.1,1,11,6999,23,1080,14,1,1,13.0,1,2,2,30,6,2,9,3,68.9,256.0,6,3,2500,92,1\n",
            "1,10,47,152.0,576,1.2,8.6,5,5.0,3,5.0,30,3,28,3,144.0,26,3,7340,26,480,4,3,2,8.0,1,1,7,7,6,4,9,3,73.7,128.0,13,3,2200,132,1\n",
            "0,10,43,128.0,264,1.2,8.2,5,2.0,3,5.0,30,2,126,0,141.0,26,3,7499,13,720,4,3,1,8.0,2,2,2,11,6,4,9,6,70.0,32.0,4,3,2300,94,1\n",
            "0,10,41,130.0,180,1.3,8.4,5,2.0,3,4.5,30,3,0,0,69.0,18,3,7590,11,1080,4,3,7,5.0,1,1,7,2,6,6,5,6,136.5,128.0,6,7,2000,100,1\n",
            "0,10,43,143.0,160,1.2,8.2,5,5.0,3,5.0,30,3,142,0,142.4,6,3,7790,7,1080,4,3,2,8.0,1,2,2,17,6,6,9,3,73.0,32.0,5,3,2230,94,1\n",
            "0,1,55,152.0,450,1.2,9.4,2,5.0,3,5.0,30,2,0,0,143.0,5,3,7899,14,1080,4,1,2,8.0,1,2,7,4,6,4,9,6,71.8,32.0,6,3,4000,94,1\n",
            "0,10,34,140.0,264,1.5,8.0,5,5.0,3,5.5,30,5,184,0,152.6,26,3,7914,39,1080,4,3,2,8.0,2,2,7,11,4,4,7,3,76.2,32.0,5,3,2900,16,1\n",
            "2,1,38,125.0,354,1.3,7.6,5,5.0,3,5.0,30,5,10,0,144.6,14,11,7999,12,1080,9,1,2,13.0,2,3,4,27,4,2,23,6,72.0,128.0,6,5,2400,19,0\n",
            "3,1,43,97.0,345,1.2,5.1,5,5.0,3,4.8,30,3,0,0,141.9,5,9,8490,8,1080,14,1,0,8.0,2,2,2,4,6,2,10,2,68.1,0.0,5,3,2000,94,1\n",
            "0,10,29,150.0,322,1.5,8.2,5,5.0,3,5.0,30,3,113,0,142.0,2,12,8499,15,1080,9,3,2,13.0,2,2,2,11,4,6,23,6,71.0,32.0,6,4,2750,21,1\n",
            "0,8,43,202.0,914,1.2,10.6,2,5.0,3,5.5,30,4,34,0,156.0,18,3,8999,38,1080,4,1,2,13.0,2,2,2,16,6,6,7,6,77.5,64.0,5,4,5000,94,1\n",
            "0,8,43,170.0,456,1.2,10.8,2,5.0,3,5.5,30,2,189,0,152.5,7,3,8999,21,1080,9,3,2,13.0,2,2,2,16,6,4,7,6,77.2,128.0,5,3,3000,94,1\n",
            "0,8,38,155.0,350,1.3,9.3,5,5.0,3,5.5,30,3,122,0,151.0,18,3,8999,38,1080,4,1,2,13.0,1,2,2,18,4,6,7,6,77.0,64.0,6,4,3000,19,1\n",
            "0,1,44,160.0,617,1.7,9.6,5,5.0,3,5.0,30,3,0,0,150.1,26,12,9399,12,1080,4,3,9,8.0,2,1,7,5,4,4,9,3,72.7,32.0,5,3,2100,79,1\n",
            "0,10,43,185.0,775,1.2,9.4,5,5.0,3,5.5,30,2,87,0,154.0,26,3,9499,38,1080,4,3,2,13.0,2,2,2,6,6,4,7,6,78.7,32.0,4,3,3100,94,1\n",
            "0,8,55,141.0,218,1.2,7.6,5,8.0,3,5.0,30,2,9,0,142.7,26,10,9700,16,1080,18,1,11,8.0,3,1,2,10,6,4,3,6,71.7,128.0,1,3,2420,94,1\n",
            "0,8,34,150.0,270,1.7,8.0,2,5.0,3,5.5,30,2,0,0,152.6,19,3,9715,30,1080,1,3,1,13.0,1,2,2,11,4,4,16,6,76.2,32.0,5,3,2900,16,1\n",
            "0,8,43,155.0,250,1.4,11.6,2,5.0,3,5.0,30,2,760,0,142.1,5,3,9999,22,1080,4,1,2,13.0,1,2,2,3,6,4,9,7,72.4,32.0,6,3,2470,94,1\n",
            "0,10,28,164.0,264,1.4,8.7,2,5.0,3,5.5,30,2,420,0,150.0,26,3,9999,20,1080,9,1,2,16.0,2,2,4,6,2,1,16,6,76.0,0.0,6,3,4050,12,1\n",
            "0,10,28,164.0,265,1.4,8.7,2,5.0,3,5.5,30,2,420,0,150.0,18,3,9999,20,1080,9,1,2,16.0,2,2,4,6,2,3,16,6,76.0,0.0,6,3,4050,12,1\n",
            "0,8,34,150.0,750,1.7,8.0,2,5.0,3,5.5,30,3,608,0,152.6,26,3,9999,36,1080,9,3,2,13.0,1,2,2,11,4,6,16,6,76.2,32.0,5,4,3000,90,1\n",
            "0,10,34,138.0,521,1.7,8.2,5,5.0,3,5.0,30,3,20,0,146.9,26,9,9999,23,1080,4,3,2,13.0,2,1,7,5,4,4,9,6,70.9,32.0,4,3,2000,16,1\n",
            "1,10,38,149.0,360,1.3,8.7,2,5.0,3,5.5,30,1,0,0,150.9,1,11,9999,20,1080,9,1,2,13.0,6,2,4,30,4,4,18,3,75.2,128.0,5,3,3100,19,1\n",
            "2,0,27,128.0,490,1.7,8.8,5,5.0,3,5.0,30,3,0,0,140.8,18,11,9999,12,720,5,2,2,13.0,6,3,2,4,9,4,9,3,70.4,32.0,6,3,2100,19,0\n",
            "0,4,41,172.0,350,1.2,8.2,5,5.0,3,5.5,30,5,0,0,151.8,18,3,10190,21,1080,4,3,12,13.0,1,2,7,2,6,6,7,6,77.5,128.0,6,3,3000,94,1\n",
            "0,1,38,143.0,275,1.3,8.5,5,5.0,3,5.2,30,3,21,0,148.0,18,3,10899,10,1080,9,1,2,13.0,2,3,2,4,4,5,20,6,73.6,0.0,6,3,2900,90,1\n",
            "0,8,28,169.0,496,2.2,7.5,5,5.0,3,5.5,30,1,26,0,151.1,17,2,10999,20,2160,9,1,2,13.0,2,3,4,19,4,1,9,6,74.2,0.0,8,1,3000,14,1\n",
            "0,8,34,149.0,696,1.7,8.9,5,5.0,3,5.0,30,3,43,0,142.0,26,3,11090,46,1080,4,1,2,13.0,2,2,2,11,4,4,9,3,71.8,32.0,4,4,4000,16,1\n",
            "0,8,41,153.2,261,1.3,8.3,2,8.0,3,5.5,30,3,0,0,151.9,5,3,11299,28,1080,0,3,2,13.0,2,3,2,14,6,4,7,3,76.7,32.0,6,3,3000,92,1\n",
            "0,8,29,130.0,384,1.7,7.8,2,5.0,3,5.0,30,3,385,0,138.1,13,0,11999,35,1080,1,1,2,13.0,1,2,2,6,4,2,23,6,69.6,0.0,5,3,3120,22,1\n",
            "0,10,38,160.0,265,1.3,9.2,2,5.0,3,5.5,30,2,1016,0,153.6,18,3,11999,22,1080,9,1,2,13.0,2,3,2,11,2,3,17,6,76.5,128.0,6,3,3300,12,1\n",
            "0,10,29,155.0,342,1.5,11.6,2,5.0,3,5.0,30,3,0,0,142.1,5,0,12499,28,1080,4,1,12,13.0,1,2,2,3,4,4,34,5,72.4,32.0,6,2,2470,22,1\n",
            "0,13,34,138.0,761,1.7,8.2,5,5.0,3,5.0,30,4,2,0,146.9,18,11,13349,30,1080,3,1,2,13.0,1,2,2,5,4,3,9,6,70.9,32.0,4,3,2000,16,1\n",
            "0,3,41,148.0,566,1.0,9.3,5,5.0,3,5.0,30,2,0,0,141.0,5,3,13349,16,720,4,1,2,8.0,2,2,2,11,6,3,9,6,71.8,32.0,6,3,4000,92,1\n",
            "0,8,29,155.0,620,1.5,9.8,2,5.0,3,5.5,30,3,671,0,153.0,5,3,13499,24,1080,9,4,1,16.0,2,3,3,3,9,4,16,3,76.6,128.0,9,3,3000,72,1\n",
            "0,7,29,171.0,354,1.6,7.5,5,5.0,3,5.5,30,2,73,0,152.4,26,3,13990,23,1080,4,3,7,13.0,1,2,0,2,4,3,16,6,78.6,128.0,6,3,3000,72,1\n",
            "0,8,28,150.0,337,2.0,8.7,5,5.0,3,5.5,30,2,25,0,156.8,5,4,13999,9,1080,9,1,2,13.0,1,4,2,4,4,3,16,6,78.1,64.0,6,3,3000,14,1\n",
            "0,10,30,170.0,354,1.6,7.8,2,5.0,3,5.5,30,2,301,0,151.7,18,3,14249,23,1080,9,3,7,13.0,1,3,2,2,4,3,16,6,76.0,128.0,9,3,3300,72,1\n",
            "0,9,43,141.0,345,1.2,7.3,6,5.0,4,5.5,30,5,0,0,151.3,7,11,14300,18,1080,4,4,7,13.0,1,2,2,2,11,4,7,3,77.2,64.0,4,3,2950,94,0\n",
            "0,1,44,154.5,560,1.7,7.7,5,8.0,3,5.5,30,2,12,0,157.7,26,9,14614,12,1080,4,1,2,13.0,2,1,2,5,4,4,7,6,78.7,32.0,4,3,2600,79,1\n",
            "1,1,44,171.8,1093,1.4,7.7,5,1.1,3,6.0,30,3,24,0,165.2,26,3,14880,30,1080,4,1,11,13.0,1,1,7,8,6,4,6,6,83.8,32.0,3,3,3000,129,1\n",
            "1,10,29,229.0,480,1.5,7.6,4,5.0,3,6.8,30,3,0,0,186.6,18,3,14990,24,1080,1,1,1,13.0,2,2,4,11,4,4,12,6,96.6,64.0,5,3,3500,22,1\n",
            "0,10,16,160.0,200,2.3,6.9,5,8.0,3,5.0,30,3,175,0,140.0,5,9,14999,24,1080,9,1,0,13.0,2,3,2,12,6,1,23,6,69.0,0.0,6,4,2525,15,1\n",
            "3,6,16,149.0,280,2.5,8.9,5,8.0,3,5.0,30,2,33,0,139.2,26,3,14999,18,2160,1,1,2,13.0,1,3,2,6,6,2,23,6,68.5,0.0,4,3,3080,15,1\n",
            "3,3,16,144.0,250,2.5,10.0,2,13.0,3,5.2,30,4,188,0,140.8,5,11,14999,24,2160,9,1,5,13.0,1,2,2,3,6,1,20,4,72.4,0.0,4,3,2300,15,1\n",
            "2,10,16,175.0,840,2.5,8.9,3,8.0,3,5.5,30,1,6,0,155.7,15,11,15689,48,1080,9,1,4,13.0,2,3,6,11,6,0,16,3,77.3,0.0,6,14,4100,15,0\n",
            "0,8,29,134.0,380,1.7,7.3,5,8.0,3,5.0,30,1,0,0,143.5,8,2,15950,20,1080,9,1,2,13.0,1,3,2,10,4,3,9,6,71.0,128.0,6,3,2500,21,1\n",
            "0,7,30,170.0,354,1.6,7.8,5,5.0,3,5.5,30,3,301,0,151.7,26,3,15990,23,1080,0,3,7,13.0,1,3,2,2,4,4,7,6,76.0,32.0,9,3,3300,72,1\n",
            "0,13,29,189.0,600,1.5,9.9,2,5.0,3,5.5,30,2,137,0,152.9,5,11,15999,44,1080,9,1,2,13.0,2,2,4,11,4,3,16,6,75.6,128.0,6,3,5000,22,1\n",
            "3,10,15,130.0,370,1.6,7.9,5,2.0,3,5.0,30,1,347,0,136.6,5,3,16999,17,1080,9,3,7,13.0,1,2,2,2,4,4,23,3,69.8,64.0,2,10,2600,20,1\n",
            "0,10,29,145.0,456,1.7,7.3,2,8.0,3,5.0,30,2,22,0,142.0,5,3,17810,21,1080,1,1,2,16.0,2,3,4,11,4,4,23,6,70.0,128.0,5,3,3000,22,1\n",
            "0,8,29,169.0,330,1.7,10.9,2,5.0,3,5.5,30,2,48,0,148.0,5,11,18499,18,1080,9,1,2,21.0,1,2,4,3,6,4,16,7,75.0,128.0,6,3,3630,22,1\n",
            "1,8,29,135.0,488,1.5,7.3,5,5.0,3,5.0,30,3,0,0,145.5,21,9,18798,13,1080,6,1,2,13.0,1,2,2,8,6,4,9,0,72.6,128.0,5,3,2400,22,1\n",
            "0,10,34,147.0,682,1.7,7.9,5,5.0,3,5.5,30,3,0,0,150.3,20,9,19000,11,1080,1,1,3,13.0,1,2,2,8,4,4,0,3,77.4,128.0,5,7,2600,16,1\n",
            "0,8,38,150.0,420,1.5,8.0,5,4.0,3,5.5,30,3,18,0,157.7,26,9,19490,12,1080,9,1,2,13.0,2,2,2,5,4,4,16,3,78.9,2048.0,6,3,2800,19,1\n",
            "0,10,34,165.0,170,1.5,7.6,5,4.0,3,5.5,30,1,13,0,157.7,26,9,19890,7,1080,4,3,2,13.0,6,2,2,5,4,4,7,3,79.7,128.0,5,3,2600,16,1\n",
            "3,8,16,162.0,360,2.5,8.9,2,5.0,3,5.5,30,4,22,0,152.9,5,3,19999,38,2160,9,1,2,13.0,2,3,6,12,6,1,16,6,75.9,0.0,4,4,3100,15,1\n",
            "3,10,17,112.0,250,1.3,7.6,2,1.2,3,4.0,30,1,1304,2,123.8,12,11,20397,10,1080,2,1,2,8.0,2,1,2,1,0,1,13,6,58.6,0.0,11,13,1560,13,1\n",
            "0,8,29,183.0,687,1.7,8.0,5,4.0,3,5.5,30,2,131,0,158.0,26,11,21300,19,1080,9,1,9,13.0,2,2,2,5,4,4,16,6,77.5,128.0,5,3,2600,22,1\n",
            "3,10,16,145.0,390,1.9,8.1,5,2.0,3,5.1,30,1,22,0,142.0,5,9,21999,21,2160,1,3,7,16.0,1,2,2,2,6,4,22,7,72.5,128.0,4,9,2800,15,0\n",
            "0,8,34,187.0,635,1.7,8.2,5,13.0,3,6.0,30,3,26,0,164.2,20,9,21999,13,1080,1,1,2,13.0,1,2,2,8,4,4,14,3,79.6,200.0,5,3,2930,16,1\n",
            "0,8,9,175.0,360,1.8,9.9,2,5.0,3,5.5,30,4,100,0,151.8,5,9,22999,38,2160,9,1,2,13.0,2,4,6,12,6,1,16,6,74.9,0.0,6,12,3300,5,1\n",
            "1,8,24,157.0,620,2.2,8.5,1,8.0,3,5.2,30,3,29,0,143.2,26,9,22999,23,1080,9,4,2,20.0,2,3,2,15,4,4,20,6,71.9,128.0,5,3,3100,11,0\n",
            "0,8,14,175.0,618,1.8,9.3,2,8.0,4,5.5,30,2,0,0,154.0,5,11,24499,31,2160,9,4,1,21.0,4,3,6,11,8,6,16,6,76.5,0.0,6,3,3600,8,0\n",
            "3,7,41,155.0,180,1.6,7.1,5,5.0,3,5.2,30,3,75,0,144.8,7,9,24900,16,1080,1,0,7,13.0,2,2,2,2,4,4,20,3,71.0,128.0,6,3,2900,72,1\n",
            "1,8,3,129.0,598,1.8,7.3,2,4.0,3,5.15,30,1,0,0,144.6,7,9,24999,27,2160,1,1,2,16.0,2,4,4,6,6,2,21,6,69.2,0.0,9,0,3000,2,0\n",
            "4,8,14,179.0,410,1.8,11.1,0,5.0,3,5.7,30,1,4,0,153.9,5,9,24999,19,2160,10,4,12,21.0,1,3,6,3,8,4,26,6,76.2,128.0,6,3,3000,3,1\n",
            "3,8,9,144.0,590,2.0,6.9,5,2.2,3,5.2,30,2,126,0,146.0,25,3,25500,17,2160,1,1,1,20.7,1,3,4,8,6,4,20,7,72.0,128.0,5,3,2930,5,1\n",
            "1,10,28,142.6,504,2.0,7.6,5,13.0,3,5.0,30,3,69,0,145.0,21,9,25500,12,216,1,1,2,21.2,1,3,2,8,4,4,23,1,72.0,200.0,5,3,2600,14,0\n",
            "0,10,25,145.0,250,2.0,6.6,5,16.0,3,5.5,30,4,19,0,151.8,7,11,27580,24,1080,9,1,0,13.0,2,4,6,10,4,3,16,6,74.3,128.0,6,3,2850,90,1\n",
            "3,10,11,176.0,200,2.7,8.5,5,3.7,3,5.7,30,1,226,0,153.5,0,3,29900,20,216,10,3,7,16.0,1,3,4,2,6,4,24,6,78.6,128.0,4,3,3220,9,1\n",
            "0,10,21,168.0,420,2.3,8.3,5,2.0,3,5.7,30,0,502,0,151.2,5,3,29990,21,2160,9,3,7,13.0,1,3,4,2,6,4,15,3,79.2,64.0,3,9,3200,52,1\n",
            "4,6,14,155.0,410,1.8,6.3,2,8.0,3,5.5,30,3,0,0,148.9,10,9,30947,19,2160,10,5,1,16.0,1,3,4,9,8,4,28,6,76.1,2048.0,6,3,3000,8,1\n",
            "3,8,9,178.0,440,2.0,7.3,2,8.0,3,5.7,30,1,87,0,159.3,11,9,31999,23,2160,8,1,0,12.3,2,3,4,15,4,2,25,6,77.8,0.0,9,3,3450,5,1\n",
            "3,7,8,138.0,354,2.1,6.8,2,5.0,3,5.1,30,1,349,0,143.4,7,9,33900,17,2160,10,1,7,16.0,1,3,4,2,6,2,31,3,70.5,0.0,5,3,2550,4,1\n",
            "3,8,9,169.0,500,2.0,9.2,2,5.0,3,5.4,30,4,22,0,149.8,23,11,34999,25,2160,10,1,0,21.0,1,3,4,3,6,1,29,6,78.0,0.0,7,3,3760,5,0\n",
            "3,10,6,113.0,240,1.84,7.6,2,1.2,3,4.0,30,1,0,2,123.8,3,6,34999,14,2160,13,1,1,12.0,2,1,2,1,1,2,13,6,58.6,0.0,14,13,1624,1,0\n",
            "4,8,14,136.0,360,1.8,7.9,1,5.0,3,5.2,30,1,24,0,147.0,5,9,35900,14,2160,9,4,2,12.3,4,2,2,9,8,2,19,6,72.6,0.0,9,11,2700,8,1\n",
            "3,10,12,129.0,250,1.4,6.9,2,1.3,3,4.7,60,1,410,2,138.1,16,9,36499,14,1080,7,1,2,8.0,2,1,2,1,0,2,13,3,67.0,0.0,12,6,1810,7,1\n",
            "3,10,12,129.0,250,1.4,6.9,2,1.2,3,4.7,60,4,39,2,138.1,16,11,36999,14,1080,9,1,2,8.0,2,1,2,1,0,1,13,6,67.0,0.0,12,13,1810,7,1\n",
            "3,10,28,168.0,580,2.2,9.6,2,4.0,3,5.2,30,3,11,0,151.0,7,7,37766,20,2160,10,4,10,20.0,4,3,4,5,10,4,30,6,72.0,256.0,5,3,2840,56,0\n",
            "3,12,16,149.0,410,2.5,8.9,3,2.1,3,5.5,30,3,0,0,146.3,5,1,38000,19,2160,10,3,1,13.0,5,3,4,9,7,4,28,6,74.6,32.0,4,3,3000,15,1\n",
            "0,8,9,154.0,340,2.0,7.3,6,5.0,2,5.2,30,3,9,0,146.0,24,7,39890,13,2160,9,4,1,23.0,4,3,4,8,5,6,20,1,72.0,256.0,6,3,2900,5,1\n",
            "3,2,8,132.0,362,1.5,7.0,5,5.0,4,5.1,30,1,0,0,142.1,9,7,40900,14,2160,10,1,7,16.0,1,3,4,2,7,4,32,6,70.1,64.0,5,3,2600,4,1\n",
            "3,10,12,129.0,250,1.4,6.9,2,1.2,3,4.7,60,4,39,2,138.1,16,11,48329,14,1080,7,1,2,8.0,2,1,6,1,0,1,13,6,67.0,0.0,12,13,1810,7,1\n",
            "0,5,3,152.0,242,2.3,7.9,5,5.0,3,5.1,30,4,150,0,142.4,7,9,48900,22,2160,10,1,8,12.0,1,4,4,2,6,6,32,1,69.6,200.0,9,3,3000,101,1\n",
            "3,10,6,143.0,240,1.8,7.1,2,5.0,3,4.7,30,4,100,2,138.3,16,11,49499,14,2160,7,1,2,12.0,2,2,2,1,0,1,13,6,67.1,0.0,14,13,1715,1,1\n",
            "0,7,43,171.0,330,2.1,7.6,5,5.0,3,5.7,30,1,107,0,153.2,7,9,50895,22,2160,8,1,7,16.0,2,4,4,2,4,2,25,6,76.1,0.0,6,3,3450,4,1\n",
            "3,8,9,180.0,600,2.0,7.8,6,5.0,2,5.5,30,3,0,0,154.4,22,7,52699,19,2160,11,4,2,23.0,4,3,4,8,12,6,33,1,75.8,256.0,6,3,3430,5,1\n",
            "3,10,14,192.0,540,1.8,9.4,2,2.0,2,5.4,30,1,0,0,147.0,26,7,54900,15,2160,10,4,0,18.0,4,3,4,25,3,4,29,6,77.2,256.0,6,3,3410,8,1\n",
            "0,5,3,157.0,400,2.3,7.7,5,5.0,3,5.5,30,4,144,0,150.9,7,9,56900,27,2160,10,1,8,12.0,1,4,4,2,6,6,27,1,72.6,200.0,9,3,3600,101,1\n",
            "3,10,6,192.0,384,1.8,7.3,2,5.0,3,5.5,30,4,81,2,158.2,16,11,59000,24,2160,7,1,2,12.0,2,2,2,1,0,1,16,6,77.9,0.0,14,13,2750,1,1\n",
            "3,10,12,129.0,250,1.4,6.9,2,1.2,3,4.7,60,4,39,2,138.1,16,11,64500,14,1080,7,1,2,8.0,2,1,1,1,0,1,13,6,67.0,0.0,12,13,1810,7,1\n",
            "2,8,3,158.0,400,2.2,7.4,6,8.0,3,5.5,30,1,0,0,152.7,7,8,27999,40,2160,9,1,6,16.0,4,6,6,12,6,5,16,6,74.7,0.0,10,12,3000,2,0\n",
            "\"\n"
          ],
          "name": "stdout"
        }
      ]
    },
    {
      "cell_type": "code",
      "metadata": {
        "id": "bBUfaCqjPr1K"
      },
      "source": [
        "downloaded.GetContentFile(\"mobile_cleaned_local.csv\")"
      ],
      "execution_count": null,
      "outputs": []
    },
    {
      "cell_type": "code",
      "metadata": {
        "id": "nGmMUPSeP0f_",
        "outputId": "801b51ab-f919-4620-87dc-7b0380630085",
        "colab": {
          "base_uri": "https://localhost:8080/",
          "height": 34
        }
      },
      "source": [
        "!ls"
      ],
      "execution_count": null,
      "outputs": [
        {
          "output_type": "stream",
          "text": [
            "adc.json  mobile_cleaned_local.csv  sample_data\n"
          ],
          "name": "stdout"
        }
      ]
    },
    {
      "cell_type": "code",
      "metadata": {
        "id": "jENr0Bf_P1qR"
      },
      "source": [
        "import pandas as pd"
      ],
      "execution_count": null,
      "outputs": []
    },
    {
      "cell_type": "code",
      "metadata": {
        "id": "LP4-Dud8QApG"
      },
      "source": [
        "df = pd.read_csv(\"mobile_cleaned_local.csv\")"
      ],
      "execution_count": null,
      "outputs": []
    },
    {
      "cell_type": "code",
      "metadata": {
        "id": "O8Oc-aRzQPPy",
        "outputId": "4741af8c-d13d-4ea3-a969-90184880e56a",
        "colab": {
          "base_uri": "https://localhost:8080/",
          "height": 224
        }
      },
      "source": [
        "df.head()"
      ],
      "execution_count": null,
      "outputs": [
        {
          "output_type": "execute_result",
          "data": {
            "text/html": [
              "<div>\n",
              "<style scoped>\n",
              "    .dataframe tbody tr th:only-of-type {\n",
              "        vertical-align: middle;\n",
              "    }\n",
              "\n",
              "    .dataframe tbody tr th {\n",
              "        vertical-align: top;\n",
              "    }\n",
              "\n",
              "    .dataframe thead th {\n",
              "        text-align: right;\n",
              "    }\n",
              "</style>\n",
              "<table border=\"1\" class=\"dataframe\">\n",
              "  <thead>\n",
              "    <tr style=\"text-align: right;\">\n",
              "      <th></th>\n",
              "      <th>sim_type</th>\n",
              "      <th>aperture</th>\n",
              "      <th>gpu_rank</th>\n",
              "      <th>weight</th>\n",
              "      <th>stand_by_time</th>\n",
              "      <th>processor_frequency</th>\n",
              "      <th>thickness</th>\n",
              "      <th>flash_type</th>\n",
              "      <th>front_camera_resolution</th>\n",
              "      <th>auto_focus</th>\n",
              "      <th>screen_size</th>\n",
              "      <th>frames_per_second</th>\n",
              "      <th>FM</th>\n",
              "      <th>no_of_reviews_in_gsmarena_in_week</th>\n",
              "      <th>os</th>\n",
              "      <th>phone_height</th>\n",
              "      <th>screen_protection</th>\n",
              "      <th>sim_size</th>\n",
              "      <th>price</th>\n",
              "      <th>talk_time</th>\n",
              "      <th>video_resolution</th>\n",
              "      <th>display_resolution</th>\n",
              "      <th>removable_battery</th>\n",
              "      <th>display_type</th>\n",
              "      <th>primary_camera_resolution</th>\n",
              "      <th>battery_type</th>\n",
              "      <th>ram_memory</th>\n",
              "      <th>internal_memory</th>\n",
              "      <th>brand_rank</th>\n",
              "      <th>no_of_cores</th>\n",
              "      <th>micro_sd_slot</th>\n",
              "      <th>screen_pixel_density</th>\n",
              "      <th>water_proof_rate</th>\n",
              "      <th>phone_width</th>\n",
              "      <th>expandable_memory</th>\n",
              "      <th>version</th>\n",
              "      <th>usb_type</th>\n",
              "      <th>battery_capacity</th>\n",
              "      <th>processor_rank</th>\n",
              "      <th>is_liked</th>\n",
              "    </tr>\n",
              "  </thead>\n",
              "  <tbody>\n",
              "    <tr>\n",
              "      <th>0</th>\n",
              "      <td>0</td>\n",
              "      <td>12</td>\n",
              "      <td>55</td>\n",
              "      <td>155.0</td>\n",
              "      <td>250</td>\n",
              "      <td>1.3</td>\n",
              "      <td>10.5</td>\n",
              "      <td>5</td>\n",
              "      <td>2.00</td>\n",
              "      <td>0</td>\n",
              "      <td>4.5</td>\n",
              "      <td>15</td>\n",
              "      <td>3</td>\n",
              "      <td>0</td>\n",
              "      <td>0</td>\n",
              "      <td>132.9</td>\n",
              "      <td>26</td>\n",
              "      <td>3</td>\n",
              "      <td>3870</td>\n",
              "      <td>9</td>\n",
              "      <td>480</td>\n",
              "      <td>12</td>\n",
              "      <td>3</td>\n",
              "      <td>11</td>\n",
              "      <td>5.00</td>\n",
              "      <td>1</td>\n",
              "      <td>1</td>\n",
              "      <td>7</td>\n",
              "      <td>29</td>\n",
              "      <td>6</td>\n",
              "      <td>4</td>\n",
              "      <td>2</td>\n",
              "      <td>3</td>\n",
              "      <td>67.8</td>\n",
              "      <td>64.0</td>\n",
              "      <td>5</td>\n",
              "      <td>3</td>\n",
              "      <td>2000</td>\n",
              "      <td>125</td>\n",
              "      <td>1</td>\n",
              "    </tr>\n",
              "    <tr>\n",
              "      <th>1</th>\n",
              "      <td>0</td>\n",
              "      <td>1</td>\n",
              "      <td>55</td>\n",
              "      <td>132.0</td>\n",
              "      <td>300</td>\n",
              "      <td>1.3</td>\n",
              "      <td>10.6</td>\n",
              "      <td>5</td>\n",
              "      <td>0.30</td>\n",
              "      <td>1</td>\n",
              "      <td>4.0</td>\n",
              "      <td>30</td>\n",
              "      <td>2</td>\n",
              "      <td>6</td>\n",
              "      <td>0</td>\n",
              "      <td>124.5</td>\n",
              "      <td>26</td>\n",
              "      <td>5</td>\n",
              "      <td>4059</td>\n",
              "      <td>9</td>\n",
              "      <td>720</td>\n",
              "      <td>15</td>\n",
              "      <td>3</td>\n",
              "      <td>11</td>\n",
              "      <td>5.00</td>\n",
              "      <td>1</td>\n",
              "      <td>1</td>\n",
              "      <td>7</td>\n",
              "      <td>11</td>\n",
              "      <td>6</td>\n",
              "      <td>4</td>\n",
              "      <td>4</td>\n",
              "      <td>6</td>\n",
              "      <td>64.0</td>\n",
              "      <td>32.0</td>\n",
              "      <td>5</td>\n",
              "      <td>3</td>\n",
              "      <td>2000</td>\n",
              "      <td>165</td>\n",
              "      <td>1</td>\n",
              "    </tr>\n",
              "    <tr>\n",
              "      <th>2</th>\n",
              "      <td>0</td>\n",
              "      <td>9</td>\n",
              "      <td>55</td>\n",
              "      <td>142.0</td>\n",
              "      <td>329</td>\n",
              "      <td>1.5</td>\n",
              "      <td>8.5</td>\n",
              "      <td>5</td>\n",
              "      <td>2.00</td>\n",
              "      <td>3</td>\n",
              "      <td>5.0</td>\n",
              "      <td>30</td>\n",
              "      <td>2</td>\n",
              "      <td>20</td>\n",
              "      <td>0</td>\n",
              "      <td>145.5</td>\n",
              "      <td>4</td>\n",
              "      <td>3</td>\n",
              "      <td>4777</td>\n",
              "      <td>10</td>\n",
              "      <td>1080</td>\n",
              "      <td>4</td>\n",
              "      <td>3</td>\n",
              "      <td>1</td>\n",
              "      <td>5.04</td>\n",
              "      <td>2</td>\n",
              "      <td>1</td>\n",
              "      <td>7</td>\n",
              "      <td>27</td>\n",
              "      <td>6</td>\n",
              "      <td>4</td>\n",
              "      <td>9</td>\n",
              "      <td>6</td>\n",
              "      <td>72.0</td>\n",
              "      <td>32.0</td>\n",
              "      <td>6</td>\n",
              "      <td>3</td>\n",
              "      <td>2500</td>\n",
              "      <td>164</td>\n",
              "      <td>0</td>\n",
              "    </tr>\n",
              "    <tr>\n",
              "      <th>3</th>\n",
              "      <td>0</td>\n",
              "      <td>8</td>\n",
              "      <td>55</td>\n",
              "      <td>152.0</td>\n",
              "      <td>385</td>\n",
              "      <td>1.3</td>\n",
              "      <td>8.0</td>\n",
              "      <td>5</td>\n",
              "      <td>2.00</td>\n",
              "      <td>3</td>\n",
              "      <td>5.0</td>\n",
              "      <td>15</td>\n",
              "      <td>3</td>\n",
              "      <td>0</td>\n",
              "      <td>0</td>\n",
              "      <td>147.5</td>\n",
              "      <td>26</td>\n",
              "      <td>3</td>\n",
              "      <td>5799</td>\n",
              "      <td>19</td>\n",
              "      <td>720</td>\n",
              "      <td>17</td>\n",
              "      <td>3</td>\n",
              "      <td>2</td>\n",
              "      <td>5.00</td>\n",
              "      <td>1</td>\n",
              "      <td>1</td>\n",
              "      <td>7</td>\n",
              "      <td>4</td>\n",
              "      <td>6</td>\n",
              "      <td>4</td>\n",
              "      <td>1</td>\n",
              "      <td>3</td>\n",
              "      <td>75.1</td>\n",
              "      <td>32.0</td>\n",
              "      <td>6</td>\n",
              "      <td>3</td>\n",
              "      <td>3000</td>\n",
              "      <td>165</td>\n",
              "      <td>1</td>\n",
              "    </tr>\n",
              "    <tr>\n",
              "      <th>4</th>\n",
              "      <td>1</td>\n",
              "      <td>1</td>\n",
              "      <td>55</td>\n",
              "      <td>234.0</td>\n",
              "      <td>385</td>\n",
              "      <td>1.3</td>\n",
              "      <td>7.9</td>\n",
              "      <td>5</td>\n",
              "      <td>1.92</td>\n",
              "      <td>3</td>\n",
              "      <td>5.0</td>\n",
              "      <td>15</td>\n",
              "      <td>3</td>\n",
              "      <td>0</td>\n",
              "      <td>0</td>\n",
              "      <td>179.0</td>\n",
              "      <td>18</td>\n",
              "      <td>3</td>\n",
              "      <td>5990</td>\n",
              "      <td>11</td>\n",
              "      <td>720</td>\n",
              "      <td>17</td>\n",
              "      <td>3</td>\n",
              "      <td>1</td>\n",
              "      <td>5.00</td>\n",
              "      <td>1</td>\n",
              "      <td>1</td>\n",
              "      <td>7</td>\n",
              "      <td>4</td>\n",
              "      <td>6</td>\n",
              "      <td>4</td>\n",
              "      <td>1</td>\n",
              "      <td>6</td>\n",
              "      <td>91.0</td>\n",
              "      <td>32.0</td>\n",
              "      <td>6</td>\n",
              "      <td>3</td>\n",
              "      <td>3000</td>\n",
              "      <td>165</td>\n",
              "      <td>0</td>\n",
              "    </tr>\n",
              "  </tbody>\n",
              "</table>\n",
              "</div>"
            ],
            "text/plain": [
              "   sim_type  aperture  gpu_rank  ...  battery_capacity  processor_rank  is_liked\n",
              "0         0        12        55  ...              2000             125         1\n",
              "1         0         1        55  ...              2000             165         1\n",
              "2         0         9        55  ...              2500             164         0\n",
              "3         0         8        55  ...              3000             165         1\n",
              "4         1         1        55  ...              3000             165         0\n",
              "\n",
              "[5 rows x 40 columns]"
            ]
          },
          "metadata": {
            "tags": []
          },
          "execution_count": 10
        }
      ]
    },
    {
      "cell_type": "code",
      "metadata": {
        "id": "6v1lX2txQYfs",
        "outputId": "6649fe91-e546-4675-820d-833d57883dbb",
        "colab": {
          "base_uri": "https://localhost:8080/",
          "height": 224
        }
      },
      "source": [
        "df.tail()"
      ],
      "execution_count": null,
      "outputs": [
        {
          "output_type": "execute_result",
          "data": {
            "text/html": [
              "<div>\n",
              "<style scoped>\n",
              "    .dataframe tbody tr th:only-of-type {\n",
              "        vertical-align: middle;\n",
              "    }\n",
              "\n",
              "    .dataframe tbody tr th {\n",
              "        vertical-align: top;\n",
              "    }\n",
              "\n",
              "    .dataframe thead th {\n",
              "        text-align: right;\n",
              "    }\n",
              "</style>\n",
              "<table border=\"1\" class=\"dataframe\">\n",
              "  <thead>\n",
              "    <tr style=\"text-align: right;\">\n",
              "      <th></th>\n",
              "      <th>sim_type</th>\n",
              "      <th>aperture</th>\n",
              "      <th>gpu_rank</th>\n",
              "      <th>weight</th>\n",
              "      <th>stand_by_time</th>\n",
              "      <th>processor_frequency</th>\n",
              "      <th>thickness</th>\n",
              "      <th>flash_type</th>\n",
              "      <th>front_camera_resolution</th>\n",
              "      <th>auto_focus</th>\n",
              "      <th>screen_size</th>\n",
              "      <th>frames_per_second</th>\n",
              "      <th>FM</th>\n",
              "      <th>no_of_reviews_in_gsmarena_in_week</th>\n",
              "      <th>os</th>\n",
              "      <th>phone_height</th>\n",
              "      <th>screen_protection</th>\n",
              "      <th>sim_size</th>\n",
              "      <th>price</th>\n",
              "      <th>talk_time</th>\n",
              "      <th>video_resolution</th>\n",
              "      <th>display_resolution</th>\n",
              "      <th>removable_battery</th>\n",
              "      <th>display_type</th>\n",
              "      <th>primary_camera_resolution</th>\n",
              "      <th>battery_type</th>\n",
              "      <th>ram_memory</th>\n",
              "      <th>internal_memory</th>\n",
              "      <th>brand_rank</th>\n",
              "      <th>no_of_cores</th>\n",
              "      <th>micro_sd_slot</th>\n",
              "      <th>screen_pixel_density</th>\n",
              "      <th>water_proof_rate</th>\n",
              "      <th>phone_width</th>\n",
              "      <th>expandable_memory</th>\n",
              "      <th>version</th>\n",
              "      <th>usb_type</th>\n",
              "      <th>battery_capacity</th>\n",
              "      <th>processor_rank</th>\n",
              "      <th>is_liked</th>\n",
              "    </tr>\n",
              "  </thead>\n",
              "  <tbody>\n",
              "    <tr>\n",
              "      <th>104</th>\n",
              "      <td>3</td>\n",
              "      <td>10</td>\n",
              "      <td>14</td>\n",
              "      <td>192.0</td>\n",
              "      <td>540</td>\n",
              "      <td>1.8</td>\n",
              "      <td>9.4</td>\n",
              "      <td>2</td>\n",
              "      <td>2.0</td>\n",
              "      <td>2</td>\n",
              "      <td>5.4</td>\n",
              "      <td>30</td>\n",
              "      <td>1</td>\n",
              "      <td>0</td>\n",
              "      <td>0</td>\n",
              "      <td>147.0</td>\n",
              "      <td>26</td>\n",
              "      <td>7</td>\n",
              "      <td>54900</td>\n",
              "      <td>15</td>\n",
              "      <td>2160</td>\n",
              "      <td>10</td>\n",
              "      <td>4</td>\n",
              "      <td>0</td>\n",
              "      <td>18.0</td>\n",
              "      <td>4</td>\n",
              "      <td>3</td>\n",
              "      <td>4</td>\n",
              "      <td>25</td>\n",
              "      <td>3</td>\n",
              "      <td>4</td>\n",
              "      <td>29</td>\n",
              "      <td>6</td>\n",
              "      <td>77.2</td>\n",
              "      <td>256.0</td>\n",
              "      <td>6</td>\n",
              "      <td>3</td>\n",
              "      <td>3410</td>\n",
              "      <td>8</td>\n",
              "      <td>1</td>\n",
              "    </tr>\n",
              "    <tr>\n",
              "      <th>105</th>\n",
              "      <td>0</td>\n",
              "      <td>5</td>\n",
              "      <td>3</td>\n",
              "      <td>157.0</td>\n",
              "      <td>400</td>\n",
              "      <td>2.3</td>\n",
              "      <td>7.7</td>\n",
              "      <td>5</td>\n",
              "      <td>5.0</td>\n",
              "      <td>3</td>\n",
              "      <td>5.5</td>\n",
              "      <td>30</td>\n",
              "      <td>4</td>\n",
              "      <td>144</td>\n",
              "      <td>0</td>\n",
              "      <td>150.9</td>\n",
              "      <td>7</td>\n",
              "      <td>9</td>\n",
              "      <td>56900</td>\n",
              "      <td>27</td>\n",
              "      <td>2160</td>\n",
              "      <td>10</td>\n",
              "      <td>1</td>\n",
              "      <td>8</td>\n",
              "      <td>12.0</td>\n",
              "      <td>1</td>\n",
              "      <td>4</td>\n",
              "      <td>4</td>\n",
              "      <td>2</td>\n",
              "      <td>6</td>\n",
              "      <td>6</td>\n",
              "      <td>27</td>\n",
              "      <td>1</td>\n",
              "      <td>72.6</td>\n",
              "      <td>200.0</td>\n",
              "      <td>9</td>\n",
              "      <td>3</td>\n",
              "      <td>3600</td>\n",
              "      <td>101</td>\n",
              "      <td>1</td>\n",
              "    </tr>\n",
              "    <tr>\n",
              "      <th>106</th>\n",
              "      <td>3</td>\n",
              "      <td>10</td>\n",
              "      <td>6</td>\n",
              "      <td>192.0</td>\n",
              "      <td>384</td>\n",
              "      <td>1.8</td>\n",
              "      <td>7.3</td>\n",
              "      <td>2</td>\n",
              "      <td>5.0</td>\n",
              "      <td>3</td>\n",
              "      <td>5.5</td>\n",
              "      <td>30</td>\n",
              "      <td>4</td>\n",
              "      <td>81</td>\n",
              "      <td>2</td>\n",
              "      <td>158.2</td>\n",
              "      <td>16</td>\n",
              "      <td>11</td>\n",
              "      <td>59000</td>\n",
              "      <td>24</td>\n",
              "      <td>2160</td>\n",
              "      <td>7</td>\n",
              "      <td>1</td>\n",
              "      <td>2</td>\n",
              "      <td>12.0</td>\n",
              "      <td>2</td>\n",
              "      <td>2</td>\n",
              "      <td>2</td>\n",
              "      <td>1</td>\n",
              "      <td>0</td>\n",
              "      <td>1</td>\n",
              "      <td>16</td>\n",
              "      <td>6</td>\n",
              "      <td>77.9</td>\n",
              "      <td>0.0</td>\n",
              "      <td>14</td>\n",
              "      <td>13</td>\n",
              "      <td>2750</td>\n",
              "      <td>1</td>\n",
              "      <td>1</td>\n",
              "    </tr>\n",
              "    <tr>\n",
              "      <th>107</th>\n",
              "      <td>3</td>\n",
              "      <td>10</td>\n",
              "      <td>12</td>\n",
              "      <td>129.0</td>\n",
              "      <td>250</td>\n",
              "      <td>1.4</td>\n",
              "      <td>6.9</td>\n",
              "      <td>2</td>\n",
              "      <td>1.2</td>\n",
              "      <td>3</td>\n",
              "      <td>4.7</td>\n",
              "      <td>60</td>\n",
              "      <td>4</td>\n",
              "      <td>39</td>\n",
              "      <td>2</td>\n",
              "      <td>138.1</td>\n",
              "      <td>16</td>\n",
              "      <td>11</td>\n",
              "      <td>64500</td>\n",
              "      <td>14</td>\n",
              "      <td>1080</td>\n",
              "      <td>7</td>\n",
              "      <td>1</td>\n",
              "      <td>2</td>\n",
              "      <td>8.0</td>\n",
              "      <td>2</td>\n",
              "      <td>1</td>\n",
              "      <td>1</td>\n",
              "      <td>1</td>\n",
              "      <td>0</td>\n",
              "      <td>1</td>\n",
              "      <td>13</td>\n",
              "      <td>6</td>\n",
              "      <td>67.0</td>\n",
              "      <td>0.0</td>\n",
              "      <td>12</td>\n",
              "      <td>13</td>\n",
              "      <td>1810</td>\n",
              "      <td>7</td>\n",
              "      <td>1</td>\n",
              "    </tr>\n",
              "    <tr>\n",
              "      <th>108</th>\n",
              "      <td>2</td>\n",
              "      <td>8</td>\n",
              "      <td>3</td>\n",
              "      <td>158.0</td>\n",
              "      <td>400</td>\n",
              "      <td>2.2</td>\n",
              "      <td>7.4</td>\n",
              "      <td>6</td>\n",
              "      <td>8.0</td>\n",
              "      <td>3</td>\n",
              "      <td>5.5</td>\n",
              "      <td>30</td>\n",
              "      <td>1</td>\n",
              "      <td>0</td>\n",
              "      <td>0</td>\n",
              "      <td>152.7</td>\n",
              "      <td>7</td>\n",
              "      <td>8</td>\n",
              "      <td>27999</td>\n",
              "      <td>40</td>\n",
              "      <td>2160</td>\n",
              "      <td>9</td>\n",
              "      <td>1</td>\n",
              "      <td>6</td>\n",
              "      <td>16.0</td>\n",
              "      <td>4</td>\n",
              "      <td>6</td>\n",
              "      <td>6</td>\n",
              "      <td>12</td>\n",
              "      <td>6</td>\n",
              "      <td>5</td>\n",
              "      <td>16</td>\n",
              "      <td>6</td>\n",
              "      <td>74.7</td>\n",
              "      <td>0.0</td>\n",
              "      <td>10</td>\n",
              "      <td>12</td>\n",
              "      <td>3000</td>\n",
              "      <td>2</td>\n",
              "      <td>0</td>\n",
              "    </tr>\n",
              "  </tbody>\n",
              "</table>\n",
              "</div>"
            ],
            "text/plain": [
              "     sim_type  aperture  gpu_rank  ...  battery_capacity  processor_rank  is_liked\n",
              "104         3        10        14  ...              3410               8         1\n",
              "105         0         5         3  ...              3600             101         1\n",
              "106         3        10         6  ...              2750               1         1\n",
              "107         3        10        12  ...              1810               7         1\n",
              "108         2         8         3  ...              3000               2         0\n",
              "\n",
              "[5 rows x 40 columns]"
            ]
          },
          "metadata": {
            "tags": []
          },
          "execution_count": 11
        }
      ]
    },
    {
      "cell_type": "code",
      "metadata": {
        "id": "84z_trDQWOt2",
        "outputId": "eb741fa3-9b92-4613-ebf8-86718db50868",
        "colab": {
          "base_uri": "https://localhost:8080/",
          "height": 34
        }
      },
      "source": [
        "type(df)"
      ],
      "execution_count": null,
      "outputs": [
        {
          "output_type": "execute_result",
          "data": {
            "text/plain": [
              "pandas.core.frame.DataFrame"
            ]
          },
          "metadata": {
            "tags": []
          },
          "execution_count": 12
        }
      ]
    },
    {
      "cell_type": "code",
      "metadata": {
        "id": "9SJKdqLYWS0q",
        "outputId": "13d68ceb-7f01-42fe-f19e-466ee3239969",
        "colab": {
          "base_uri": "https://localhost:8080/",
          "height": 1000
        }
      },
      "source": [
        "dir(df)"
      ],
      "execution_count": null,
      "outputs": [
        {
          "output_type": "execute_result",
          "data": {
            "text/plain": [
              "['FM',\n",
              " 'T',\n",
              " '_AXIS_ALIASES',\n",
              " '_AXIS_IALIASES',\n",
              " '_AXIS_LEN',\n",
              " '_AXIS_NAMES',\n",
              " '_AXIS_NUMBERS',\n",
              " '_AXIS_ORDERS',\n",
              " '_AXIS_REVERSED',\n",
              " '__abs__',\n",
              " '__add__',\n",
              " '__and__',\n",
              " '__annotations__',\n",
              " '__array__',\n",
              " '__array_priority__',\n",
              " '__array_wrap__',\n",
              " '__bool__',\n",
              " '__class__',\n",
              " '__contains__',\n",
              " '__copy__',\n",
              " '__deepcopy__',\n",
              " '__delattr__',\n",
              " '__delitem__',\n",
              " '__dict__',\n",
              " '__dir__',\n",
              " '__div__',\n",
              " '__doc__',\n",
              " '__eq__',\n",
              " '__finalize__',\n",
              " '__floordiv__',\n",
              " '__format__',\n",
              " '__ge__',\n",
              " '__getattr__',\n",
              " '__getattribute__',\n",
              " '__getitem__',\n",
              " '__getstate__',\n",
              " '__gt__',\n",
              " '__hash__',\n",
              " '__iadd__',\n",
              " '__iand__',\n",
              " '__ifloordiv__',\n",
              " '__imod__',\n",
              " '__imul__',\n",
              " '__init__',\n",
              " '__init_subclass__',\n",
              " '__invert__',\n",
              " '__ior__',\n",
              " '__ipow__',\n",
              " '__isub__',\n",
              " '__iter__',\n",
              " '__itruediv__',\n",
              " '__ixor__',\n",
              " '__le__',\n",
              " '__len__',\n",
              " '__lt__',\n",
              " '__matmul__',\n",
              " '__mod__',\n",
              " '__module__',\n",
              " '__mul__',\n",
              " '__ne__',\n",
              " '__neg__',\n",
              " '__new__',\n",
              " '__nonzero__',\n",
              " '__or__',\n",
              " '__pos__',\n",
              " '__pow__',\n",
              " '__radd__',\n",
              " '__rand__',\n",
              " '__rdiv__',\n",
              " '__reduce__',\n",
              " '__reduce_ex__',\n",
              " '__repr__',\n",
              " '__rfloordiv__',\n",
              " '__rmatmul__',\n",
              " '__rmod__',\n",
              " '__rmul__',\n",
              " '__ror__',\n",
              " '__round__',\n",
              " '__rpow__',\n",
              " '__rsub__',\n",
              " '__rtruediv__',\n",
              " '__rxor__',\n",
              " '__setattr__',\n",
              " '__setitem__',\n",
              " '__setstate__',\n",
              " '__sizeof__',\n",
              " '__str__',\n",
              " '__sub__',\n",
              " '__subclasshook__',\n",
              " '__truediv__',\n",
              " '__weakref__',\n",
              " '__xor__',\n",
              " '_accessors',\n",
              " '_add_numeric_operations',\n",
              " '_add_series_or_dataframe_operations',\n",
              " '_agg_by_level',\n",
              " '_agg_examples_doc',\n",
              " '_agg_summary_and_see_also_doc',\n",
              " '_aggregate',\n",
              " '_aggregate_multiple_funcs',\n",
              " '_align_frame',\n",
              " '_align_series',\n",
              " '_box_col_values',\n",
              " '_box_item_values',\n",
              " '_builtin_table',\n",
              " '_check_inplace_setting',\n",
              " '_check_is_chained_assignment_possible',\n",
              " '_check_label_or_level_ambiguity',\n",
              " '_check_setitem_copy',\n",
              " '_clear_item_cache',\n",
              " '_clip_with_one_bound',\n",
              " '_clip_with_scalar',\n",
              " '_combine_frame',\n",
              " '_combine_match_index',\n",
              " '_consolidate',\n",
              " '_consolidate_inplace',\n",
              " '_construct_axes_dict',\n",
              " '_construct_axes_dict_from',\n",
              " '_construct_axes_from_arguments',\n",
              " '_construct_result',\n",
              " '_constructor',\n",
              " '_constructor_expanddim',\n",
              " '_constructor_sliced',\n",
              " '_convert',\n",
              " '_count_level',\n",
              " '_create_indexer',\n",
              " '_cython_table',\n",
              " '_deprecations',\n",
              " '_dir_additions',\n",
              " '_dir_deletions',\n",
              " '_drop_axis',\n",
              " '_drop_labels_or_levels',\n",
              " '_ensure_valid_index',\n",
              " '_find_valid_index',\n",
              " '_from_arrays',\n",
              " '_from_axes',\n",
              " '_get_agg_axis',\n",
              " '_get_axis',\n",
              " '_get_axis_name',\n",
              " '_get_axis_number',\n",
              " '_get_axis_resolvers',\n",
              " '_get_block_manager_axis',\n",
              " '_get_bool_data',\n",
              " '_get_cacher',\n",
              " '_get_cleaned_column_resolvers',\n",
              " '_get_cython_func',\n",
              " '_get_index_resolvers',\n",
              " '_get_item_cache',\n",
              " '_get_label_or_level_values',\n",
              " '_get_numeric_data',\n",
              " '_get_value',\n",
              " '_get_values',\n",
              " '_getitem_bool_array',\n",
              " '_getitem_multilevel',\n",
              " '_gotitem',\n",
              " '_iget_item_cache',\n",
              " '_indexed_same',\n",
              " '_info_axis',\n",
              " '_info_axis_name',\n",
              " '_info_axis_number',\n",
              " '_info_repr',\n",
              " '_init_mgr',\n",
              " '_internal_get_values',\n",
              " '_internal_names',\n",
              " '_internal_names_set',\n",
              " '_is_builtin_func',\n",
              " '_is_cached',\n",
              " '_is_copy',\n",
              " '_is_datelike_mixed_type',\n",
              " '_is_homogeneous_type',\n",
              " '_is_label_or_level_reference',\n",
              " '_is_label_reference',\n",
              " '_is_level_reference',\n",
              " '_is_mixed_type',\n",
              " '_is_numeric_mixed_type',\n",
              " '_is_view',\n",
              " '_ix',\n",
              " '_ixs',\n",
              " '_join_compat',\n",
              " '_maybe_cache_changed',\n",
              " '_maybe_update_cacher',\n",
              " '_metadata',\n",
              " '_needs_reindex_multi',\n",
              " '_obj_with_exclusions',\n",
              " '_protect_consolidate',\n",
              " '_reduce',\n",
              " '_reindex_axes',\n",
              " '_reindex_columns',\n",
              " '_reindex_index',\n",
              " '_reindex_multi',\n",
              " '_reindex_with_indexers',\n",
              " '_repr_data_resource_',\n",
              " '_repr_fits_horizontal_',\n",
              " '_repr_fits_vertical_',\n",
              " '_repr_html_',\n",
              " '_repr_latex_',\n",
              " '_reset_cache',\n",
              " '_reset_cacher',\n",
              " '_sanitize_column',\n",
              " '_selected_obj',\n",
              " '_selection',\n",
              " '_selection_list',\n",
              " '_selection_name',\n",
              " '_series',\n",
              " '_set_as_cached',\n",
              " '_set_axis',\n",
              " '_set_axis_name',\n",
              " '_set_is_copy',\n",
              " '_set_item',\n",
              " '_set_value',\n",
              " '_setitem_array',\n",
              " '_setitem_frame',\n",
              " '_setitem_slice',\n",
              " '_setup_axes',\n",
              " '_slice',\n",
              " '_stat_axis',\n",
              " '_stat_axis_name',\n",
              " '_stat_axis_number',\n",
              " '_take_with_is_copy',\n",
              " '_to_dict_of_blocks',\n",
              " '_try_aggregate_string_function',\n",
              " '_typ',\n",
              " '_update_inplace',\n",
              " '_validate_dtype',\n",
              " '_values',\n",
              " '_where',\n",
              " '_xs',\n",
              " 'abs',\n",
              " 'add',\n",
              " 'add_prefix',\n",
              " 'add_suffix',\n",
              " 'agg',\n",
              " 'aggregate',\n",
              " 'align',\n",
              " 'all',\n",
              " 'any',\n",
              " 'aperture',\n",
              " 'append',\n",
              " 'apply',\n",
              " 'applymap',\n",
              " 'asfreq',\n",
              " 'asof',\n",
              " 'assign',\n",
              " 'astype',\n",
              " 'at',\n",
              " 'at_time',\n",
              " 'attrs',\n",
              " 'auto_focus',\n",
              " 'axes',\n",
              " 'battery_capacity',\n",
              " 'battery_type',\n",
              " 'between_time',\n",
              " 'bfill',\n",
              " 'bool',\n",
              " 'boxplot',\n",
              " 'brand_rank',\n",
              " 'clip',\n",
              " 'columns',\n",
              " 'combine',\n",
              " 'combine_first',\n",
              " 'convert_dtypes',\n",
              " 'copy',\n",
              " 'corr',\n",
              " 'corrwith',\n",
              " 'count',\n",
              " 'cov',\n",
              " 'cummax',\n",
              " 'cummin',\n",
              " 'cumprod',\n",
              " 'cumsum',\n",
              " 'describe',\n",
              " 'diff',\n",
              " 'display_resolution',\n",
              " 'display_type',\n",
              " 'div',\n",
              " 'divide',\n",
              " 'dot',\n",
              " 'drop',\n",
              " 'drop_duplicates',\n",
              " 'droplevel',\n",
              " 'dropna',\n",
              " 'dtypes',\n",
              " 'duplicated',\n",
              " 'empty',\n",
              " 'eq',\n",
              " 'equals',\n",
              " 'eval',\n",
              " 'ewm',\n",
              " 'expandable_memory',\n",
              " 'expanding',\n",
              " 'explode',\n",
              " 'ffill',\n",
              " 'fillna',\n",
              " 'filter',\n",
              " 'first',\n",
              " 'first_valid_index',\n",
              " 'flash_type',\n",
              " 'floordiv',\n",
              " 'frames_per_second',\n",
              " 'from_dict',\n",
              " 'from_records',\n",
              " 'front_camera_resolution',\n",
              " 'ge',\n",
              " 'get',\n",
              " 'gpu_rank',\n",
              " 'groupby',\n",
              " 'gt',\n",
              " 'head',\n",
              " 'hist',\n",
              " 'iat',\n",
              " 'idxmax',\n",
              " 'idxmin',\n",
              " 'iloc',\n",
              " 'index',\n",
              " 'infer_objects',\n",
              " 'info',\n",
              " 'insert',\n",
              " 'internal_memory',\n",
              " 'interpolate',\n",
              " 'is_liked',\n",
              " 'isin',\n",
              " 'isna',\n",
              " 'isnull',\n",
              " 'items',\n",
              " 'iteritems',\n",
              " 'iterrows',\n",
              " 'itertuples',\n",
              " 'join',\n",
              " 'keys',\n",
              " 'kurt',\n",
              " 'kurtosis',\n",
              " 'last',\n",
              " 'last_valid_index',\n",
              " 'le',\n",
              " 'loc',\n",
              " 'lookup',\n",
              " 'lt',\n",
              " 'mad',\n",
              " 'mask',\n",
              " 'max',\n",
              " 'mean',\n",
              " 'median',\n",
              " 'melt',\n",
              " 'memory_usage',\n",
              " 'merge',\n",
              " 'micro_sd_slot',\n",
              " 'min',\n",
              " 'mod',\n",
              " 'mode',\n",
              " 'mul',\n",
              " 'multiply',\n",
              " 'ndim',\n",
              " 'ne',\n",
              " 'nlargest',\n",
              " 'no_of_cores',\n",
              " 'no_of_reviews_in_gsmarena_in_week',\n",
              " 'notna',\n",
              " 'notnull',\n",
              " 'nsmallest',\n",
              " 'nunique',\n",
              " 'os',\n",
              " 'pct_change',\n",
              " 'phone_height',\n",
              " 'phone_width',\n",
              " 'pipe',\n",
              " 'pivot',\n",
              " 'pivot_table',\n",
              " 'plot',\n",
              " 'pop',\n",
              " 'pow',\n",
              " 'price',\n",
              " 'primary_camera_resolution',\n",
              " 'processor_frequency',\n",
              " 'processor_rank',\n",
              " 'prod',\n",
              " 'product',\n",
              " 'quantile',\n",
              " 'query',\n",
              " 'radd',\n",
              " 'ram_memory',\n",
              " 'rank',\n",
              " 'rdiv',\n",
              " 'reindex',\n",
              " 'reindex_like',\n",
              " 'removable_battery',\n",
              " 'rename',\n",
              " 'rename_axis',\n",
              " 'reorder_levels',\n",
              " 'replace',\n",
              " 'resample',\n",
              " 'reset_index',\n",
              " 'rfloordiv',\n",
              " 'rmod',\n",
              " 'rmul',\n",
              " 'rolling',\n",
              " 'round',\n",
              " 'rpow',\n",
              " 'rsub',\n",
              " 'rtruediv',\n",
              " 'sample',\n",
              " 'screen_pixel_density',\n",
              " 'screen_protection',\n",
              " 'screen_size',\n",
              " 'select_dtypes',\n",
              " 'sem',\n",
              " 'set_axis',\n",
              " 'set_index',\n",
              " 'shape',\n",
              " 'shift',\n",
              " 'sim_size',\n",
              " 'sim_type',\n",
              " 'size',\n",
              " 'skew',\n",
              " 'slice_shift',\n",
              " 'sort_index',\n",
              " 'sort_values',\n",
              " 'squeeze',\n",
              " 'stack',\n",
              " 'stand_by_time',\n",
              " 'std',\n",
              " 'style',\n",
              " 'sub',\n",
              " 'subtract',\n",
              " 'sum',\n",
              " 'swapaxes',\n",
              " 'swaplevel',\n",
              " 'tail',\n",
              " 'take',\n",
              " 'talk_time',\n",
              " 'thickness',\n",
              " 'to_clipboard',\n",
              " 'to_csv',\n",
              " 'to_dict',\n",
              " 'to_excel',\n",
              " 'to_feather',\n",
              " 'to_gbq',\n",
              " 'to_hdf',\n",
              " 'to_html',\n",
              " 'to_json',\n",
              " 'to_latex',\n",
              " 'to_markdown',\n",
              " 'to_numpy',\n",
              " 'to_parquet',\n",
              " 'to_period',\n",
              " 'to_pickle',\n",
              " 'to_records',\n",
              " 'to_sql',\n",
              " 'to_stata',\n",
              " 'to_string',\n",
              " 'to_timestamp',\n",
              " 'to_xarray',\n",
              " 'transform',\n",
              " 'transpose',\n",
              " 'truediv',\n",
              " 'truncate',\n",
              " 'tshift',\n",
              " 'tz_convert',\n",
              " 'tz_localize',\n",
              " 'unstack',\n",
              " 'update',\n",
              " 'usb_type',\n",
              " 'values',\n",
              " 'var',\n",
              " 'version',\n",
              " 'video_resolution',\n",
              " 'water_proof_rate',\n",
              " 'weight',\n",
              " 'where',\n",
              " 'xs']"
            ]
          },
          "metadata": {
            "tags": []
          },
          "execution_count": 13
        }
      ]
    },
    {
      "cell_type": "code",
      "metadata": {
        "id": "6JCj8C6GWUbJ",
        "outputId": "2b041ec1-f9a8-4ae8-f325-acb750f1b790",
        "colab": {
          "base_uri": "https://localhost:8080/",
          "height": 34
        }
      },
      "source": [
        "len(df)"
      ],
      "execution_count": null,
      "outputs": [
        {
          "output_type": "execute_result",
          "data": {
            "text/plain": [
              "109"
            ]
          },
          "metadata": {
            "tags": []
          },
          "execution_count": 14
        }
      ]
    },
    {
      "cell_type": "code",
      "metadata": {
        "id": "5z8zwlNGWgq4",
        "outputId": "14b004f9-e1d6-4918-af03-04f6b0d1a34a",
        "colab": {
          "base_uri": "https://localhost:8080/",
          "height": 34
        }
      },
      "source": [
        "df.shape"
      ],
      "execution_count": null,
      "outputs": [
        {
          "output_type": "execute_result",
          "data": {
            "text/plain": [
              "(109, 40)"
            ]
          },
          "metadata": {
            "tags": []
          },
          "execution_count": 15
        }
      ]
    },
    {
      "cell_type": "code",
      "metadata": {
        "id": "Sp43FeirWi7h",
        "outputId": "77ccafed-e9af-4651-cf05-c733edc8b6de",
        "colab": {
          "base_uri": "https://localhost:8080/",
          "height": 714
        }
      },
      "source": [
        "df.loc[4]"
      ],
      "execution_count": null,
      "outputs": [
        {
          "output_type": "execute_result",
          "data": {
            "text/plain": [
              "sim_type                                1.00\n",
              "aperture                                1.00\n",
              "gpu_rank                               55.00\n",
              "weight                                234.00\n",
              "stand_by_time                         385.00\n",
              "processor_frequency                     1.30\n",
              "thickness                               7.90\n",
              "flash_type                              5.00\n",
              "front_camera_resolution                 1.92\n",
              "auto_focus                              3.00\n",
              "screen_size                             5.00\n",
              "frames_per_second                      15.00\n",
              "FM                                      3.00\n",
              "no_of_reviews_in_gsmarena_in_week       0.00\n",
              "os                                      0.00\n",
              "phone_height                          179.00\n",
              "screen_protection                      18.00\n",
              "sim_size                                3.00\n",
              "price                                5990.00\n",
              "talk_time                              11.00\n",
              "video_resolution                      720.00\n",
              "display_resolution                     17.00\n",
              "removable_battery                       3.00\n",
              "display_type                            1.00\n",
              "primary_camera_resolution               5.00\n",
              "battery_type                            1.00\n",
              "ram_memory                              1.00\n",
              "internal_memory                         7.00\n",
              "brand_rank                              4.00\n",
              "no_of_cores                             6.00\n",
              "micro_sd_slot                           4.00\n",
              "screen_pixel_density                    1.00\n",
              "water_proof_rate                        6.00\n",
              "phone_width                            91.00\n",
              "expandable_memory                      32.00\n",
              "version                                 6.00\n",
              "usb_type                                3.00\n",
              "battery_capacity                     3000.00\n",
              "processor_rank                        165.00\n",
              "is_liked                                0.00\n",
              "Name: 4, dtype: float64"
            ]
          },
          "metadata": {
            "tags": []
          },
          "execution_count": 16
        }
      ]
    },
    {
      "cell_type": "code",
      "metadata": {
        "id": "GTyspcHRWpic"
      },
      "source": [
        "df_short = df[0:10]"
      ],
      "execution_count": null,
      "outputs": []
    },
    {
      "cell_type": "code",
      "metadata": {
        "id": "8jzFsZ0DW6F0",
        "outputId": "7ee97ce7-bb4f-47e0-925b-9841e30b5b1f",
        "colab": {
          "base_uri": "https://localhost:8080/",
          "height": 34
        }
      },
      "source": [
        "df_short.shape"
      ],
      "execution_count": null,
      "outputs": [
        {
          "output_type": "execute_result",
          "data": {
            "text/plain": [
              "(10, 40)"
            ]
          },
          "metadata": {
            "tags": []
          },
          "execution_count": 18
        }
      ]
    },
    {
      "cell_type": "code",
      "metadata": {
        "id": "F60lJTLNW8TZ",
        "outputId": "4a6661a0-999f-490e-e8c8-c3781bf48782",
        "colab": {
          "base_uri": "https://localhost:8080/",
          "height": 224
        }
      },
      "source": [
        "df_short.head()"
      ],
      "execution_count": null,
      "outputs": [
        {
          "output_type": "execute_result",
          "data": {
            "text/html": [
              "<div>\n",
              "<style scoped>\n",
              "    .dataframe tbody tr th:only-of-type {\n",
              "        vertical-align: middle;\n",
              "    }\n",
              "\n",
              "    .dataframe tbody tr th {\n",
              "        vertical-align: top;\n",
              "    }\n",
              "\n",
              "    .dataframe thead th {\n",
              "        text-align: right;\n",
              "    }\n",
              "</style>\n",
              "<table border=\"1\" class=\"dataframe\">\n",
              "  <thead>\n",
              "    <tr style=\"text-align: right;\">\n",
              "      <th></th>\n",
              "      <th>sim_type</th>\n",
              "      <th>aperture</th>\n",
              "      <th>gpu_rank</th>\n",
              "      <th>weight</th>\n",
              "      <th>stand_by_time</th>\n",
              "      <th>processor_frequency</th>\n",
              "      <th>thickness</th>\n",
              "      <th>flash_type</th>\n",
              "      <th>front_camera_resolution</th>\n",
              "      <th>auto_focus</th>\n",
              "      <th>screen_size</th>\n",
              "      <th>frames_per_second</th>\n",
              "      <th>FM</th>\n",
              "      <th>no_of_reviews_in_gsmarena_in_week</th>\n",
              "      <th>os</th>\n",
              "      <th>phone_height</th>\n",
              "      <th>screen_protection</th>\n",
              "      <th>sim_size</th>\n",
              "      <th>price</th>\n",
              "      <th>talk_time</th>\n",
              "      <th>video_resolution</th>\n",
              "      <th>display_resolution</th>\n",
              "      <th>removable_battery</th>\n",
              "      <th>display_type</th>\n",
              "      <th>primary_camera_resolution</th>\n",
              "      <th>battery_type</th>\n",
              "      <th>ram_memory</th>\n",
              "      <th>internal_memory</th>\n",
              "      <th>brand_rank</th>\n",
              "      <th>no_of_cores</th>\n",
              "      <th>micro_sd_slot</th>\n",
              "      <th>screen_pixel_density</th>\n",
              "      <th>water_proof_rate</th>\n",
              "      <th>phone_width</th>\n",
              "      <th>expandable_memory</th>\n",
              "      <th>version</th>\n",
              "      <th>usb_type</th>\n",
              "      <th>battery_capacity</th>\n",
              "      <th>processor_rank</th>\n",
              "      <th>is_liked</th>\n",
              "    </tr>\n",
              "  </thead>\n",
              "  <tbody>\n",
              "    <tr>\n",
              "      <th>0</th>\n",
              "      <td>0</td>\n",
              "      <td>12</td>\n",
              "      <td>55</td>\n",
              "      <td>155.0</td>\n",
              "      <td>250</td>\n",
              "      <td>1.3</td>\n",
              "      <td>10.5</td>\n",
              "      <td>5</td>\n",
              "      <td>2.00</td>\n",
              "      <td>0</td>\n",
              "      <td>4.5</td>\n",
              "      <td>15</td>\n",
              "      <td>3</td>\n",
              "      <td>0</td>\n",
              "      <td>0</td>\n",
              "      <td>132.9</td>\n",
              "      <td>26</td>\n",
              "      <td>3</td>\n",
              "      <td>3870</td>\n",
              "      <td>9</td>\n",
              "      <td>480</td>\n",
              "      <td>12</td>\n",
              "      <td>3</td>\n",
              "      <td>11</td>\n",
              "      <td>5.00</td>\n",
              "      <td>1</td>\n",
              "      <td>1</td>\n",
              "      <td>7</td>\n",
              "      <td>29</td>\n",
              "      <td>6</td>\n",
              "      <td>4</td>\n",
              "      <td>2</td>\n",
              "      <td>3</td>\n",
              "      <td>67.8</td>\n",
              "      <td>64.0</td>\n",
              "      <td>5</td>\n",
              "      <td>3</td>\n",
              "      <td>2000</td>\n",
              "      <td>125</td>\n",
              "      <td>1</td>\n",
              "    </tr>\n",
              "    <tr>\n",
              "      <th>1</th>\n",
              "      <td>0</td>\n",
              "      <td>1</td>\n",
              "      <td>55</td>\n",
              "      <td>132.0</td>\n",
              "      <td>300</td>\n",
              "      <td>1.3</td>\n",
              "      <td>10.6</td>\n",
              "      <td>5</td>\n",
              "      <td>0.30</td>\n",
              "      <td>1</td>\n",
              "      <td>4.0</td>\n",
              "      <td>30</td>\n",
              "      <td>2</td>\n",
              "      <td>6</td>\n",
              "      <td>0</td>\n",
              "      <td>124.5</td>\n",
              "      <td>26</td>\n",
              "      <td>5</td>\n",
              "      <td>4059</td>\n",
              "      <td>9</td>\n",
              "      <td>720</td>\n",
              "      <td>15</td>\n",
              "      <td>3</td>\n",
              "      <td>11</td>\n",
              "      <td>5.00</td>\n",
              "      <td>1</td>\n",
              "      <td>1</td>\n",
              "      <td>7</td>\n",
              "      <td>11</td>\n",
              "      <td>6</td>\n",
              "      <td>4</td>\n",
              "      <td>4</td>\n",
              "      <td>6</td>\n",
              "      <td>64.0</td>\n",
              "      <td>32.0</td>\n",
              "      <td>5</td>\n",
              "      <td>3</td>\n",
              "      <td>2000</td>\n",
              "      <td>165</td>\n",
              "      <td>1</td>\n",
              "    </tr>\n",
              "    <tr>\n",
              "      <th>2</th>\n",
              "      <td>0</td>\n",
              "      <td>9</td>\n",
              "      <td>55</td>\n",
              "      <td>142.0</td>\n",
              "      <td>329</td>\n",
              "      <td>1.5</td>\n",
              "      <td>8.5</td>\n",
              "      <td>5</td>\n",
              "      <td>2.00</td>\n",
              "      <td>3</td>\n",
              "      <td>5.0</td>\n",
              "      <td>30</td>\n",
              "      <td>2</td>\n",
              "      <td>20</td>\n",
              "      <td>0</td>\n",
              "      <td>145.5</td>\n",
              "      <td>4</td>\n",
              "      <td>3</td>\n",
              "      <td>4777</td>\n",
              "      <td>10</td>\n",
              "      <td>1080</td>\n",
              "      <td>4</td>\n",
              "      <td>3</td>\n",
              "      <td>1</td>\n",
              "      <td>5.04</td>\n",
              "      <td>2</td>\n",
              "      <td>1</td>\n",
              "      <td>7</td>\n",
              "      <td>27</td>\n",
              "      <td>6</td>\n",
              "      <td>4</td>\n",
              "      <td>9</td>\n",
              "      <td>6</td>\n",
              "      <td>72.0</td>\n",
              "      <td>32.0</td>\n",
              "      <td>6</td>\n",
              "      <td>3</td>\n",
              "      <td>2500</td>\n",
              "      <td>164</td>\n",
              "      <td>0</td>\n",
              "    </tr>\n",
              "    <tr>\n",
              "      <th>3</th>\n",
              "      <td>0</td>\n",
              "      <td>8</td>\n",
              "      <td>55</td>\n",
              "      <td>152.0</td>\n",
              "      <td>385</td>\n",
              "      <td>1.3</td>\n",
              "      <td>8.0</td>\n",
              "      <td>5</td>\n",
              "      <td>2.00</td>\n",
              "      <td>3</td>\n",
              "      <td>5.0</td>\n",
              "      <td>15</td>\n",
              "      <td>3</td>\n",
              "      <td>0</td>\n",
              "      <td>0</td>\n",
              "      <td>147.5</td>\n",
              "      <td>26</td>\n",
              "      <td>3</td>\n",
              "      <td>5799</td>\n",
              "      <td>19</td>\n",
              "      <td>720</td>\n",
              "      <td>17</td>\n",
              "      <td>3</td>\n",
              "      <td>2</td>\n",
              "      <td>5.00</td>\n",
              "      <td>1</td>\n",
              "      <td>1</td>\n",
              "      <td>7</td>\n",
              "      <td>4</td>\n",
              "      <td>6</td>\n",
              "      <td>4</td>\n",
              "      <td>1</td>\n",
              "      <td>3</td>\n",
              "      <td>75.1</td>\n",
              "      <td>32.0</td>\n",
              "      <td>6</td>\n",
              "      <td>3</td>\n",
              "      <td>3000</td>\n",
              "      <td>165</td>\n",
              "      <td>1</td>\n",
              "    </tr>\n",
              "    <tr>\n",
              "      <th>4</th>\n",
              "      <td>1</td>\n",
              "      <td>1</td>\n",
              "      <td>55</td>\n",
              "      <td>234.0</td>\n",
              "      <td>385</td>\n",
              "      <td>1.3</td>\n",
              "      <td>7.9</td>\n",
              "      <td>5</td>\n",
              "      <td>1.92</td>\n",
              "      <td>3</td>\n",
              "      <td>5.0</td>\n",
              "      <td>15</td>\n",
              "      <td>3</td>\n",
              "      <td>0</td>\n",
              "      <td>0</td>\n",
              "      <td>179.0</td>\n",
              "      <td>18</td>\n",
              "      <td>3</td>\n",
              "      <td>5990</td>\n",
              "      <td>11</td>\n",
              "      <td>720</td>\n",
              "      <td>17</td>\n",
              "      <td>3</td>\n",
              "      <td>1</td>\n",
              "      <td>5.00</td>\n",
              "      <td>1</td>\n",
              "      <td>1</td>\n",
              "      <td>7</td>\n",
              "      <td>4</td>\n",
              "      <td>6</td>\n",
              "      <td>4</td>\n",
              "      <td>1</td>\n",
              "      <td>6</td>\n",
              "      <td>91.0</td>\n",
              "      <td>32.0</td>\n",
              "      <td>6</td>\n",
              "      <td>3</td>\n",
              "      <td>3000</td>\n",
              "      <td>165</td>\n",
              "      <td>0</td>\n",
              "    </tr>\n",
              "  </tbody>\n",
              "</table>\n",
              "</div>"
            ],
            "text/plain": [
              "   sim_type  aperture  gpu_rank  ...  battery_capacity  processor_rank  is_liked\n",
              "0         0        12        55  ...              2000             125         1\n",
              "1         0         1        55  ...              2000             165         1\n",
              "2         0         9        55  ...              2500             164         0\n",
              "3         0         8        55  ...              3000             165         1\n",
              "4         1         1        55  ...              3000             165         0\n",
              "\n",
              "[5 rows x 40 columns]"
            ]
          },
          "metadata": {
            "tags": []
          },
          "execution_count": 19
        }
      ]
    },
    {
      "cell_type": "code",
      "metadata": {
        "id": "1CjtnV3eXcBZ"
      },
      "source": [
        "df_thin = df[['stand_by_time','price','battery_capacity','is_liked']]"
      ],
      "execution_count": null,
      "outputs": []
    },
    {
      "cell_type": "code",
      "metadata": {
        "id": "zcR-h2xPXtCy",
        "outputId": "40d6cc56-a555-4212-8dc2-3eec79b178cc",
        "colab": {
          "base_uri": "https://localhost:8080/",
          "height": 34
        }
      },
      "source": [
        "df_thin.shape"
      ],
      "execution_count": null,
      "outputs": [
        {
          "output_type": "execute_result",
          "data": {
            "text/plain": [
              "(109, 4)"
            ]
          },
          "metadata": {
            "tags": []
          },
          "execution_count": 21
        }
      ]
    },
    {
      "cell_type": "code",
      "metadata": {
        "id": "wUY2sVpeX-fI",
        "outputId": "bb36d9c3-4795-499a-8bb6-3aa883e59d8d",
        "colab": {
          "base_uri": "https://localhost:8080/",
          "height": 204
        }
      },
      "source": [
        "df_thin.head()"
      ],
      "execution_count": null,
      "outputs": [
        {
          "output_type": "execute_result",
          "data": {
            "text/html": [
              "<div>\n",
              "<style scoped>\n",
              "    .dataframe tbody tr th:only-of-type {\n",
              "        vertical-align: middle;\n",
              "    }\n",
              "\n",
              "    .dataframe tbody tr th {\n",
              "        vertical-align: top;\n",
              "    }\n",
              "\n",
              "    .dataframe thead th {\n",
              "        text-align: right;\n",
              "    }\n",
              "</style>\n",
              "<table border=\"1\" class=\"dataframe\">\n",
              "  <thead>\n",
              "    <tr style=\"text-align: right;\">\n",
              "      <th></th>\n",
              "      <th>stand_by_time</th>\n",
              "      <th>price</th>\n",
              "      <th>battery_capacity</th>\n",
              "      <th>is_liked</th>\n",
              "    </tr>\n",
              "  </thead>\n",
              "  <tbody>\n",
              "    <tr>\n",
              "      <th>0</th>\n",
              "      <td>250</td>\n",
              "      <td>3870</td>\n",
              "      <td>2000</td>\n",
              "      <td>1</td>\n",
              "    </tr>\n",
              "    <tr>\n",
              "      <th>1</th>\n",
              "      <td>300</td>\n",
              "      <td>4059</td>\n",
              "      <td>2000</td>\n",
              "      <td>1</td>\n",
              "    </tr>\n",
              "    <tr>\n",
              "      <th>2</th>\n",
              "      <td>329</td>\n",
              "      <td>4777</td>\n",
              "      <td>2500</td>\n",
              "      <td>0</td>\n",
              "    </tr>\n",
              "    <tr>\n",
              "      <th>3</th>\n",
              "      <td>385</td>\n",
              "      <td>5799</td>\n",
              "      <td>3000</td>\n",
              "      <td>1</td>\n",
              "    </tr>\n",
              "    <tr>\n",
              "      <th>4</th>\n",
              "      <td>385</td>\n",
              "      <td>5990</td>\n",
              "      <td>3000</td>\n",
              "      <td>0</td>\n",
              "    </tr>\n",
              "  </tbody>\n",
              "</table>\n",
              "</div>"
            ],
            "text/plain": [
              "   stand_by_time  price  battery_capacity  is_liked\n",
              "0            250   3870              2000         1\n",
              "1            300   4059              2000         1\n",
              "2            329   4777              2500         0\n",
              "3            385   5799              3000         1\n",
              "4            385   5990              3000         0"
            ]
          },
          "metadata": {
            "tags": []
          },
          "execution_count": 22
        }
      ]
    },
    {
      "cell_type": "code",
      "metadata": {
        "id": "ZZd4bsq7YCDY"
      },
      "source": [
        "df_liked = df_thin[df_thin['is_liked']==1]"
      ],
      "execution_count": null,
      "outputs": []
    },
    {
      "cell_type": "code",
      "metadata": {
        "id": "IiYXFqdpYk_A",
        "outputId": "1d64b9d0-da69-490c-8f23-9125bbbf54c4",
        "colab": {
          "base_uri": "https://localhost:8080/",
          "height": 34
        }
      },
      "source": [
        "df_liked.shape"
      ],
      "execution_count": null,
      "outputs": [
        {
          "output_type": "execute_result",
          "data": {
            "text/plain": [
              "(92, 4)"
            ]
          },
          "metadata": {
            "tags": []
          },
          "execution_count": 24
        }
      ]
    },
    {
      "cell_type": "code",
      "metadata": {
        "id": "zM_QQrOjYnrD",
        "outputId": "a045f3cd-e450-428c-c1c8-90e084bafe0e",
        "colab": {
          "base_uri": "https://localhost:8080/",
          "height": 204
        }
      },
      "source": [
        "df_liked.head()"
      ],
      "execution_count": null,
      "outputs": [
        {
          "output_type": "execute_result",
          "data": {
            "text/html": [
              "<div>\n",
              "<style scoped>\n",
              "    .dataframe tbody tr th:only-of-type {\n",
              "        vertical-align: middle;\n",
              "    }\n",
              "\n",
              "    .dataframe tbody tr th {\n",
              "        vertical-align: top;\n",
              "    }\n",
              "\n",
              "    .dataframe thead th {\n",
              "        text-align: right;\n",
              "    }\n",
              "</style>\n",
              "<table border=\"1\" class=\"dataframe\">\n",
              "  <thead>\n",
              "    <tr style=\"text-align: right;\">\n",
              "      <th></th>\n",
              "      <th>stand_by_time</th>\n",
              "      <th>price</th>\n",
              "      <th>battery_capacity</th>\n",
              "      <th>is_liked</th>\n",
              "    </tr>\n",
              "  </thead>\n",
              "  <tbody>\n",
              "    <tr>\n",
              "      <th>0</th>\n",
              "      <td>250</td>\n",
              "      <td>3870</td>\n",
              "      <td>2000</td>\n",
              "      <td>1</td>\n",
              "    </tr>\n",
              "    <tr>\n",
              "      <th>1</th>\n",
              "      <td>300</td>\n",
              "      <td>4059</td>\n",
              "      <td>2000</td>\n",
              "      <td>1</td>\n",
              "    </tr>\n",
              "    <tr>\n",
              "      <th>3</th>\n",
              "      <td>385</td>\n",
              "      <td>5799</td>\n",
              "      <td>3000</td>\n",
              "      <td>1</td>\n",
              "    </tr>\n",
              "    <tr>\n",
              "      <th>6</th>\n",
              "      <td>230</td>\n",
              "      <td>5999</td>\n",
              "      <td>1700</td>\n",
              "      <td>1</td>\n",
              "    </tr>\n",
              "    <tr>\n",
              "      <th>7</th>\n",
              "      <td>182</td>\n",
              "      <td>6599</td>\n",
              "      <td>2000</td>\n",
              "      <td>1</td>\n",
              "    </tr>\n",
              "  </tbody>\n",
              "</table>\n",
              "</div>"
            ],
            "text/plain": [
              "   stand_by_time  price  battery_capacity  is_liked\n",
              "0            250   3870              2000         1\n",
              "1            300   4059              2000         1\n",
              "3            385   5799              3000         1\n",
              "6            230   5999              1700         1\n",
              "7            182   6599              2000         1"
            ]
          },
          "metadata": {
            "tags": []
          },
          "execution_count": 25
        }
      ]
    },
    {
      "cell_type": "code",
      "metadata": {
        "id": "lK4kgicsYqQX",
        "outputId": "743d8c30-2ad2-4fac-afc7-8ab31ed0dfab",
        "colab": {
          "base_uri": "https://localhost:8080/",
          "height": 34
        }
      },
      "source": [
        "df_thin['price'].mean()"
      ],
      "execution_count": null,
      "outputs": [
        {
          "output_type": "execute_result",
          "data": {
            "text/plain": [
              "19373.211009174312"
            ]
          },
          "metadata": {
            "tags": []
          },
          "execution_count": 26
        }
      ]
    },
    {
      "cell_type": "code",
      "metadata": {
        "id": "W50-p90iY1mT",
        "outputId": "93a41716-ace0-4a7f-f9df-f13ba9c4f704",
        "colab": {
          "base_uri": "https://localhost:8080/",
          "height": 34
        }
      },
      "source": [
        "df_thin['price'].max()"
      ],
      "execution_count": null,
      "outputs": [
        {
          "output_type": "execute_result",
          "data": {
            "text/plain": [
              "64500"
            ]
          },
          "metadata": {
            "tags": []
          },
          "execution_count": 27
        }
      ]
    },
    {
      "cell_type": "code",
      "metadata": {
        "id": "oTwnWlNjY95N",
        "outputId": "db29e513-bb99-4613-9528-58e45bd36bbf",
        "colab": {
          "base_uri": "https://localhost:8080/",
          "height": 170
        }
      },
      "source": [
        "df_thin['price'].describe()"
      ],
      "execution_count": null,
      "outputs": [
        {
          "output_type": "execute_result",
          "data": {
            "text/plain": [
              "count      109.000000\n",
              "mean     19373.211009\n",
              "std      14039.197220\n",
              "min       3870.000000\n",
              "25%       8999.000000\n",
              "50%      14614.000000\n",
              "75%      24999.000000\n",
              "max      64500.000000\n",
              "Name: price, dtype: float64"
            ]
          },
          "metadata": {
            "tags": []
          },
          "execution_count": 28
        }
      ]
    },
    {
      "cell_type": "code",
      "metadata": {
        "id": "weVSP8BvZBxZ",
        "outputId": "ea17bbaf-c48f-4e00-9ecb-b26427cdfc6c",
        "colab": {
          "base_uri": "https://localhost:8080/",
          "height": 297
        }
      },
      "source": [
        "df_thin.describe()"
      ],
      "execution_count": null,
      "outputs": [
        {
          "output_type": "execute_result",
          "data": {
            "text/html": [
              "<div>\n",
              "<style scoped>\n",
              "    .dataframe tbody tr th:only-of-type {\n",
              "        vertical-align: middle;\n",
              "    }\n",
              "\n",
              "    .dataframe tbody tr th {\n",
              "        vertical-align: top;\n",
              "    }\n",
              "\n",
              "    .dataframe thead th {\n",
              "        text-align: right;\n",
              "    }\n",
              "</style>\n",
              "<table border=\"1\" class=\"dataframe\">\n",
              "  <thead>\n",
              "    <tr style=\"text-align: right;\">\n",
              "      <th></th>\n",
              "      <th>stand_by_time</th>\n",
              "      <th>price</th>\n",
              "      <th>battery_capacity</th>\n",
              "      <th>is_liked</th>\n",
              "    </tr>\n",
              "  </thead>\n",
              "  <tbody>\n",
              "    <tr>\n",
              "      <th>count</th>\n",
              "      <td>109.00000</td>\n",
              "      <td>109.000000</td>\n",
              "      <td>109.000000</td>\n",
              "      <td>109.000000</td>\n",
              "    </tr>\n",
              "    <tr>\n",
              "      <th>mean</th>\n",
              "      <td>404.66055</td>\n",
              "      <td>19373.211009</td>\n",
              "      <td>2841.779817</td>\n",
              "      <td>0.844037</td>\n",
              "    </tr>\n",
              "    <tr>\n",
              "      <th>std</th>\n",
              "      <td>176.44206</td>\n",
              "      <td>14039.197220</td>\n",
              "      <td>655.003963</td>\n",
              "      <td>0.364496</td>\n",
              "    </tr>\n",
              "    <tr>\n",
              "      <th>min</th>\n",
              "      <td>160.00000</td>\n",
              "      <td>3870.000000</td>\n",
              "      <td>1560.000000</td>\n",
              "      <td>0.000000</td>\n",
              "    </tr>\n",
              "    <tr>\n",
              "      <th>25%</th>\n",
              "      <td>264.00000</td>\n",
              "      <td>8999.000000</td>\n",
              "      <td>2470.000000</td>\n",
              "      <td>1.000000</td>\n",
              "    </tr>\n",
              "    <tr>\n",
              "      <th>50%</th>\n",
              "      <td>360.00000</td>\n",
              "      <td>14614.000000</td>\n",
              "      <td>2900.000000</td>\n",
              "      <td>1.000000</td>\n",
              "    </tr>\n",
              "    <tr>\n",
              "      <th>75%</th>\n",
              "      <td>500.00000</td>\n",
              "      <td>24999.000000</td>\n",
              "      <td>3100.000000</td>\n",
              "      <td>1.000000</td>\n",
              "    </tr>\n",
              "    <tr>\n",
              "      <th>max</th>\n",
              "      <td>1093.00000</td>\n",
              "      <td>64500.000000</td>\n",
              "      <td>5000.000000</td>\n",
              "      <td>1.000000</td>\n",
              "    </tr>\n",
              "  </tbody>\n",
              "</table>\n",
              "</div>"
            ],
            "text/plain": [
              "       stand_by_time         price  battery_capacity    is_liked\n",
              "count      109.00000    109.000000        109.000000  109.000000\n",
              "mean       404.66055  19373.211009       2841.779817    0.844037\n",
              "std        176.44206  14039.197220        655.003963    0.364496\n",
              "min        160.00000   3870.000000       1560.000000    0.000000\n",
              "25%        264.00000   8999.000000       2470.000000    1.000000\n",
              "50%        360.00000  14614.000000       2900.000000    1.000000\n",
              "75%        500.00000  24999.000000       3100.000000    1.000000\n",
              "max       1093.00000  64500.000000       5000.000000    1.000000"
            ]
          },
          "metadata": {
            "tags": []
          },
          "execution_count": 29
        }
      ]
    },
    {
      "cell_type": "code",
      "metadata": {
        "id": "BRHDD44lZFWz",
        "outputId": "4bdfaf96-3932-4ae2-b2b0-4168728dfb28",
        "colab": {
          "base_uri": "https://localhost:8080/",
          "height": 34
        }
      },
      "source": [
        "df_thin[df_thin[\"is_liked\"]==1][\"price\"].mean()"
      ],
      "execution_count": null,
      "outputs": [
        {
          "output_type": "execute_result",
          "data": {
            "text/plain": [
              "19393.239130434784"
            ]
          },
          "metadata": {
            "tags": []
          },
          "execution_count": 30
        }
      ]
    },
    {
      "cell_type": "code",
      "metadata": {
        "id": "Eo65MuZnVtZN",
        "outputId": "c6caec0e-2996-4356-b90d-0f287723b548",
        "colab": {
          "base_uri": "https://localhost:8080/",
          "height": 34
        }
      },
      "source": [
        "df_thin[df_thin[\"is_liked\"]==0][\"price\"].mean()"
      ],
      "execution_count": null,
      "outputs": [
        {
          "output_type": "execute_result",
          "data": {
            "text/plain": [
              "19264.823529411766"
            ]
          },
          "metadata": {
            "tags": []
          },
          "execution_count": 31
        }
      ]
    },
    {
      "cell_type": "code",
      "metadata": {
        "id": "sqzY9hiGWSDi"
      },
      "source": [
        "g = df_thin.groupby([\"is_liked\"])"
      ],
      "execution_count": null,
      "outputs": []
    },
    {
      "cell_type": "code",
      "metadata": {
        "id": "j7d1fjElWo4R",
        "outputId": "b77cd727-b632-44ef-888a-107ed8a340a5",
        "colab": {
          "base_uri": "https://localhost:8080/",
          "height": 629
        }
      },
      "source": [
        "for key, df_key in g:\n",
        "    print(key)\n",
        "    print(\"****\")\n",
        "    print(df_key)"
      ],
      "execution_count": null,
      "outputs": [
        {
          "output_type": "stream",
          "text": [
            "0\n",
            "****\n",
            "     stand_by_time  price  battery_capacity  is_liked\n",
            "2              329   4777              2500         0\n",
            "4              385   5990              3000         0\n",
            "5              280   5999              2900         0\n",
            "11             300   6990              2600         0\n",
            "22             354   7999              2400         0\n",
            "38             490   9999              2100         0\n",
            "53             345  14300              2950         0\n",
            "60             840  15689              4100         0\n",
            "74             390  21999              2800         0\n",
            "77             620  22999              3100         0\n",
            "78             618  24499              3600         0\n",
            "80             598  24999              3000         0\n",
            "83             504  25500              2600         0\n",
            "90             500  34999              3760         0\n",
            "91             240  34999              1624         0\n",
            "95             580  37766              2840         0\n",
            "108            400  27999              3000         0\n",
            "1\n",
            "****\n",
            "     stand_by_time  price  battery_capacity  is_liked\n",
            "0              250   3870              2000         1\n",
            "1              300   4059              2000         1\n",
            "3              385   5799              3000         1\n",
            "6              230   5999              1700         1\n",
            "7              182   6599              2000         1\n",
            "..             ...    ...               ...       ...\n",
            "103            600  52699              3430         1\n",
            "104            540  54900              3410         1\n",
            "105            400  56900              3600         1\n",
            "106            384  59000              2750         1\n",
            "107            250  64500              1810         1\n",
            "\n",
            "[92 rows x 4 columns]\n"
          ],
          "name": "stdout"
        }
      ]
    },
    {
      "cell_type": "code",
      "metadata": {
        "id": "UksN9GdNWt4G",
        "outputId": "bb76bd47-6390-402a-833b-81e225f2bc37",
        "colab": {
          "base_uri": "https://localhost:8080/",
          "height": 142
        }
      },
      "source": [
        "df_thin.groupby([\"is_liked\"]).mean()"
      ],
      "execution_count": null,
      "outputs": [
        {
          "output_type": "execute_result",
          "data": {
            "text/html": [
              "<div>\n",
              "<style scoped>\n",
              "    .dataframe tbody tr th:only-of-type {\n",
              "        vertical-align: middle;\n",
              "    }\n",
              "\n",
              "    .dataframe tbody tr th {\n",
              "        vertical-align: top;\n",
              "    }\n",
              "\n",
              "    .dataframe thead th {\n",
              "        text-align: right;\n",
              "    }\n",
              "</style>\n",
              "<table border=\"1\" class=\"dataframe\">\n",
              "  <thead>\n",
              "    <tr style=\"text-align: right;\">\n",
              "      <th></th>\n",
              "      <th>stand_by_time</th>\n",
              "      <th>price</th>\n",
              "      <th>battery_capacity</th>\n",
              "    </tr>\n",
              "    <tr>\n",
              "      <th>is_liked</th>\n",
              "      <th></th>\n",
              "      <th></th>\n",
              "      <th></th>\n",
              "    </tr>\n",
              "  </thead>\n",
              "  <tbody>\n",
              "    <tr>\n",
              "      <th>0</th>\n",
              "      <td>457.235294</td>\n",
              "      <td>19264.823529</td>\n",
              "      <td>2874.941176</td>\n",
              "    </tr>\n",
              "    <tr>\n",
              "      <th>1</th>\n",
              "      <td>394.945652</td>\n",
              "      <td>19393.239130</td>\n",
              "      <td>2835.652174</td>\n",
              "    </tr>\n",
              "  </tbody>\n",
              "</table>\n",
              "</div>"
            ],
            "text/plain": [
              "          stand_by_time         price  battery_capacity\n",
              "is_liked                                               \n",
              "0            457.235294  19264.823529       2874.941176\n",
              "1            394.945652  19393.239130       2835.652174"
            ]
          },
          "metadata": {
            "tags": []
          },
          "execution_count": 36
        }
      ]
    },
    {
      "cell_type": "code",
      "metadata": {
        "id": "QPkPz-j_XCUl",
        "outputId": "ad91d4ab-842c-4e0c-b4f3-63d938f7eb26",
        "colab": {
          "base_uri": "https://localhost:8080/",
          "height": 142
        }
      },
      "source": [
        "df_thin.groupby([\"is_liked\"]).max()"
      ],
      "execution_count": null,
      "outputs": [
        {
          "output_type": "execute_result",
          "data": {
            "text/html": [
              "<div>\n",
              "<style scoped>\n",
              "    .dataframe tbody tr th:only-of-type {\n",
              "        vertical-align: middle;\n",
              "    }\n",
              "\n",
              "    .dataframe tbody tr th {\n",
              "        vertical-align: top;\n",
              "    }\n",
              "\n",
              "    .dataframe thead th {\n",
              "        text-align: right;\n",
              "    }\n",
              "</style>\n",
              "<table border=\"1\" class=\"dataframe\">\n",
              "  <thead>\n",
              "    <tr style=\"text-align: right;\">\n",
              "      <th></th>\n",
              "      <th>stand_by_time</th>\n",
              "      <th>price</th>\n",
              "      <th>battery_capacity</th>\n",
              "    </tr>\n",
              "    <tr>\n",
              "      <th>is_liked</th>\n",
              "      <th></th>\n",
              "      <th></th>\n",
              "      <th></th>\n",
              "    </tr>\n",
              "  </thead>\n",
              "  <tbody>\n",
              "    <tr>\n",
              "      <th>0</th>\n",
              "      <td>840</td>\n",
              "      <td>37766</td>\n",
              "      <td>4100</td>\n",
              "    </tr>\n",
              "    <tr>\n",
              "      <th>1</th>\n",
              "      <td>1093</td>\n",
              "      <td>64500</td>\n",
              "      <td>5000</td>\n",
              "    </tr>\n",
              "  </tbody>\n",
              "</table>\n",
              "</div>"
            ],
            "text/plain": [
              "          stand_by_time  price  battery_capacity\n",
              "is_liked                                        \n",
              "0                   840  37766              4100\n",
              "1                  1093  64500              5000"
            ]
          },
          "metadata": {
            "tags": []
          },
          "execution_count": 37
        }
      ]
    },
    {
      "cell_type": "code",
      "metadata": {
        "id": "ngE8H_U7XZ9t"
      },
      "source": [
        "import matplotlib.pyplot as plt\n",
        "import seaborn as sns\n",
        "sns.set()"
      ],
      "execution_count": null,
      "outputs": []
    },
    {
      "cell_type": "code",
      "metadata": {
        "id": "NdVT4MSwXzXm",
        "outputId": "a5f64109-c20e-4095-9977-615db3e3337e",
        "colab": {
          "base_uri": "https://localhost:8080/",
          "height": 747
        }
      },
      "source": [
        "ax = sns.pairplot(df_thin, diag_kind=\"hist\")"
      ],
      "execution_count": null,
      "outputs": [
        {
          "output_type": "display_data",
          "data": {
            "image/png": "[encoded data removed]",
            "text/plain": [
              "<Figure size 720x720 with 20 Axes>"
            ]
          },
          "metadata": {
            "tags": []
          }
        }
      ]
    },
    {
      "cell_type": "code",
      "metadata": {
        "id": "0ozAtg3lYAGu",
        "outputId": "41b95933-75a2-4373-9856-431f023bf846",
        "colab": {
          "base_uri": "https://localhost:8080/",
          "height": 567
        }
      },
      "source": [
        "ax = sns.pairplot(df_thin, diag_kind=\"hist\", hue = \"is_liked\")"
      ],
      "execution_count": null,
      "outputs": [
        {
          "output_type": "display_data",
          "data": {
            "image/png": "[encoded data removed]",
            "text/plain": [
              "<Figure size 586.6x540 with 12 Axes>"
            ]
          },
          "metadata": {
            "tags": []
          }
        }
      ]
    },
    {
      "cell_type": "code",
      "metadata": {
        "id": "cMqKEgfLYXkt"
      },
      "source": [
        "import random"
      ],
      "execution_count": null,
      "outputs": []
    },
    {
      "cell_type": "code",
      "metadata": {
        "id": "-frUx2UAs1SO"
      },
      "source": [
        "def fact(x):\n",
        "    if(x==0):\n",
        "        return 1\n",
        "    return x* fact(x-1)"
      ],
      "execution_count": null,
      "outputs": []
    },
    {
      "cell_type": "code",
      "metadata": {
        "id": "DYwlmafxtAz9",
        "outputId": "260b45d1-d782-4773-8012-ad6db1602326",
        "colab": {
          "base_uri": "https://localhost:8080/",
          "height": 34
        }
      },
      "source": [
        "fact(5)"
      ],
      "execution_count": null,
      "outputs": [
        {
          "output_type": "execute_result",
          "data": {
            "text/plain": [
              "120"
            ]
          },
          "metadata": {
            "tags": []
          },
          "execution_count": 44
        }
      ]
    },
    {
      "cell_type": "code",
      "metadata": {
        "id": "WAiDeoSztCB4"
      },
      "source": [
        "def debug():\n",
        "    import pdb; pdb.set_trace()\n",
        "    for i in range(10):\n",
        "        x = random.random()\n",
        "        fact(x)"
      ],
      "execution_count": null,
      "outputs": []
    },
    {
      "cell_type": "code",
      "metadata": {
        "id": "9pLZfmNotSfD"
      },
      "source": [
        "debug()"
      ],
      "execution_count": null,
      "outputs": []
    },
    {
      "cell_type": "code",
      "metadata": {
        "id": "zbXKuhyktaWw"
      },
      "source": [
        "def fact(x):\n",
        "    if(not isinstance(x,int)):\n",
        "        print(\"Not Supported\")\n",
        "        return -1\n",
        "    if(x==0):\n",
        "        return 1\n",
        "    return x* fact(x-1)"
      ],
      "execution_count": null,
      "outputs": []
    },
    {
      "cell_type": "code",
      "metadata": {
        "id": "AUq_uGEpl1IJ"
      },
      "source": [
        "import numpy as np"
      ],
      "execution_count": null,
      "outputs": []
    },
    {
      "cell_type": "code",
      "metadata": {
        "id": "n7V6nhPBl2Cq"
      },
      "source": [
        "import matplotlib.pyplot as plt"
      ],
      "execution_count": null,
      "outputs": []
    },
    {
      "cell_type": "code",
      "metadata": {
        "id": "EmDz5nWpmBih",
        "outputId": "ef0113fd-e48c-4079-b19d-cdd6dba2d713",
        "colab": {
          "base_uri": "https://localhost:8080/",
          "height": 265
        }
      },
      "source": [
        "plt.quiver(0,0,3,4)\n",
        "plt.show()"
      ],
      "execution_count": null,
      "outputs": [
        {
          "output_type": "display_data",
          "data": {
            "image/png": "[encoded data removed]",
            "text/plain": [
              "<Figure size 432x288 with 1 Axes>"
            ]
          },
          "metadata": {
            "tags": []
          }
        }
      ]
    },
    {
      "cell_type": "code",
      "metadata": {
        "id": "Bw8LqTLlmMxF",
        "outputId": "0a7b5200-3ddb-4478-9e47-7c097a32e8a9",
        "colab": {
          "base_uri": "https://localhost:8080/",
          "height": 265
        }
      },
      "source": [
        "plt.quiver(0,0,3,4, scale_units='xy', angles = 'xy', scale=1)\n",
        "plt.show()"
      ],
      "execution_count": null,
      "outputs": [
        {
          "output_type": "display_data",
          "data": {
            "image/png": "[encoded data removed]",
            "text/plain": [
              "<Figure size 432x288 with 1 Axes>"
            ]
          },
          "metadata": {
            "tags": []
          }
        }
      ]
    },
    {
      "cell_type": "code",
      "metadata": {
        "id": "-k9xB1gJmfpf",
        "outputId": "ae878756-7e21-4f55-9a36-f5e8bb275b49",
        "colab": {
          "base_uri": "https://localhost:8080/",
          "height": 269
        }
      },
      "source": [
        "plt.quiver(0,0,3,4, scale_units='xy', angles = 'xy', scale=1)\n",
        "plt.xlim(-10,10)\n",
        "plt.ylim(-10,10)\n",
        "plt.show()"
      ],
      "execution_count": null,
      "outputs": [
        {
          "output_type": "display_data",
          "data": {
            "image/png": "[encoded data removed]",
            "text/plain": [
              "<Figure size 432x288 with 1 Axes>"
            ]
          },
          "metadata": {
            "tags": []
          }
        }
      ]
    },
    {
      "cell_type": "code",
      "metadata": {
        "id": "sP8A6X9NmvSo",
        "outputId": "76eac1f6-2945-4262-ccfd-bb4f702b3ed0",
        "colab": {
          "base_uri": "https://localhost:8080/",
          "height": 269
        }
      },
      "source": [
        "plt.quiver(0,0,3,4, scale_units='xy', angles = 'xy', scale=1, color='red')\n",
        "plt.quiver(0,0,-3,4, scale_units='xy', angles = 'xy', scale=1, color=\"green\")\n",
        "plt.xlim(-10,10)\n",
        "plt.ylim(-10,10)\n",
        "plt.show()"
      ],
      "execution_count": null,
      "outputs": [
        {
          "output_type": "display_data",
          "data": {
            "image/png": "[encoded data removed]",
            "text/plain": [
              "<Figure size 432x288 with 1 Axes>"
            ]
          },
          "metadata": {
            "tags": []
          }
        }
      ]
    },
    {
      "cell_type": "code",
      "metadata": {
        "id": "DqENzPeWm74F"
      },
      "source": [
        "def plot_vectors(vecs):\n",
        "    for vec in vecs:\n",
        "        plt.quiver(vec[0],vec[1],vec[2],vec[3], scale_units='xy', angles = 'xy', scale=1, color=\"green\")\n",
        "    plt.xlim(-10,10)\n",
        "    plt.ylim(-10,10)\n",
        "    plt.show()\n"
      ],
      "execution_count": null,
      "outputs": []
    },
    {
      "cell_type": "code",
      "metadata": {
        "id": "MVexjwjGocCK",
        "outputId": "8f636ba2-53d9-4a9c-a77d-3b04a2cd900d",
        "colab": {
          "base_uri": "https://localhost:8080/",
          "height": 269
        }
      },
      "source": [
        "plot_vectors([(0,0,3,4), (0,0,-3,4)])"
      ],
      "execution_count": null,
      "outputs": [
        {
          "output_type": "display_data",
          "data": {
            "image/png": "[encoded data removed]",
            "text/plain": [
              "<Figure size 432x288 with 1 Axes>"
            ]
          },
          "metadata": {
            "tags": []
          }
        }
      ]
    },
    {
      "cell_type": "code",
      "metadata": {
        "id": "DY8r16c2o3t9",
        "outputId": "a415ee48-2687-43a5-994f-b6255cacab6d",
        "colab": {
          "base_uri": "https://localhost:8080/",
          "height": 269
        }
      },
      "source": [
        "a = (0,0,2,5)\n",
        "plot_vectors([(0,0,3,4), (0,0,-3,4), a])"
      ],
      "execution_count": null,
      "outputs": [
        {
          "output_type": "display_data",
          "data": {
            "image/png": "[encoded data removed]",
            "text/plain": [
              "<Figure size 432x288 with 1 Axes>"
            ]
          },
          "metadata": {
            "tags": []
          }
        }
      ]
    },
    {
      "cell_type": "code",
      "metadata": {
        "id": "Juo6Nl1WrGWM",
        "outputId": "472eb54e-1331-40bd-db1a-fdcbeff2f5b7",
        "colab": {
          "base_uri": "https://localhost:8080/",
          "height": 269
        }
      },
      "source": [
        "a = [(0,0,2,5), (0,0,-5,9),(0,0,3,-6)]\n",
        "plot_vectors(a)"
      ],
      "execution_count": null,
      "outputs": [
        {
          "output_type": "display_data",
          "data": {
            "image/png": "[encoded data removed]",
            "text/plain": [
              "<Figure size 432x288 with 1 Axes>"
            ]
          },
          "metadata": {
            "tags": []
          }
        }
      ]
    },
    {
      "cell_type": "code",
      "metadata": {
        "id": "AfuEpTworQ3P"
      },
      "source": [
        "def plot_vectors(vecs):\n",
        "    colors = (\"red\", \"green\", \"blue\", \"yellow\")\n",
        "    i=0\n",
        "    for vec in vecs:\n",
        "        plt.quiver(vec[0],vec[1],vec[2],vec[3], scale_units='xy', angles = 'xy', scale=1, color=colors[i%len(colors)])\n",
        "        i=i+1\n",
        "    plt.xlim(-10,10)\n",
        "    plt.ylim(-10,10)\n",
        "    plt.show()"
      ],
      "execution_count": null,
      "outputs": []
    },
    {
      "cell_type": "code",
      "metadata": {
        "id": "21QZ3jrnsGAr",
        "outputId": "c18dd1ae-f6a9-4b34-a5f4-5279ee603c02",
        "colab": {
          "base_uri": "https://localhost:8080/",
          "height": 269
        }
      },
      "source": [
        "a = [(0,0,2,5), (0,0,-5,9),(0,0,3,-6)]\n",
        "plot_vectors(a)"
      ],
      "execution_count": null,
      "outputs": [
        {
          "output_type": "display_data",
          "data": {
            "image/png": "[encoded data removed]",
            "text/plain": [
              "<Figure size 432x288 with 1 Axes>"
            ]
          },
          "metadata": {
            "tags": []
          }
        }
      ]
    },
    {
      "cell_type": "code",
      "metadata": {
        "id": "nB3T-TdTsIJL"
      },
      "source": [
        "vecs = [np.asarray([0,0,2,5]), np.asarray([0,0,-5,3]), np.asarray([0,0,3,-6]), np.asarray([0,0,5,3])]"
      ],
      "execution_count": null,
      "outputs": []
    },
    {
      "cell_type": "code",
      "metadata": {
        "id": "F3fpsSyRtcZb",
        "outputId": "cd0c3517-f3a5-4b1e-f93e-0929f86983a7",
        "colab": {
          "base_uri": "https://localhost:8080/",
          "height": 269
        }
      },
      "source": [
        "plot_vectors([vecs[0], vecs[2]])"
      ],
      "execution_count": null,
      "outputs": [
        {
          "output_type": "display_data",
          "data": {
            "image/png": "[encoded data removed]",
            "text/plain": [
              "<Figure size 432x288 with 1 Axes>"
            ]
          },
          "metadata": {
            "tags": []
          }
        }
      ]
    },
    {
      "cell_type": "code",
      "metadata": {
        "id": "2Fny059IthQa",
        "outputId": "208862b7-3d70-4762-ddb9-b0d9cc698074",
        "colab": {
          "base_uri": "https://localhost:8080/",
          "height": 34
        }
      },
      "source": [
        "vecs[0]+vecs[2]"
      ],
      "execution_count": null,
      "outputs": [
        {
          "output_type": "execute_result",
          "data": {
            "text/plain": [
              "array([ 0,  0,  5, -1])"
            ]
          },
          "metadata": {
            "tags": []
          },
          "execution_count": 45
        }
      ]
    },
    {
      "cell_type": "code",
      "metadata": {
        "id": "gbi81dvfVnWz",
        "outputId": "8e6efb03-3fcc-4661-814c-d060e690f822",
        "colab": {
          "base_uri": "https://localhost:8080/",
          "height": 269
        }
      },
      "source": [
        "plot_vectors([vecs[0], vecs[2], vecs[0]+vecs[2]])"
      ],
      "execution_count": null,
      "outputs": [
        {
          "output_type": "display_data",
          "data": {
            "image/png": "[encoded data removed]",
            "text/plain": [
              "<Figure size 432x288 with 1 Axes>"
            ]
          },
          "metadata": {
            "tags": []
          }
        }
      ]
    },
    {
      "cell_type": "code",
      "metadata": {
        "id": "uBFJaZfDW0lZ",
        "outputId": "9fd946a5-1e7c-4377-887b-05a2680aa8fc",
        "colab": {
          "base_uri": "https://localhost:8080/",
          "height": 269
        }
      },
      "source": [
        "plot_vectors([vecs[0], vecs[3], vecs[0]+vecs[3]])"
      ],
      "execution_count": null,
      "outputs": [
        {
          "output_type": "display_data",
          "data": {
            "image/png": "[encoded data removed]",
            "text/plain": [
              "<Figure size 432x288 with 1 Axes>"
            ]
          },
          "metadata": {
            "tags": []
          }
        }
      ]
    },
    {
      "cell_type": "code",
      "metadata": {
        "id": "BF9Vh1TZXXlp",
        "outputId": "10d07836-ba9d-4528-e7cf-84914483ed86",
        "colab": {
          "base_uri": "https://localhost:8080/",
          "height": 269
        }
      },
      "source": [
        "plot_vectors([vecs[0], vecs[3], vecs[0]-vecs[3]])"
      ],
      "execution_count": null,
      "outputs": [
        {
          "output_type": "display_data",
          "data": {
            "image/png": "[encoded data removed]",
            "text/plain": [
              "<Figure size 432x288 with 1 Axes>"
            ]
          },
          "metadata": {
            "tags": []
          }
        }
      ]
    },
    {
      "cell_type": "code",
      "metadata": {
        "id": "V5LL4PV6YA5S",
        "outputId": "3e45c354-0e3e-4e26-f77d-01995b9b41ae",
        "colab": {
          "base_uri": "https://localhost:8080/",
          "height": 269
        }
      },
      "source": [
        "plot_vectors([vecs[0], -vecs[3], vecs[0]+(-vecs[3])])"
      ],
      "execution_count": null,
      "outputs": [
        {
          "output_type": "display_data",
          "data": {
            "image/png": "[encoded data removed]",
            "text/plain": [
              "<Figure size 432x288 with 1 Axes>"
            ]
          },
          "metadata": {
            "tags": []
          }
        }
      ]
    },
    {
      "cell_type": "code",
      "metadata": {
        "id": "GJvvb6fxYHoE",
        "outputId": "e2d04dc4-8f20-4361-f1de-8819c8dea0e4",
        "colab": {
          "base_uri": "https://localhost:8080/",
          "height": 269
        }
      },
      "source": [
        "plot_vectors([vecs[0], vecs[1], vecs[2], vecs[3]])"
      ],
      "execution_count": null,
      "outputs": [
        {
          "output_type": "display_data",
          "data": {
            "image/png": "[encoded data removed]",
            "text/plain": [
              "<Figure size 432x288 with 1 Axes>"
            ]
          },
          "metadata": {
            "tags": []
          }
        }
      ]
    },
    {
      "cell_type": "code",
      "metadata": {
        "id": "-FCCrKiuZG4s"
      },
      "source": [
        "a = np.asarray([3,4])\n",
        "b = np.asarray([4,-1])"
      ],
      "execution_count": null,
      "outputs": []
    },
    {
      "cell_type": "markdown",
      "metadata": {
        "id": "JvDt1RZcZjtP"
      },
      "source": [
        "$\\vec{a}\\cdot\\vec{b} = |\\vec{a}||\\vec{b}|\\cos(\\theta) = a_xb_x+ a_yb_y$"
      ]
    },
    {
      "cell_type": "code",
      "metadata": {
        "id": "0EMZDbqwZcGW"
      },
      "source": [
        "a_dot_b = np.dot(a,b)"
      ],
      "execution_count": null,
      "outputs": []
    },
    {
      "cell_type": "code",
      "metadata": {
        "id": "XMkim0Suadt0",
        "outputId": "dfaa4bcc-91ec-4958-e692-6fdfd8449faa",
        "colab": {
          "base_uri": "https://localhost:8080/",
          "height": 34
        }
      },
      "source": [
        "print(a_dot_b)"
      ],
      "execution_count": null,
      "outputs": [
        {
          "output_type": "stream",
          "text": [
            "8\n"
          ],
          "name": "stdout"
        }
      ]
    },
    {
      "cell_type": "markdown",
      "metadata": {
        "id": "NIhlekIva6wm"
      },
      "source": [
        "${a_b} = |\\vec{a}|\\cos(\\theta) = \\vec{a}\\frac{\\vec{a}\\cdot\\vec{b}}{|\\vec{a}||\\vec{b}|} = \\frac{\\vec{a}\\cdot\\vec{b}}{|\\vec{b}|} $"
      ]
    },
    {
      "cell_type": "code",
      "metadata": {
        "id": "A47tV3H9ajfH"
      },
      "source": [
        "a_b = np.dot(a,b)/np.linalg.norm(b)"
      ],
      "execution_count": null,
      "outputs": []
    },
    {
      "cell_type": "code",
      "metadata": {
        "id": "uN1r1oMtfsKy",
        "outputId": "78fa2921-b056-4bac-9ce0-1998f999abb5",
        "colab": {
          "base_uri": "https://localhost:8080/",
          "height": 34
        }
      },
      "source": [
        "print(a_b)"
      ],
      "execution_count": null,
      "outputs": [
        {
          "output_type": "stream",
          "text": [
            "1.9402850002906638\n"
          ],
          "name": "stdout"
        }
      ]
    },
    {
      "cell_type": "markdown",
      "metadata": {
        "id": "E7_yWqR8ewFS"
      },
      "source": [
        "$\\vec{a_b} = a_b\\hat{b} = a_b\\frac{\\vec{b}}{|\\vec{b}|}$"
      ]
    },
    {
      "cell_type": "code",
      "metadata": {
        "id": "b2y3ic67eHzv"
      },
      "source": [
        "vec_a_b = (a_b/np.linalg.norm(b)) * b"
      ],
      "execution_count": null,
      "outputs": []
    },
    {
      "cell_type": "code",
      "metadata": {
        "id": "ZaLmynZifeFp",
        "outputId": "2e23858c-4c7c-476a-cb58-46c19ffd354b",
        "colab": {
          "base_uri": "https://localhost:8080/",
          "height": 34
        }
      },
      "source": [
        "print(vec_a_b)"
      ],
      "execution_count": null,
      "outputs": [
        {
          "output_type": "stream",
          "text": [
            "[ 1.88235294 -0.47058824]\n"
          ],
          "name": "stdout"
        }
      ]
    },
    {
      "cell_type": "code",
      "metadata": {
        "id": "T7kEiOLafk0u",
        "outputId": "c8c9ba44-11ce-44a4-aac4-9d3c91c872cc",
        "colab": {
          "base_uri": "https://localhost:8080/",
          "height": 269
        }
      },
      "source": [
        "plot_vectors([np.asarray([0,0,3,4]), np.asarray([0,0,4,-1]), np.asarray([0,0,vec_a_b[0],vec_a_b[1]])])"
      ],
      "execution_count": null,
      "outputs": [
        {
          "output_type": "display_data",
          "data": {
            "image/png": "[encoded data removed]",
            "text/plain": [
              "<Figure size 432x288 with 1 Axes>"
            ]
          },
          "metadata": {
            "tags": []
          }
        }
      ]
    },
    {
      "cell_type": "code",
      "metadata": {
        "id": "IsMvgmO7h6l2",
        "outputId": "6f792995-6c0b-459d-d89d-c30fe98e8aaf",
        "colab": {
          "base_uri": "https://localhost:8080/",
          "height": 269
        }
      },
      "source": [
        "plot_vectors([[0,0,3,4], [0,0,4,-1], np.asarray([0,0,vec_a_b[0],vec_a_b[1]])])"
      ],
      "execution_count": null,
      "outputs": [
        {
          "output_type": "display_data",
          "data": {
            "image/png": "[encoded data removed]",
            "text/plain": [
              "<Figure size 432x288 with 1 Axes>"
            ]
          },
          "metadata": {
            "tags": []
          }
        }
      ]
    },
    {
      "cell_type": "code",
      "metadata": {
        "id": "7RIKtETLkCOk"
      },
      "source": [
        "a = np.asarray([9,2])\n",
        "b = np.asarray([-5,4])"
      ],
      "execution_count": null,
      "outputs": []
    },
    {
      "cell_type": "code",
      "metadata": {
        "id": "1alIY4DSkLTO",
        "outputId": "dc0f156c-4e43-4f2b-beb2-9170e1844ffd",
        "colab": {
          "base_uri": "https://localhost:8080/",
          "height": 269
        }
      },
      "source": [
        "plot_vectors([(0,0,9,2),(0,0,-5,4)])"
      ],
      "execution_count": null,
      "outputs": [
        {
          "output_type": "display_data",
          "data": {
            "image/png": "[encoded data removed]",
            "text/plain": [
              "<Figure size 432x288 with 1 Axes>"
            ]
          },
          "metadata": {
            "tags": []
          }
        }
      ]
    },
    {
      "cell_type": "markdown",
      "metadata": {
        "id": "s9zdhEU7kxjC"
      },
      "source": [
        "$\\vec{a}\\cdot\\vec{b} = |\\vec{a}||\\vec{b}|\\cos(\\theta) = a_xb_x+ a_yb_y$"
      ]
    },
    {
      "cell_type": "code",
      "metadata": {
        "id": "YIVZVobokxjE"
      },
      "source": [
        "a_dot_b = np.dot(a,b)"
      ],
      "execution_count": null,
      "outputs": []
    },
    {
      "cell_type": "code",
      "metadata": {
        "id": "ziPOoFJRkxjH",
        "outputId": "536d3032-c739-4b41-97bf-d1ea3beba7e3",
        "colab": {
          "base_uri": "https://localhost:8080/",
          "height": 34
        }
      },
      "source": [
        "print(a_dot_b)"
      ],
      "execution_count": null,
      "outputs": [
        {
          "output_type": "stream",
          "text": [
            "-37\n"
          ],
          "name": "stdout"
        }
      ]
    },
    {
      "cell_type": "markdown",
      "metadata": {
        "id": "4AtEXlkNkxjK"
      },
      "source": [
        "${a_b} = |\\vec{a}|\\cos(\\theta) = \\vec{a}\\frac{\\vec{a}\\cdot\\vec{b}}{|\\vec{a}||\\vec{b}|} = \\frac{\\vec{a}\\cdot\\vec{b}}{|\\vec{b}|} $"
      ]
    },
    {
      "cell_type": "code",
      "metadata": {
        "id": "atL8gVVBkxjL"
      },
      "source": [
        "a_b = np.dot(a,b)/np.linalg.norm(b)"
      ],
      "execution_count": null,
      "outputs": []
    },
    {
      "cell_type": "code",
      "metadata": {
        "id": "VtqnyfBpkxjN",
        "outputId": "0492a261-3f15-4754-db9d-474b27ab1012",
        "colab": {
          "base_uri": "https://localhost:8080/",
          "height": 34
        }
      },
      "source": [
        "print(a_b)"
      ],
      "execution_count": null,
      "outputs": [
        {
          "output_type": "stream",
          "text": [
            "-5.778429189878424\n"
          ],
          "name": "stdout"
        }
      ]
    },
    {
      "cell_type": "markdown",
      "metadata": {
        "id": "KxWacNC4kxjP"
      },
      "source": [
        "$\\vec{a_b} = a_b\\hat{b} = a_b\\frac{\\vec{b}}{|\\vec{b}|}$"
      ]
    },
    {
      "cell_type": "code",
      "metadata": {
        "id": "fS3eefb7kxjP"
      },
      "source": [
        "vec_a_b = (a_b/np.linalg.norm(b)) * b"
      ],
      "execution_count": null,
      "outputs": []
    },
    {
      "cell_type": "code",
      "metadata": {
        "id": "auQ35fJLkxjS",
        "outputId": "d3987c54-2c15-49d7-c364-4a53f6fd92e1",
        "colab": {
          "base_uri": "https://localhost:8080/",
          "height": 34
        }
      },
      "source": [
        "print(vec_a_b)"
      ],
      "execution_count": null,
      "outputs": [
        {
          "output_type": "stream",
          "text": [
            "[ 4.51219512 -3.6097561 ]\n"
          ],
          "name": "stdout"
        }
      ]
    },
    {
      "cell_type": "code",
      "metadata": {
        "id": "0bNybYpEkxjT",
        "outputId": "ee8a5b9b-fbfd-45a9-ad6d-f8848ad3f9af",
        "colab": {
          "base_uri": "https://localhost:8080/",
          "height": 269
        }
      },
      "source": [
        "plot_vectors([np.asarray([0,0,9,2]), np.asarray([0,0,-5,4]), np.asarray([0,0,vec_a_b[0],vec_a_b[1]])])"
      ],
      "execution_count": null,
      "outputs": [
        {
          "output_type": "display_data",
          "data": {
            "image/png": "[encoded data removed]",
            "text/plain": [
              "<Figure size 432x288 with 1 Axes>"
            ]
          },
          "metadata": {
            "tags": []
          }
        }
      ]
    },
    {
      "cell_type": "code",
      "metadata": {
        "id": "CC_oZExck-tY"
      },
      "source": [
        ""
      ],
      "execution_count": null,
      "outputs": []
    }
  ]
}