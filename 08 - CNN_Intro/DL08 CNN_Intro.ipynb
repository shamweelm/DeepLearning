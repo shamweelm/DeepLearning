{
  "nbformat": 4,
  "nbformat_minor": 0,
  "metadata": {
    "colab": {
      "name": "DL08 CNN.ipynb",
      "provenance": [],
      "collapsed_sections": []
    },
    "kernelspec": {
      "name": "python3",
      "display_name": "Python 3"
    },
    "widgets": {
      "application/vnd.jupyter.widget-state+json": {
        "c78e6e73f559423ab7e7bba5596d3670": {
          "model_module": "@jupyter-widgets/controls",
          "model_name": "HBoxModel",
          "state": {
            "_view_name": "HBoxView",
            "_dom_classes": [],
            "_model_name": "HBoxModel",
            "_view_module": "@jupyter-widgets/controls",
            "_model_module_version": "1.5.0",
            "_view_count": null,
            "_view_module_version": "1.5.0",
            "box_style": "",
            "layout": "IPY_MODEL_08685a46dbe6499997d29f1050d98481",
            "_model_module": "@jupyter-widgets/controls",
            "children": [
              "IPY_MODEL_f0cffe0f9b114d49a44255253c920487",
              "IPY_MODEL_f0799db8403a47a48a38c6635e78be8b"
            ]
          }
        },
        "08685a46dbe6499997d29f1050d98481": {
          "model_module": "@jupyter-widgets/base",
          "model_name": "LayoutModel",
          "state": {
            "_view_name": "LayoutView",
            "grid_template_rows": null,
            "right": null,
            "justify_content": null,
            "_view_module": "@jupyter-widgets/base",
            "overflow": null,
            "_model_module_version": "1.2.0",
            "_view_count": null,
            "flex_flow": null,
            "width": null,
            "min_width": null,
            "border": null,
            "align_items": null,
            "bottom": null,
            "_model_module": "@jupyter-widgets/base",
            "top": null,
            "grid_column": null,
            "overflow_y": null,
            "overflow_x": null,
            "grid_auto_flow": null,
            "grid_area": null,
            "grid_template_columns": null,
            "flex": null,
            "_model_name": "LayoutModel",
            "justify_items": null,
            "grid_row": null,
            "max_height": null,
            "align_content": null,
            "visibility": null,
            "align_self": null,
            "height": null,
            "min_height": null,
            "padding": null,
            "grid_auto_rows": null,
            "grid_gap": null,
            "max_width": null,
            "order": null,
            "_view_module_version": "1.2.0",
            "grid_template_areas": null,
            "object_position": null,
            "object_fit": null,
            "grid_auto_columns": null,
            "margin": null,
            "display": null,
            "left": null
          }
        },
        "f0cffe0f9b114d49a44255253c920487": {
          "model_module": "@jupyter-widgets/controls",
          "model_name": "FloatProgressModel",
          "state": {
            "_view_name": "ProgressView",
            "style": "IPY_MODEL_c442c72411d44f7c94a088215b3f1530",
            "_dom_classes": [],
            "description": "",
            "_model_name": "FloatProgressModel",
            "bar_style": "info",
            "max": 1,
            "_view_module": "@jupyter-widgets/controls",
            "_model_module_version": "1.5.0",
            "value": 1,
            "_view_count": null,
            "_view_module_version": "1.5.0",
            "orientation": "horizontal",
            "min": 0,
            "description_tooltip": null,
            "_model_module": "@jupyter-widgets/controls",
            "layout": "IPY_MODEL_85e16882c54a4838a02c7e4d2b92ea48"
          }
        },
        "f0799db8403a47a48a38c6635e78be8b": {
          "model_module": "@jupyter-widgets/controls",
          "model_name": "HTMLModel",
          "state": {
            "_view_name": "HTMLView",
            "style": "IPY_MODEL_847f5b59ba7a487da4f55fd70f9d7459",
            "_dom_classes": [],
            "description": "",
            "_model_name": "HTMLModel",
            "placeholder": "​",
            "_view_module": "@jupyter-widgets/controls",
            "_model_module_version": "1.5.0",
            "value": " 170500096/? [00:30&lt;00:00, 16629331.35it/s]",
            "_view_count": null,
            "_view_module_version": "1.5.0",
            "description_tooltip": null,
            "_model_module": "@jupyter-widgets/controls",
            "layout": "IPY_MODEL_21bbbcef9c7f4d74a432b67cf271756f"
          }
        },
        "c442c72411d44f7c94a088215b3f1530": {
          "model_module": "@jupyter-widgets/controls",
          "model_name": "ProgressStyleModel",
          "state": {
            "_view_name": "StyleView",
            "_model_name": "ProgressStyleModel",
            "description_width": "initial",
            "_view_module": "@jupyter-widgets/base",
            "_model_module_version": "1.5.0",
            "_view_count": null,
            "_view_module_version": "1.2.0",
            "bar_color": null,
            "_model_module": "@jupyter-widgets/controls"
          }
        },
        "85e16882c54a4838a02c7e4d2b92ea48": {
          "model_module": "@jupyter-widgets/base",
          "model_name": "LayoutModel",
          "state": {
            "_view_name": "LayoutView",
            "grid_template_rows": null,
            "right": null,
            "justify_content": null,
            "_view_module": "@jupyter-widgets/base",
            "overflow": null,
            "_model_module_version": "1.2.0",
            "_view_count": null,
            "flex_flow": null,
            "width": null,
            "min_width": null,
            "border": null,
            "align_items": null,
            "bottom": null,
            "_model_module": "@jupyter-widgets/base",
            "top": null,
            "grid_column": null,
            "overflow_y": null,
            "overflow_x": null,
            "grid_auto_flow": null,
            "grid_area": null,
            "grid_template_columns": null,
            "flex": null,
            "_model_name": "LayoutModel",
            "justify_items": null,
            "grid_row": null,
            "max_height": null,
            "align_content": null,
            "visibility": null,
            "align_self": null,
            "height": null,
            "min_height": null,
            "padding": null,
            "grid_auto_rows": null,
            "grid_gap": null,
            "max_width": null,
            "order": null,
            "_view_module_version": "1.2.0",
            "grid_template_areas": null,
            "object_position": null,
            "object_fit": null,
            "grid_auto_columns": null,
            "margin": null,
            "display": null,
            "left": null
          }
        },
        "847f5b59ba7a487da4f55fd70f9d7459": {
          "model_module": "@jupyter-widgets/controls",
          "model_name": "DescriptionStyleModel",
          "state": {
            "_view_name": "StyleView",
            "_model_name": "DescriptionStyleModel",
            "description_width": "",
            "_view_module": "@jupyter-widgets/base",
            "_model_module_version": "1.5.0",
            "_view_count": null,
            "_view_module_version": "1.2.0",
            "_model_module": "@jupyter-widgets/controls"
          }
        },
        "21bbbcef9c7f4d74a432b67cf271756f": {
          "model_module": "@jupyter-widgets/base",
          "model_name": "LayoutModel",
          "state": {
            "_view_name": "LayoutView",
            "grid_template_rows": null,
            "right": null,
            "justify_content": null,
            "_view_module": "@jupyter-widgets/base",
            "overflow": null,
            "_model_module_version": "1.2.0",
            "_view_count": null,
            "flex_flow": null,
            "width": null,
            "min_width": null,
            "border": null,
            "align_items": null,
            "bottom": null,
            "_model_module": "@jupyter-widgets/base",
            "top": null,
            "grid_column": null,
            "overflow_y": null,
            "overflow_x": null,
            "grid_auto_flow": null,
            "grid_area": null,
            "grid_template_columns": null,
            "flex": null,
            "_model_name": "LayoutModel",
            "justify_items": null,
            "grid_row": null,
            "max_height": null,
            "align_content": null,
            "visibility": null,
            "align_self": null,
            "height": null,
            "min_height": null,
            "padding": null,
            "grid_auto_rows": null,
            "grid_gap": null,
            "max_width": null,
            "order": null,
            "_view_module_version": "1.2.0",
            "grid_template_areas": null,
            "object_position": null,
            "object_fit": null,
            "grid_auto_columns": null,
            "margin": null,
            "display": null,
            "left": null
          }
        }
      }
    },
    "accelerator": "GPU"
  },
  "cells": [
    {
      "cell_type": "code",
      "metadata": {
        "id": "3qVzYNAFsRK5"
      },
      "source": [
        "import torch\n",
        "import matplotlib.pyplot as plt\n",
        "import numpy as np"
      ],
      "execution_count": 1,
      "outputs": []
    },
    {
      "cell_type": "markdown",
      "metadata": {
        "id": "WGxmoPO38iSz"
      },
      "source": [
        "# Loading Data (CIFAR-10)"
      ]
    },
    {
      "cell_type": "code",
      "metadata": {
        "id": "Bn2h32nX8hCF",
        "outputId": "b27010ce-e50b-4874-fd17-46a005661290",
        "colab": {
          "base_uri": "https://localhost:8080/",
          "height": 83,
          "referenced_widgets": [
            "c78e6e73f559423ab7e7bba5596d3670",
            "08685a46dbe6499997d29f1050d98481",
            "f0cffe0f9b114d49a44255253c920487",
            "f0799db8403a47a48a38c6635e78be8b",
            "c442c72411d44f7c94a088215b3f1530",
            "85e16882c54a4838a02c7e4d2b92ea48",
            "847f5b59ba7a487da4f55fd70f9d7459",
            "21bbbcef9c7f4d74a432b67cf271756f"
          ]
        }
      },
      "source": [
        "import torchvision\n",
        "import torchvision.transforms as transforms\n",
        "# Download the dataset and perform operations on it locally. \n",
        "# Also transform the dataset to tensors after downloading to perform operations on them.\n",
        "trainset = torchvision.datasets.CIFAR10( root = './data/', train = True, download = True, transform = transforms.ToTensor())"
      ],
      "execution_count": 2,
      "outputs": [
        {
          "output_type": "stream",
          "text": [
            "Downloading https://www.cs.toronto.edu/~kriz/cifar-10-python.tar.gz to ./data/cifar-10-python.tar.gz\n"
          ],
          "name": "stdout"
        },
        {
          "output_type": "display_data",
          "data": {
            "application/vnd.jupyter.widget-view+json": {
              "model_id": "c78e6e73f559423ab7e7bba5596d3670",
              "version_minor": 0,
              "version_major": 2
            },
            "text/plain": [
              "HBox(children=(FloatProgress(value=1.0, bar_style='info', max=1.0), HTML(value='')))"
            ]
          },
          "metadata": {
            "tags": []
          }
        },
        {
          "output_type": "stream",
          "text": [
            "Extracting ./data/cifar-10-python.tar.gz to ./data/\n"
          ],
          "name": "stdout"
        }
      ]
    },
    {
      "cell_type": "code",
      "metadata": {
        "id": "nQrXyG4X-A3C"
      },
      "source": [
        "classes = ('plane', 'car', 'bird', 'cat', 'deer', 'dog', 'frog', 'horse', 'ship', 'truck')"
      ],
      "execution_count": 3,
      "outputs": []
    },
    {
      "cell_type": "code",
      "metadata": {
        "id": "r50km64NAhUd"
      },
      "source": [
        "trainloader = torch.utils.data.DataLoader(trainset, batch_size = 4, shuffle= True)\n",
        "# Load images in batch size of 4 and load random images."
      ],
      "execution_count": 4,
      "outputs": []
    },
    {
      "cell_type": "code",
      "metadata": {
        "id": "gf-Q5ROjBBy0",
        "outputId": "29ba76d5-0974-4541-94c9-f5d94b387b15",
        "colab": {
          "base_uri": "https://localhost:8080/",
          "height": 68
        }
      },
      "source": [
        "dataiter = iter(trainloader)    # Load the data using Iterator.\n",
        "images, labels = dataiter.next()    # Load one instance of the batch (load 1 of 4 image) with the corresponding label.\n",
        "\n",
        "print(images.shape)         # We are working with 32x32 3d images ( i.e. 3 x 32 x 32). Here 4 corresponds to a batch size of 4.\n",
        "\n",
        "print(images[0].shape)      # Taking 1 image from the batch and finding it's shape.\n",
        "print(labels[0].item())     # Finding the label of the first image."
      ],
      "execution_count": 5,
      "outputs": [
        {
          "output_type": "stream",
          "text": [
            "torch.Size([4, 3, 32, 32])\n",
            "torch.Size([3, 32, 32])\n",
            "2\n"
          ],
          "name": "stdout"
        }
      ]
    },
    {
      "cell_type": "markdown",
      "metadata": {
        "id": "tWi6KMZRCmen"
      },
      "source": [
        "# Visualise data"
      ]
    },
    {
      "cell_type": "markdown",
      "metadata": {
        "id": "mZ_cpGniCtnU"
      },
      "source": [
        "To plot the image, it should be coverted from Tensor to Numpy."
      ]
    },
    {
      "cell_type": "code",
      "metadata": {
        "id": "sgL4rM3ZBs-a",
        "outputId": "a97b8665-fea5-4a08-b297-5d5564a18813",
        "colab": {
          "base_uri": "https://localhost:8080/",
          "height": 34
        }
      },
      "source": [
        "img = images[0]\n",
        "print(type(img))"
      ],
      "execution_count": 6,
      "outputs": [
        {
          "output_type": "stream",
          "text": [
            "<class 'torch.Tensor'>\n"
          ],
          "name": "stdout"
        }
      ]
    },
    {
      "cell_type": "code",
      "metadata": {
        "id": "AnNUxSTkC3KZ",
        "outputId": "bba7174b-c22c-41eb-e3a2-a5889ad115c1",
        "colab": {
          "base_uri": "https://localhost:8080/",
          "height": 34
        }
      },
      "source": [
        "npimg = img.numpy()\n",
        "print(npimg.shape)"
      ],
      "execution_count": 7,
      "outputs": [
        {
          "output_type": "stream",
          "text": [
            "(3, 32, 32)\n"
          ],
          "name": "stdout"
        }
      ]
    },
    {
      "cell_type": "markdown",
      "metadata": {
        "id": "av8CA9vRDDpK"
      },
      "source": [
        "Transpose for 2d is flipping rows and columns. But for higher dimensions like 3d, it is any permutations of the axis."
      ]
    },
    {
      "cell_type": "code",
      "metadata": {
        "id": "4PCBap2uC-Ip",
        "outputId": "809cf06a-1950-422f-ba19-3e8a646008a0",
        "colab": {
          "base_uri": "https://localhost:8080/",
          "height": 34
        }
      },
      "source": [
        "npimg = np.transpose(npimg, (1,2,0) )   # Flipping the first dim 3 i.e no of channels to z axis, to represent the image.\n",
        "print(npimg.shape)"
      ],
      "execution_count": 8,
      "outputs": [
        {
          "output_type": "stream",
          "text": [
            "(32, 32, 3)\n"
          ],
          "name": "stdout"
        }
      ]
    },
    {
      "cell_type": "markdown",
      "metadata": {
        "id": "cOIYUrKoDnkY"
      },
      "source": [
        "Plotting using MatPlotLib imshow."
      ]
    },
    {
      "cell_type": "code",
      "metadata": {
        "id": "GOG3AQtWDjgn",
        "outputId": "7293b49e-ed18-4e6b-d615-2e9d676a6fe7",
        "colab": {
          "base_uri": "https://localhost:8080/",
          "height": 105
        }
      },
      "source": [
        "plt.figure(figsize = (1,1))\n",
        "plt.imshow(npimg)\n",
        "plt.show()"
      ],
      "execution_count": 9,
      "outputs": [
        {
          "output_type": "display_data",
          "data": {
            "image/png": "[encoded data removed]",
            "text/plain": [
              "<Figure size 72x72 with 1 Axes>"
            ]
          },
          "metadata": {
            "tags": [],
            "needs_background": "light"
          }
        }
      ]
    },
    {
      "cell_type": "code",
      "metadata": {
        "id": "NHMCFTFMD2jU"
      },
      "source": [
        "def imshow(img):\n",
        "    npimg = img.numpy()\n",
        "    plt.imshow( np.transpose(npimg, (1,2,0) ) )\n",
        "    plt.show()"
      ],
      "execution_count": 10,
      "outputs": []
    },
    {
      "cell_type": "markdown",
      "metadata": {
        "id": "mvTzlMs7ElNA"
      },
      "source": [
        "Printing all the 4 images in a batch in a grid. Also printing the label of each image."
      ]
    },
    {
      "cell_type": "code",
      "metadata": {
        "id": "dGc2s-U4EdGD",
        "outputId": "83165d77-ebf5-4c63-f24a-1e09bb5ef523",
        "colab": {
          "base_uri": "https://localhost:8080/",
          "height": 155
        }
      },
      "source": [
        "imshow( torchvision.utils.make_grid(images) )\n",
        "print(' '.join(classes[labels[j]] for j in range(4)) )"
      ],
      "execution_count": 11,
      "outputs": [
        {
          "output_type": "display_data",
          "data": {
            "image/png": "[encoded data removed]",
            "text/plain": [
              "<Figure size 432x288 with 1 Axes>"
            ]
          },
          "metadata": {
            "tags": [],
            "needs_background": "light"
          }
        },
        {
          "output_type": "stream",
          "text": [
            "bird car plane dog\n"
          ],
          "name": "stdout"
        }
      ]
    },
    {
      "cell_type": "markdown",
      "metadata": {
        "id": "ZrRUFBIrFwlI"
      },
      "source": [
        "# Single Convolutional Layer"
      ]
    },
    {
      "cell_type": "code",
      "metadata": {
        "id": "WI9vA_o1E4Vj"
      },
      "source": [
        "import torch.nn as nn\n",
        "\n",
        "class FirstCNN(nn.Module):\n",
        "    def __init__(self):\n",
        "        super(FirstCNN, self).__init__() \n",
        "\n",
        "        # self.conv1 = nn.Conv2d(3, 6, 3, padding =(1,1), stride = (2,2)) \n",
        "        self.conv1 = nn.Conv2d(3, 6, [3,3], padding =(1,1), stride = (2,2)) \n",
        "        # 1st param refers to the no of channels (in this case 3 channels RGB)\n",
        "        # 2nd is the no of output channels, here 6 channels must be output. Here 6 different kernels go through the image and output 1 channel each.   \n",
        "        # 3rd param is Kernel size of 3,3. Here writing 3 implies a square kernel of 3,3 is used. For rectangular kernels we can specify inside a list (eg [2,4] )\n",
        "        \n",
        "        # padding=(1,1) & stride=(2,2)) shows how much padding and stride required for each row and column.\n",
        "\n",
        "    def forward(self, x):\n",
        "        x = self.conv1(x)\n",
        "        return x"
      ],
      "execution_count": 12,
      "outputs": []
    },
    {
      "cell_type": "code",
      "metadata": {
        "id": "zlEiCslzHd9s"
      },
      "source": [
        "net = FirstCNN()"
      ],
      "execution_count": 13,
      "outputs": []
    },
    {
      "cell_type": "code",
      "metadata": {
        "id": "XF5GDFe0HkdH",
        "outputId": "dfeecc0e-3ff4-4b4e-f865-a33bffa27d0b",
        "colab": {
          "base_uri": "https://localhost:8080/",
          "height": 34
        }
      },
      "source": [
        "out = net(images)\n",
        "print(out.shape)"
      ],
      "execution_count": 14,
      "outputs": [
        {
          "output_type": "stream",
          "text": [
            "torch.Size([4, 6, 16, 16])\n"
          ],
          "name": "stdout"
        }
      ]
    },
    {
      "cell_type": "markdown",
      "metadata": {
        "id": "JGMVX2x2HuNY"
      },
      "source": [
        "In the above 4 corresponds to the batch size, 16 represents to no of channels,  [16, 16] represents width and height of output."
      ]
    },
    {
      "cell_type": "code",
      "metadata": {
        "id": "8yUHFIl8Hs3n",
        "outputId": "660b4b5c-3bfa-40db-dd79-1de0aff46c5a",
        "colab": {
          "base_uri": "https://localhost:8080/",
          "height": 51
        }
      },
      "source": [
        "for param in net.parameters():\n",
        "    print(param.shape)"
      ],
      "execution_count": 15,
      "outputs": [
        {
          "output_type": "stream",
          "text": [
            "torch.Size([6, 3, 3, 3])\n",
            "torch.Size([6])\n"
          ],
          "name": "stdout"
        }
      ]
    },
    {
      "cell_type": "markdown",
      "metadata": {
        "id": "VNeIcL4nIw9Q"
      },
      "source": [
        "Above first param is of the weights, in which 6 kernels are used each of channel size = 3 (input channels). The last 3,3 corresponds to kernel width and height. </br>\n",
        "Second param is the bias of size 16.\n",
        "\n"
      ]
    },
    {
      "cell_type": "code",
      "metadata": {
        "id": "TgLH_RNgIwUZ",
        "outputId": "4d815664-595a-445b-aa2f-5b93a0f4b8a4",
        "colab": {
          "base_uri": "https://localhost:8080/",
          "height": 34
        }
      },
      "source": [
        "out1 = out[0, 0, :, :].detach().numpy()\n",
        "# 0th batch, 0th channel , all rows and columns. Conver this to numpy array to plot the image.\n",
        "print(out1.shape)"
      ],
      "execution_count": 16,
      "outputs": [
        {
          "output_type": "stream",
          "text": [
            "(16, 16)\n"
          ],
          "name": "stdout"
        }
      ]
    },
    {
      "cell_type": "markdown",
      "metadata": {
        "id": "wz-ajyOAKxyo"
      },
      "source": [
        "Plotting image 0."
      ]
    },
    {
      "cell_type": "code",
      "metadata": {
        "id": "nE2cXRs1KXLY",
        "outputId": "54b73b2f-0c2f-4e38-c83b-416f45053089",
        "colab": {
          "base_uri": "https://localhost:8080/",
          "height": 265
        }
      },
      "source": [
        "plt.imshow( out[0, 0, :, :].detach().numpy() )\n",
        "plt.show()"
      ],
      "execution_count": 17,
      "outputs": [
        {
          "output_type": "display_data",
          "data": {
            "image/png": "[encoded data removed]",
            "text/plain": [
              "<Figure size 432x288 with 1 Axes>"
            ]
          },
          "metadata": {
            "tags": [],
            "needs_background": "light"
          }
        }
      ]
    },
    {
      "cell_type": "markdown",
      "metadata": {
        "id": "Bgy0xeVMK0wT"
      },
      "source": [
        "Plotting image 1 with channel = 0."
      ]
    },
    {
      "cell_type": "code",
      "metadata": {
        "id": "KXXKhLtlKkyZ",
        "outputId": "8f022c6d-e966-4a8b-e1c1-d38e22277fdf",
        "colab": {
          "base_uri": "https://localhost:8080/",
          "height": 265
        }
      },
      "source": [
        "plt.imshow( out[1, 0, :, :].detach().numpy() )\n",
        "plt.show()"
      ],
      "execution_count": 18,
      "outputs": [
        {
          "output_type": "display_data",
          "data": {
            "image/png": "[encoded data removed]",
            "text/plain": [
              "<Figure size 432x288 with 1 Axes>"
            ]
          },
          "metadata": {
            "tags": [],
            "needs_background": "light"
          }
        }
      ]
    },
    {
      "cell_type": "markdown",
      "metadata": {
        "id": "spfJ1-SpK-12"
      },
      "source": [
        "Plotting channel 1 of image1."
      ]
    },
    {
      "cell_type": "code",
      "metadata": {
        "id": "_qgTanldKvtK",
        "outputId": "cc21fe78-cc2d-4527-c1a3-14c203bf26b1",
        "colab": {
          "base_uri": "https://localhost:8080/",
          "height": 265
        }
      },
      "source": [
        "plt.imshow( out[1, 1, :, :].detach().numpy() )\n",
        "plt.show()"
      ],
      "execution_count": 19,
      "outputs": [
        {
          "output_type": "display_data",
          "data": {
            "image/png": "[encoded data removed]",
            "text/plain": [
              "<Figure size 432x288 with 1 Axes>"
            ]
          },
          "metadata": {
            "tags": [],
            "needs_background": "light"
          }
        }
      ]
    },
    {
      "cell_type": "markdown",
      "metadata": {
        "id": "VBlZsN9ElBdg"
      },
      "source": [
        "# Deep Convolution Network"
      ]
    },
    {
      "cell_type": "code",
      "metadata": {
        "id": "7lr7tNNwK9vU"
      },
      "source": [
        "class FirstCNN_v2(nn.Module):\n",
        "    def __init__(self):\n",
        "        super(FirstCNN_v2, self).__init__() \n",
        "        self.model = nn.Sequential(\n",
        "            nn.Conv2d(3, 8, [3,3]),     # 3 RGB channels, 8 output channels, 3x3 kernel\n",
        "                                        # (N, 3, 32, 32) -> (N, 8, 30, 30). Here N is the batch size = 4.\n",
        "            nn.Conv2d(8, 16, [3,3])     # 8 channels from prev layer output, 16 output channels, 3x3 kernel\n",
        "                                        # (N, 8, 30, 30) -> (N, 16, 28, 28)\n",
        "        )\n",
        "        \n",
        "\n",
        "    def forward(self, x):\n",
        "        x = self.model(x)\n",
        "        return x"
      ],
      "execution_count": 20,
      "outputs": []
    },
    {
      "cell_type": "code",
      "metadata": {
        "id": "_Esjc6zHmpf_",
        "outputId": "de526412-5b18-4df3-a7e2-0bf10e9b9148",
        "colab": {
          "base_uri": "https://localhost:8080/",
          "height": 34
        }
      },
      "source": [
        "net = FirstCNN_v2()\n",
        "out = net(images)\n",
        "out.shape"
      ],
      "execution_count": 21,
      "outputs": [
        {
          "output_type": "execute_result",
          "data": {
            "text/plain": [
              "torch.Size([4, 16, 28, 28])"
            ]
          },
          "metadata": {
            "tags": []
          },
          "execution_count": 21
        }
      ]
    },
    {
      "cell_type": "code",
      "metadata": {
        "id": "qIb6xlc9mqCw",
        "outputId": "50273f43-fde8-4842-9101-57d032235337",
        "colab": {
          "base_uri": "https://localhost:8080/",
          "height": 265
        }
      },
      "source": [
        "plt.imshow(out[0, 0, :, :].detach().numpy())\n",
        "plt.show()"
      ],
      "execution_count": 22,
      "outputs": [
        {
          "output_type": "display_data",
          "data": {
            "image/png": "[encoded data removed]",
            "text/plain": [
              "<Figure size 432x288 with 1 Axes>"
            ]
          },
          "metadata": {
            "tags": [],
            "needs_background": "light"
          }
        }
      ]
    },
    {
      "cell_type": "code",
      "metadata": {
        "id": "6Yp0XoUnnOD_"
      },
      "source": [
        "class FirstCNN_v3(nn.Module):\n",
        "    def __init__(self):\n",
        "        super(FirstCNN_v3, self).__init__() \n",
        "        self.model = nn.Sequential(\n",
        "            nn.Conv2d(3, 6, [5,5]),             # (N, 3, 32, 32) -> (N, 6, 28, 28). Here N is the batch size = 4.\n",
        "            nn.AvgPool2d([2,2], stride =2 ),    # (N, 6, 28, 28) -> (N, 6, 14, 14). \n",
        "                                                # Take the avg of 2x2 weight batches. Does not change the no of channel.                    \n",
        "            nn.Conv2d(6, 16, [5,5]),            # (N, 6, 28, 28) -> (N, 16, 10, 10)\n",
        "            nn.AvgPool2d(2, stride = 2)         # (N, 16, 24, 24) -> (N, 16, 5, 5). Stride =2 so it's dimensions get reduced to half.\n",
        "                                        \n",
        "        )\n",
        "        \n",
        "\n",
        "    def forward(self, x):\n",
        "        x = self.model(x)\n",
        "        return x"
      ],
      "execution_count": 23,
      "outputs": []
    },
    {
      "cell_type": "code",
      "metadata": {
        "id": "9fGansQ8ozRl",
        "outputId": "466598c2-56f5-46fe-c1ac-3a3728dc5a64",
        "colab": {
          "base_uri": "https://localhost:8080/",
          "height": 34
        }
      },
      "source": [
        "net = FirstCNN_v3()\n",
        "out = net(images)\n",
        "out.shape"
      ],
      "execution_count": 24,
      "outputs": [
        {
          "output_type": "execute_result",
          "data": {
            "text/plain": [
              "torch.Size([4, 16, 5, 5])"
            ]
          },
          "metadata": {
            "tags": []
          },
          "execution_count": 24
        }
      ]
    },
    {
      "cell_type": "code",
      "metadata": {
        "id": "9nTDHTgRo_2N",
        "outputId": "ef4c5a36-a3ab-42cd-dd51-8d5c6e1f36a0",
        "colab": {
          "base_uri": "https://localhost:8080/",
          "height": 265
        }
      },
      "source": [
        "plt.imshow(out[0, 0, :, :].detach().numpy())\n",
        "plt.show()"
      ],
      "execution_count": 25,
      "outputs": [
        {
          "output_type": "display_data",
          "data": {
            "image/png": "[encoded data removed]",
            "text/plain": [
              "<Figure size 432x288 with 1 Axes>"
            ]
          },
          "metadata": {
            "tags": [],
            "needs_background": "light"
          }
        }
      ]
    },
    {
      "cell_type": "markdown",
      "metadata": {
        "id": "aCXI3NyBpfu5"
      },
      "source": [
        "# LeNet"
      ]
    },
    {
      "cell_type": "code",
      "metadata": {
        "id": "TLw51tuwphM7"
      },
      "source": [
        "class LeNet(nn.Module):\n",
        "    def __init__(self): \n",
        "        super(LeNet, self).__init__()\n",
        "        self.cnn_model = nn.Sequential(\n",
        "            nn.Conv2d(3, 6, [5,5]),         # (N, 3, 32, 32) -> (N, 6, 28, 28)\n",
        "            nn.Tanh(),                  \n",
        "            nn.AvgPool2d(2, stride = 2),    # (N, 6, 28, 28) -> (N, 6, 14, 14)          \n",
        "            nn.Conv2d(6, 16, [5,5]),        # (N, 6, 14, 14) -> (N, 16, 10, 10)\n",
        "            nn.Tanh(),                      \n",
        "            nn.AvgPool2d(2, stride = 2)     # (N, 16, 10, 10) -> (N, 16, 5, 5)\n",
        "        )\n",
        "\n",
        "        self.fc_model = nn.Sequential(\n",
        "            nn.Linear(400, 120),            # (N, 400) -> (N, 120). \n",
        "            # That is 16x5x5 neurons of Convolution is the total no of input nuerons to FFN. The next layer i.e. the first hidden layer has 120 neurons.\n",
        "            nn.Tanh(),\n",
        "            nn.Linear(120, 84),             # (N, 120) -> (N, 84)\n",
        "            nn.Tanh(),\n",
        "            nn.Linear(84, 10),              # (N, 84) -> (N, 10)\n",
        "        )\n",
        "    \n",
        "    def forward(self, x):\n",
        "        print(x.shape)\n",
        "        x = self.cnn_model(x)\n",
        "        print(x.shape)\n",
        "        x = x.view(x.size(0), -1)   # Flattening of Tensors to be fed to FFN is done here. \n",
        "        # It is done such that it has the same dimension on the first index which corresponds to the batch, & second index collapses everything i.e. 16x5x5.\n",
        "        print(x.shape)\n",
        "        x = self.fc_model(x)\n",
        "        print(x.shape)\n",
        "        return x"
      ],
      "execution_count": 26,
      "outputs": []
    },
    {
      "cell_type": "code",
      "metadata": {
        "id": "ISIzzHMgsZaO",
        "outputId": "a4de4a41-87d6-419e-db69-bcd79b883d56",
        "colab": {
          "base_uri": "https://localhost:8080/",
          "height": 85
        }
      },
      "source": [
        "net = LeNet()\n",
        "out = net(images)"
      ],
      "execution_count": 27,
      "outputs": [
        {
          "output_type": "stream",
          "text": [
            "torch.Size([4, 3, 32, 32])\n",
            "torch.Size([4, 16, 5, 5])\n",
            "torch.Size([4, 400])\n",
            "torch.Size([4, 10])\n"
          ],
          "name": "stdout"
        }
      ]
    },
    {
      "cell_type": "code",
      "metadata": {
        "id": "oc6T80R7tnau",
        "outputId": "e70135fb-d155-4d79-f394-4451821a3f28",
        "colab": {
          "base_uri": "https://localhost:8080/",
          "height": 153
        }
      },
      "source": [
        "print(out)"
      ],
      "execution_count": 28,
      "outputs": [
        {
          "output_type": "stream",
          "text": [
            "tensor([[ 0.0188,  0.0902,  0.0516,  0.0921, -0.1140, -0.0622,  0.0571, -0.0410,\n",
            "          0.0860,  0.0573],\n",
            "        [ 0.0287,  0.0894,  0.0447,  0.0868, -0.1049, -0.0791,  0.0526, -0.0444,\n",
            "          0.0678,  0.0673],\n",
            "        [ 0.0116,  0.0876,  0.0438,  0.0894, -0.1170, -0.0658,  0.0626, -0.0506,\n",
            "          0.1003,  0.0572],\n",
            "        [ 0.0127,  0.0869,  0.0606,  0.0875, -0.1085, -0.0687,  0.0482, -0.0488,\n",
            "          0.0846,  0.0825]], grad_fn=<AddmmBackward>)\n"
          ],
          "name": "stdout"
        }
      ]
    },
    {
      "cell_type": "code",
      "metadata": {
        "id": "uO_WEnGwtqyY",
        "outputId": "c6642a81-5ba0-4390-97ff-04ed9ff086cd",
        "colab": {
          "base_uri": "https://localhost:8080/",
          "height": 34
        }
      },
      "source": [
        "max_values, pred_class = torch.max(out.data, 1)     # Max value along dim 1 i.e. along the columns.\n",
        "print(pred_class)"
      ],
      "execution_count": 29,
      "outputs": [
        {
          "output_type": "stream",
          "text": [
            "tensor([3, 1, 8, 3])\n"
          ],
          "name": "stdout"
        }
      ]
    },
    {
      "cell_type": "markdown",
      "metadata": {
        "id": "87g5YnWstmui"
      },
      "source": [
        "# Training LeNet"
      ]
    },
    {
      "cell_type": "code",
      "metadata": {
        "id": "LT0WnsV3tswg"
      },
      "source": [
        "class LeNet(nn.Module):\n",
        "    def __init__(self): \n",
        "        super(LeNet, self).__init__()\n",
        "        self.cnn_model = nn.Sequential(\n",
        "            nn.Conv2d(3, 6, 5),         # (N, 3, 32, 32) -> (N,  6, 28, 28)\n",
        "            nn.Tanh(),\n",
        "            nn.AvgPool2d(2, stride=2),  # (N, 6, 28, 28) -> (N,  6, 14, 14)\n",
        "            nn.Conv2d(6, 16, 5),        # (N, 6, 14, 14) -> (N, 16, 10, 10)  \n",
        "            nn.Tanh(),\n",
        "            nn.AvgPool2d(2, stride=2)   # (N,16, 10, 10) -> (N, 16, 5, 5)\n",
        "        )\n",
        "        self.fc_model = nn.Sequential(\n",
        "            nn.Linear(400,120),         # (N, 400) -> (N, 120)\n",
        "            nn.Tanh(),\n",
        "            nn.Linear(120,84),          # (N, 120) -> (N, 84)\n",
        "            nn.Tanh(),\n",
        "            nn.Linear(84,10)            # (N, 84)  -> (N, 10)\n",
        "        )\n",
        "        \n",
        "    def forward(self, x):\n",
        "        x = self.cnn_model(x)\n",
        "        x = x.view(x.size(0), -1)\n",
        "        x = self.fc_model(x)\n",
        "        return x"
      ],
      "execution_count": 30,
      "outputs": []
    },
    {
      "cell_type": "code",
      "metadata": {
        "id": "Zf7a_QSAx-lo",
        "outputId": "62fb71dd-a532-4bb7-afa3-eb1abc945c9a",
        "colab": {
          "base_uri": "https://localhost:8080/",
          "height": 51
        }
      },
      "source": [
        "batch_size = 128\n",
        "trainset = torchvision.datasets.CIFAR10( root = './data/', train = True, download = True, transform = transforms.ToTensor())\n",
        "trainloader = torch.utils.data.DataLoader(trainset, batch_size = batch_size, shuffle= True)\n",
        "testset = torchvision.datasets.CIFAR10( root = './data/', train = False, download = True, transform = transforms.ToTensor())\n",
        "testloader = torch.utils.data.DataLoader(testset, batch_size = batch_size, shuffle= False)"
      ],
      "execution_count": 31,
      "outputs": [
        {
          "output_type": "stream",
          "text": [
            "Files already downloaded and verified\n",
            "Files already downloaded and verified\n"
          ],
          "name": "stdout"
        }
      ]
    },
    {
      "cell_type": "code",
      "metadata": {
        "id": "Jtv6YsYMyh8L"
      },
      "source": [
        "def evaluation(dataloader):\n",
        "    total, correct = 0, 0\n",
        "    for data in dataloader:\n",
        "        inputs, labels = data\n",
        "        outputs = net(inputs)\n",
        "        _, pred = torch.max(outputs.data, 1)\n",
        "        total += labels.size(0)\n",
        "        correct += (pred == labels).sum().item()\n",
        "    return 100 * correct / total"
      ],
      "execution_count": 32,
      "outputs": []
    },
    {
      "cell_type": "code",
      "metadata": {
        "id": "OLzWxlYAzQZ6"
      },
      "source": [
        "net = LeNet()"
      ],
      "execution_count": 33,
      "outputs": []
    },
    {
      "cell_type": "code",
      "metadata": {
        "id": "OdgRq5rMzT9I"
      },
      "source": [
        "import torch.optim as optim\n",
        "\n",
        "loss_fn = nn.CrossEntropyLoss()\n",
        "opt = optim.Adam(net.parameters())"
      ],
      "execution_count": 34,
      "outputs": []
    },
    {
      "cell_type": "code",
      "metadata": {
        "id": "9R5r1QhFzhkC",
        "outputId": "5306e6cd-4d39-4dfb-c382-0e2561132f95",
        "colab": {
          "base_uri": "https://localhost:8080/",
          "height": 571
        }
      },
      "source": [
        "%%time\n",
        "loss_arr = []\n",
        "loss_epoch_arr = []\n",
        "max_epochs = 16\n",
        "\n",
        "for epoch in range(max_epochs):\n",
        "\n",
        "    for i, data in enumerate(trainloader, 0):\n",
        "\n",
        "        inputs, labels = data\n",
        "\n",
        "        opt.zero_grad()\n",
        "\n",
        "        outputs = net(inputs)\n",
        "        loss = loss_fn(outputs, labels)\n",
        "        loss.backward()\n",
        "        opt.step()\n",
        "        \n",
        "        loss_arr.append( loss.item() )\n",
        "        \n",
        "    loss_epoch_arr.append( loss.item() )\n",
        "        \n",
        "    print('Epoch: %d/%d, Test acc: %0.2f, Train acc: %0.2f' % (epoch, max_epochs, evaluation(testloader), evaluation(trainloader)))\n",
        "    \n",
        "    \n",
        "plt.plot(loss_epoch_arr)\n",
        "plt.show()"
      ],
      "execution_count": 35,
      "outputs": [
        {
          "output_type": "stream",
          "text": [
            "Epoch: 0/16, Test acc: 38.51, Train acc: 38.66\n",
            "Epoch: 1/16, Test acc: 42.71, Train acc: 43.56\n",
            "Epoch: 2/16, Test acc: 46.61, Train acc: 47.71\n",
            "Epoch: 3/16, Test acc: 48.66, Train acc: 49.98\n",
            "Epoch: 4/16, Test acc: 51.13, Train acc: 52.05\n",
            "Epoch: 5/16, Test acc: 50.80, Train acc: 52.90\n",
            "Epoch: 6/16, Test acc: 53.23, Train acc: 56.03\n",
            "Epoch: 7/16, Test acc: 52.54, Train acc: 57.00\n",
            "Epoch: 8/16, Test acc: 54.30, Train acc: 59.04\n",
            "Epoch: 9/16, Test acc: 54.77, Train acc: 60.02\n",
            "Epoch: 10/16, Test acc: 55.07, Train acc: 61.21\n",
            "Epoch: 11/16, Test acc: 55.21, Train acc: 62.16\n",
            "Epoch: 12/16, Test acc: 54.56, Train acc: 62.50\n",
            "Epoch: 13/16, Test acc: 55.42, Train acc: 63.53\n",
            "Epoch: 14/16, Test acc: 55.38, Train acc: 64.82\n",
            "Epoch: 15/16, Test acc: 55.97, Train acc: 65.42\n"
          ],
          "name": "stdout"
        },
        {
          "output_type": "display_data",
          "data": {
            "image/png": "[encoded data removed]",
            "text/plain": [
              "<Figure size 432x288 with 1 Axes>"
            ]
          },
          "metadata": {
            "tags": [],
            "needs_background": "light"
          }
        },
        {
          "output_type": "stream",
          "text": [
            "CPU times: user 6min 23s, sys: 2.59 s, total: 6min 26s\n",
            "Wall time: 6min 26s\n"
          ],
          "name": "stdout"
        }
      ]
    },
    {
      "cell_type": "markdown",
      "metadata": {
        "id": "Yye_UKjS31mU"
      },
      "source": [
        "# Move to GPU"
      ]
    },
    {
      "cell_type": "markdown",
      "metadata": {
        "id": "elgt6-gj5HDF"
      },
      "source": [
        "Loading inputs, labels to the GPU since they are tensors. Also load the LeNet object to the GPU. This way the loss_fn, optimiser and output are loaded in the GPU.</br>\n",
        "Ensure that Input, Net and Output are all on the GPU to avoid data type mismatch."
      ]
    },
    {
      "cell_type": "code",
      "metadata": {
        "id": "tMLuIsEH0AJ_",
        "outputId": "1e782160-2ba9-4ac2-bb77-71b8c30d57eb",
        "colab": {
          "base_uri": "https://localhost:8080/",
          "height": 34
        }
      },
      "source": [
        "device = torch.device(\"cuda:0\" if torch.cuda.is_available() else \"cpu\")\n",
        "print(device)"
      ],
      "execution_count": 36,
      "outputs": [
        {
          "output_type": "stream",
          "text": [
            "cuda:0\n"
          ],
          "name": "stdout"
        }
      ]
    },
    {
      "cell_type": "code",
      "metadata": {
        "id": "jXE4IEsP4NDw"
      },
      "source": [
        "def evaluation(dataloader):\n",
        "    total, correct = 0, 0\n",
        "    for data in dataloader:\n",
        "        inputs, labels = data\n",
        "        inputs, labels = inputs.to(device), labels.to(device)\n",
        "        outputs = net(inputs)\n",
        "        _, pred = torch.max(outputs.data, 1)\n",
        "        total += labels.size(0)\n",
        "        correct += (pred == labels).sum().item()\n",
        "    return 100 * correct / total"
      ],
      "execution_count": 37,
      "outputs": []
    },
    {
      "cell_type": "code",
      "metadata": {
        "id": "pML5CJjT4gQm"
      },
      "source": [
        "net = LeNet().to(device)\n",
        "loss_fn = nn.CrossEntropyLoss()\n",
        "opt = optim.Adam(net.parameters())"
      ],
      "execution_count": 38,
      "outputs": []
    },
    {
      "cell_type": "code",
      "metadata": {
        "id": "KZKQspGp4n0j",
        "outputId": "29ffd5a3-99e1-4f06-e1c6-a60184c03466",
        "colab": {
          "base_uri": "https://localhost:8080/",
          "height": 323
        }
      },
      "source": [
        "%%time\n",
        "loss_arr = []\n",
        "loss_epoch_arr = []\n",
        "max_epochs = 16\n",
        "\n",
        "for epoch in range(max_epochs):\n",
        "\n",
        "    for i, data in enumerate(trainloader, 0):\n",
        "\n",
        "        inputs, labels = data\n",
        "        inputs, labels = inputs.to(device), labels.to(device)\n",
        "\n",
        "        opt.zero_grad()\n",
        "\n",
        "        outputs = net(inputs)\n",
        "        loss = loss_fn(outputs, labels)\n",
        "        loss.backward()\n",
        "        opt.step()\n",
        "        \n",
        "    print('Epoch: %d/%d' % (epoch, max_epochs))"
      ],
      "execution_count": 39,
      "outputs": [
        {
          "output_type": "stream",
          "text": [
            "Epoch: 0/16\n",
            "Epoch: 1/16\n",
            "Epoch: 2/16\n",
            "Epoch: 3/16\n",
            "Epoch: 4/16\n",
            "Epoch: 5/16\n",
            "Epoch: 6/16\n",
            "Epoch: 7/16\n",
            "Epoch: 8/16\n",
            "Epoch: 9/16\n",
            "Epoch: 10/16\n",
            "Epoch: 11/16\n",
            "Epoch: 12/16\n",
            "Epoch: 13/16\n",
            "Epoch: 14/16\n",
            "Epoch: 15/16\n",
            "CPU times: user 1min 24s, sys: 613 ms, total: 1min 24s\n",
            "Wall time: 1min 25s\n"
          ],
          "name": "stdout"
        }
      ]
    },
    {
      "cell_type": "code",
      "metadata": {
        "id": "kwRFHDAm51Vm",
        "outputId": "c8c16442-44e3-4f5e-9df9-c5e0fb9a5c17",
        "colab": {
          "base_uri": "https://localhost:8080/",
          "height": 34
        }
      },
      "source": [
        "print('Test acc: %0.2f, Train acc: %0.2f' % (evaluation(testloader), evaluation(trainloader)))"
      ],
      "execution_count": 40,
      "outputs": [
        {
          "output_type": "stream",
          "text": [
            "Test acc: 55.83, Train acc: 65.24\n"
          ],
          "name": "stdout"
        }
      ]
    },
    {
      "cell_type": "markdown",
      "metadata": {
        "id": "GCiCrnEY6zd0"
      },
      "source": [
        "# Basic Visualisation"
      ]
    },
    {
      "cell_type": "code",
      "metadata": {
        "id": "u1NSBYH560Sg",
        "outputId": "4dfbe688-8a13-43b2-82ae-a5b29153d5db",
        "colab": {
          "base_uri": "https://localhost:8080/",
          "height": 138
        }
      },
      "source": [
        "imshow( torchvision.utils.make_grid(images) )"
      ],
      "execution_count": 41,
      "outputs": [
        {
          "output_type": "display_data",
          "data": {
            "image/png": "[encoded data removed]",
            "text/plain": [
              "<Figure size 432x288 with 1 Axes>"
            ]
          },
          "metadata": {
            "tags": [],
            "needs_background": "light"
          }
        }
      ]
    },
    {
      "cell_type": "code",
      "metadata": {
        "id": "B_Wuv2H37FPK"
      },
      "source": [
        "net = net.to('cpu')"
      ],
      "execution_count": 42,
      "outputs": []
    },
    {
      "cell_type": "code",
      "metadata": {
        "id": "D-8rWOIo7Ir1",
        "outputId": "164bf218-3711-450c-db0f-f1e2b4d5fa66",
        "colab": {
          "base_uri": "https://localhost:8080/",
          "height": 34
        }
      },
      "source": [
        "out = net(images)\n",
        "print(out.shape)"
      ],
      "execution_count": 43,
      "outputs": [
        {
          "output_type": "stream",
          "text": [
            "torch.Size([4, 10])\n"
          ],
          "name": "stdout"
        }
      ]
    },
    {
      "cell_type": "code",
      "metadata": {
        "id": "yH4bjuTo7Mdb",
        "outputId": "a1c99737-2f88-4f76-8ba5-b1c593a16147",
        "colab": {
          "base_uri": "https://localhost:8080/",
          "height": 34
        }
      },
      "source": [
        "out = net.cnn_model[0](images)\n",
        "out.shape"
      ],
      "execution_count": 44,
      "outputs": [
        {
          "output_type": "execute_result",
          "data": {
            "text/plain": [
              "torch.Size([4, 6, 28, 28])"
            ]
          },
          "metadata": {
            "tags": []
          },
          "execution_count": 44
        }
      ]
    },
    {
      "cell_type": "code",
      "metadata": {
        "id": "dwKcAAJP7aqt",
        "outputId": "5b481560-184d-4b3b-c27f-0d875c8c60d3",
        "colab": {
          "base_uri": "https://localhost:8080/",
          "height": 159
        }
      },
      "source": [
        "image_id = 2\n",
        "plt.figure( figsize = (2,2))\n",
        "imshow(images[image_id])"
      ],
      "execution_count": 45,
      "outputs": [
        {
          "output_type": "display_data",
          "data": {
            "image/png": "[encoded data removed]",
            "text/plain": [
              "<Figure size 144x144 with 1 Axes>"
            ]
          },
          "metadata": {
            "tags": [],
            "needs_background": "light"
          }
        }
      ]
    },
    {
      "cell_type": "code",
      "metadata": {
        "id": "nrM89H8t7tdy",
        "outputId": "4b2ac5ce-2051-424e-c278-5bef625dd845",
        "colab": {
          "base_uri": "https://localhost:8080/",
          "height": 430
        }
      },
      "source": [
        "plt.figure(figsize = (6,6))\n",
        "plt.subplot(321)    # Contains 3 rows and 2 columns.\n",
        "for i in range(6):\n",
        "    ax1 = plt.subplot(3,2, i+1)\n",
        "    plt.imshow( out[image_id, i, :, :].detach().numpy(), cmap = \"binary\" )  # i represents the channel to display.\n",
        "plt.show()"
      ],
      "execution_count": 46,
      "outputs": [
        {
          "output_type": "stream",
          "text": [
            "/usr/local/lib/python3.6/dist-packages/ipykernel_launcher.py:4: MatplotlibDeprecationWarning: Adding an axes using the same arguments as a previous axes currently reuses the earlier instance.  In a future version, a new instance will always be created and returned.  Meanwhile, this warning can be suppressed, and the future behavior ensured, by passing a unique label to each axes instance.\n",
            "  after removing the cwd from sys.path.\n"
          ],
          "name": "stderr"
        },
        {
          "output_type": "display_data",
          "data": {
            "image/png": "[encoded data removed]",
            "text/plain": [
              "<Figure size 432x432 with 6 Axes>"
            ]
          },
          "metadata": {
            "tags": [],
            "needs_background": "light"
          }
        }
      ]
    },
    {
      "cell_type": "code",
      "metadata": {
        "id": "4IT7so6r869t"
      },
      "source": [
        ""
      ],
      "execution_count": 46,
      "outputs": []
    }
  ]
}