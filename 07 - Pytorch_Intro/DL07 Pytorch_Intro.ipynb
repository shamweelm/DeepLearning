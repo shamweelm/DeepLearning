{
  "nbformat": 4,
  "nbformat_minor": 0,
  "metadata": {
    "colab": {
      "name": "DL_07 Pytorch Intro.ipynb",
      "provenance": [],
      "collapsed_sections": []
    },
    "kernelspec": {
      "name": "python3",
      "display_name": "Python 3"
    },
    "accelerator": "GPU"
  },
  "cells": [
    {
      "cell_type": "markdown",
      "metadata": {
        "id": "nzr724B3fsMX"
      },
      "source": [
        "Tensors are higher dimensional matrices that represents number having relations between them."
      ]
    },
    {
      "cell_type": "code",
      "metadata": {
        "id": "C8Lga6TmdoQE"
      },
      "source": [
        "import torch\n",
        "import numpy as np\n",
        "import matplotlib.pyplot as plt"
      ],
      "execution_count": 1,
      "outputs": []
    },
    {
      "cell_type": "markdown",
      "metadata": {
        "id": "4F4oJrVVhD-I"
      },
      "source": [
        "# Initialise"
      ]
    },
    {
      "cell_type": "code",
      "metadata": {
        "id": "68sBSUx9hDIq",
        "outputId": "686f6679-46ae-4525-dfa3-028ad794ab3c",
        "colab": {
          "base_uri": "https://localhost:8080/",
          "height": 153
        }
      },
      "source": [
        "x = torch.zeros(3,2)\n",
        "print(x)\n",
        "x = torch.ones(2,2)\n",
        "print(x)\n",
        "x = torch.rand(3,2)\n",
        "print(x)"
      ],
      "execution_count": 2,
      "outputs": [
        {
          "output_type": "stream",
          "text": [
            "tensor([[0., 0.],\n",
            "        [0., 0.],\n",
            "        [0., 0.]])\n",
            "tensor([[1., 1.],\n",
            "        [1., 1.]])\n",
            "tensor([[0.5385, 0.9672],\n",
            "        [0.4080, 0.7146],\n",
            "        [0.7679, 0.9057]])\n"
          ],
          "name": "stdout"
        }
      ]
    },
    {
      "cell_type": "code",
      "metadata": {
        "id": "ppjYniH6hTBv",
        "outputId": "dae4be03-f0c6-4ad0-f8c3-23b06f0b8679",
        "colab": {
          "base_uri": "https://localhost:8080/",
          "height": 119
        }
      },
      "source": [
        "x = torch.empty(3,2)        # Fill values that are present in the memory.\n",
        "print(x)\n",
        "y = torch.zeros_like(x)     # Fill with 0 but with the shape of X.\n",
        "print(y)"
      ],
      "execution_count": 3,
      "outputs": [
        {
          "output_type": "stream",
          "text": [
            "tensor([[7.7987e-36, 0.0000e+00],\n",
            "        [3.3631e-44, 0.0000e+00],\n",
            "        [       nan, 0.0000e+00]])\n",
            "tensor([[0., 0.],\n",
            "        [0., 0.],\n",
            "        [0., 0.]])\n"
          ],
          "name": "stdout"
        }
      ]
    },
    {
      "cell_type": "code",
      "metadata": {
        "id": "YeHA0nqwhwik",
        "outputId": "42c21ea1-ab1b-4fea-f919-8c2cf5b68e64",
        "colab": {
          "base_uri": "https://localhost:8080/",
          "height": 34
        }
      },
      "source": [
        "x = torch.linspace(0,1, steps = 5) # Create linear space from 0 to 1 with 5 steps.\n",
        "print(x)"
      ],
      "execution_count": 4,
      "outputs": [
        {
          "output_type": "stream",
          "text": [
            "tensor([0.0000, 0.2500, 0.5000, 0.7500, 1.0000])\n"
          ],
          "name": "stdout"
        }
      ]
    },
    {
      "cell_type": "code",
      "metadata": {
        "id": "PG8dh1psiGcg",
        "outputId": "3ea21b26-9d5d-4c1f-f6d1-73d2eef9a4ac",
        "colab": {
          "base_uri": "https://localhost:8080/",
          "height": 68
        }
      },
      "source": [
        "x = torch.tensor([[1,2],\n",
        "                  [3,4],\n",
        "                  [5,6]])\n",
        "print(x)"
      ],
      "execution_count": 5,
      "outputs": [
        {
          "output_type": "stream",
          "text": [
            "tensor([[1, 2],\n",
            "        [3, 4],\n",
            "        [5, 6]])\n"
          ],
          "name": "stdout"
        }
      ]
    },
    {
      "cell_type": "markdown",
      "metadata": {
        "id": "-fAg9vm-igOa"
      },
      "source": [
        "# Slicing Tensors"
      ]
    },
    {
      "cell_type": "code",
      "metadata": {
        "id": "LJXMxAEdiQw6",
        "outputId": "222a95ee-06ee-42e5-ef14-557ca3696cf8",
        "colab": {
          "base_uri": "https://localhost:8080/",
          "height": 170
        }
      },
      "source": [
        "print(x)\n",
        "print(x.size())\n",
        "print(x[:, 1:2])\n",
        "print(x[:2, :2])"
      ],
      "execution_count": 6,
      "outputs": [
        {
          "output_type": "stream",
          "text": [
            "tensor([[1, 2],\n",
            "        [3, 4],\n",
            "        [5, 6]])\n",
            "torch.Size([3, 2])\n",
            "tensor([[2],\n",
            "        [4],\n",
            "        [6]])\n",
            "tensor([[1, 2],\n",
            "        [3, 4]])\n"
          ],
          "name": "stdout"
        }
      ]
    },
    {
      "cell_type": "code",
      "metadata": {
        "id": "8mvRAaIUivR_",
        "outputId": "e63ffd2a-10b3-45eb-acbc-ac8a1d5a3080",
        "colab": {
          "base_uri": "https://localhost:8080/",
          "height": 51
        }
      },
      "source": [
        "y = x[1,1]\n",
        "print(y) # In Tensor format\n",
        "print(y.item()) # To get the numerical value"
      ],
      "execution_count": 7,
      "outputs": [
        {
          "output_type": "stream",
          "text": [
            "tensor(4)\n",
            "4\n"
          ],
          "name": "stdout"
        }
      ]
    },
    {
      "cell_type": "markdown",
      "metadata": {
        "id": "wtmnFPNsjHD5"
      },
      "source": [
        "# Reshaping Tensors"
      ]
    },
    {
      "cell_type": "code",
      "metadata": {
        "id": "K2GAYW0Ri23O",
        "outputId": "dbca60c7-9a09-4882-c489-aa9251e73e59",
        "colab": {
          "base_uri": "https://localhost:8080/",
          "height": 102
        }
      },
      "source": [
        "print(x)\n",
        "y = x.view(2,3) # Reshape to 2 rows and 3 columns\n",
        "print(y)"
      ],
      "execution_count": 8,
      "outputs": [
        {
          "output_type": "stream",
          "text": [
            "tensor([[1, 2],\n",
            "        [3, 4],\n",
            "        [5, 6]])\n",
            "tensor([[1, 2, 3],\n",
            "        [4, 5, 6]])\n"
          ],
          "name": "stdout"
        }
      ]
    },
    {
      "cell_type": "code",
      "metadata": {
        "id": "ycyATPajjOqj",
        "outputId": "01bade27-d85f-4943-bccf-981101e19c0f",
        "colab": {
          "base_uri": "https://localhost:8080/",
          "height": 119
        }
      },
      "source": [
        "y = x.view(6,-1)\n",
        "print(y)"
      ],
      "execution_count": 9,
      "outputs": [
        {
          "output_type": "stream",
          "text": [
            "tensor([[1],\n",
            "        [2],\n",
            "        [3],\n",
            "        [4],\n",
            "        [5],\n",
            "        [6]])\n"
          ],
          "name": "stdout"
        }
      ]
    },
    {
      "cell_type": "markdown",
      "metadata": {
        "id": "CqBlqYlSjbb8"
      },
      "source": [
        "# Simple Tensor Operations"
      ]
    },
    {
      "cell_type": "code",
      "metadata": {
        "id": "vZTwwBsUjSiR",
        "outputId": "aa04b0f9-fa73-4e25-b997-0bcc09b5cb8b",
        "colab": {
          "base_uri": "https://localhost:8080/",
          "height": 272
        }
      },
      "source": [
        "x = torch.ones([3,2])\n",
        "y = torch.ones([3,2])\n",
        "print(x)\n",
        "print(y)\n",
        "\n",
        "# Point wise addition, subtraction and multiplication is done.\n",
        "z = x + y\n",
        "print(z)\n",
        "z = x - y\n",
        "print(z)\n",
        "z = x * y\n",
        "print(z)"
      ],
      "execution_count": 10,
      "outputs": [
        {
          "output_type": "stream",
          "text": [
            "tensor([[1., 1.],\n",
            "        [1., 1.],\n",
            "        [1., 1.]])\n",
            "tensor([[1., 1.],\n",
            "        [1., 1.],\n",
            "        [1., 1.]])\n",
            "tensor([[2., 2.],\n",
            "        [2., 2.],\n",
            "        [2., 2.]])\n",
            "tensor([[0., 0.],\n",
            "        [0., 0.],\n",
            "        [0., 0.]])\n",
            "tensor([[1., 1.],\n",
            "        [1., 1.],\n",
            "        [1., 1.]])\n"
          ],
          "name": "stdout"
        }
      ]
    },
    {
      "cell_type": "code",
      "metadata": {
        "id": "RE7514ZLkKHm",
        "outputId": "4084d694-dcab-4ae2-d929-067490c77d6e",
        "colab": {
          "base_uri": "https://localhost:8080/",
          "height": 119
        }
      },
      "source": [
        "z = y.add(x) # X is added to Y\n",
        "print(z)\n",
        "print(y)"
      ],
      "execution_count": 11,
      "outputs": [
        {
          "output_type": "stream",
          "text": [
            "tensor([[2., 2.],\n",
            "        [2., 2.],\n",
            "        [2., 2.]])\n",
            "tensor([[1., 1.],\n",
            "        [1., 1.],\n",
            "        [1., 1.]])\n"
          ],
          "name": "stdout"
        }
      ]
    },
    {
      "cell_type": "code",
      "metadata": {
        "id": "g3dRX571karh",
        "outputId": "5a6ac166-5906-411f-af86-ed140efc85cb",
        "colab": {
          "base_uri": "https://localhost:8080/",
          "height": 119
        }
      },
      "source": [
        "z = y.add_(x) # X is added to Y and also modify Y. (Addition in place)\n",
        "print(z)\n",
        "print(y)"
      ],
      "execution_count": 12,
      "outputs": [
        {
          "output_type": "stream",
          "text": [
            "tensor([[2., 2.],\n",
            "        [2., 2.],\n",
            "        [2., 2.]])\n",
            "tensor([[2., 2.],\n",
            "        [2., 2.],\n",
            "        [2., 2.]])\n"
          ],
          "name": "stdout"
        }
      ]
    },
    {
      "cell_type": "markdown",
      "metadata": {
        "id": "lmHp_WMvkqyK"
      },
      "source": [
        "# Numpy interfacing to Pytorch"
      ]
    },
    {
      "cell_type": "code",
      "metadata": {
        "id": "0TQufo4ckdKO",
        "outputId": "2f93cf63-1ddd-4116-bdda-bb5b0d511fe8",
        "colab": {
          "base_uri": "https://localhost:8080/",
          "height": 102
        }
      },
      "source": [
        "x_np = x.numpy()\n",
        "print( type(x) )\n",
        "print( type(x_np) )\n",
        "print(x)"
      ],
      "execution_count": 13,
      "outputs": [
        {
          "output_type": "stream",
          "text": [
            "<class 'torch.Tensor'>\n",
            "<class 'numpy.ndarray'>\n",
            "tensor([[1., 1.],\n",
            "        [1., 1.],\n",
            "        [1., 1.]])\n"
          ],
          "name": "stdout"
        }
      ]
    },
    {
      "cell_type": "code",
      "metadata": {
        "id": "9ZAgWsDulaTC",
        "outputId": "5930b5a5-475e-4347-91f0-65d37a931d76",
        "colab": {
          "base_uri": "https://localhost:8080/",
          "height": 68
        }
      },
      "source": [
        "a_np = np.random.randn(5)\n",
        "print( type(a_np) )\n",
        "a_pt = torch.from_numpy(a_np)\n",
        "print( type(a_pt) )\n",
        "print(a_pt)"
      ],
      "execution_count": 14,
      "outputs": [
        {
          "output_type": "stream",
          "text": [
            "<class 'numpy.ndarray'>\n",
            "<class 'torch.Tensor'>\n",
            "tensor([2.0655, 0.5605, 0.9578, 0.9218, 0.5429], dtype=torch.float64)\n"
          ],
          "name": "stdout"
        }
      ]
    },
    {
      "cell_type": "markdown",
      "metadata": {
        "id": "0KeNNRFCmKCR"
      },
      "source": [
        "Making changes to numpy array also changes the tensor as they both access the same underlying area."
      ]
    },
    {
      "cell_type": "code",
      "metadata": {
        "id": "cZrS9LPKltEO",
        "outputId": "6cdb3dff-16e0-4c8b-b0e0-a6affad30063",
        "colab": {
          "base_uri": "https://localhost:8080/",
          "height": 51
        }
      },
      "source": [
        "np.add(a_np, 1, out = a_np)\n",
        "print(a_np)\n",
        "print(a_pt)"
      ],
      "execution_count": 15,
      "outputs": [
        {
          "output_type": "stream",
          "text": [
            "[3.06554902 1.56053815 1.9578011  1.92181119 1.54294141]\n",
            "tensor([3.0655, 1.5605, 1.9578, 1.9218, 1.5429], dtype=torch.float64)\n"
          ],
          "name": "stdout"
        }
      ]
    },
    {
      "cell_type": "code",
      "metadata": {
        "id": "Rcov3hIDmt7i",
        "outputId": "39e6c25f-e351-4dd9-92da-7f47bc02701f",
        "colab": {
          "base_uri": "https://localhost:8080/",
          "height": 51
        }
      },
      "source": [
        "%%time\n",
        "for i in range(10):\n",
        "  a = np.random.randn(10000,10000)\n",
        "  b = np.random.randn(10000,10000)\n",
        "  c = a + b"
      ],
      "execution_count": 16,
      "outputs": [
        {
          "output_type": "stream",
          "text": [
            "CPU times: user 1min 21s, sys: 569 ms, total: 1min 22s\n",
            "Wall time: 1min 22s\n"
          ],
          "name": "stdout"
        }
      ]
    },
    {
      "cell_type": "code",
      "metadata": {
        "id": "4xRkg-wPmt0R",
        "outputId": "37a8925d-eb90-477b-ad44-dcd626deba35",
        "colab": {
          "base_uri": "https://localhost:8080/",
          "height": 51
        }
      },
      "source": [
        "%%time\n",
        "for i in range(10):\n",
        "  a = torch.randn([10000, 10000])\n",
        "  b = torch.randn([10000, 10000])\n",
        "  c = a + b"
      ],
      "execution_count": 17,
      "outputs": [
        {
          "output_type": "stream",
          "text": [
            "CPU times: user 19.3 s, sys: 1.94 ms, total: 19.3 s\n",
            "Wall time: 19.3 s\n"
          ],
          "name": "stdout"
        }
      ]
    },
    {
      "cell_type": "code",
      "metadata": {
        "id": "Vp1o1bPLmFsR",
        "outputId": "4e6e865e-6ea2-42d4-f9d6-c63850bbcd3c",
        "colab": {
          "base_uri": "https://localhost:8080/",
          "height": 51
        }
      },
      "source": [
        "%%time\n",
        "for i in range(100):\n",
        "  a = np.random.randn(100,100)\n",
        "  b = np.random.randn(100,100)\n",
        "  c = np.matmul(a, b)"
      ],
      "execution_count": 18,
      "outputs": [
        {
          "output_type": "stream",
          "text": [
            "CPU times: user 129 ms, sys: 95 ms, total: 224 ms\n",
            "Wall time: 117 ms\n"
          ],
          "name": "stdout"
        }
      ]
    },
    {
      "cell_type": "code",
      "metadata": {
        "id": "m0esBF1wmnxu",
        "outputId": "5ea8ec8d-a8ba-4cea-b043-c99c806cf670",
        "colab": {
          "base_uri": "https://localhost:8080/",
          "height": 51
        }
      },
      "source": [
        "%%time\n",
        "for i in range(100):\n",
        "  a = torch.randn([100, 100])\n",
        "  b = torch.randn([100, 100])\n",
        "  c = torch.matmul(a, b)"
      ],
      "execution_count": 19,
      "outputs": [
        {
          "output_type": "stream",
          "text": [
            "CPU times: user 55.1 ms, sys: 47 ms, total: 102 ms\n",
            "Wall time: 61.6 ms\n"
          ],
          "name": "stdout"
        }
      ]
    },
    {
      "cell_type": "markdown",
      "metadata": {
        "id": "BqLrpHEonxdq"
      },
      "source": [
        "# GPU - CUDA Support"
      ]
    },
    {
      "cell_type": "code",
      "metadata": {
        "id": "5oPp8VI8ms7c",
        "outputId": "3fd76648-2c3a-448e-f95c-dbeda1f7c3dd",
        "colab": {
          "base_uri": "https://localhost:8080/",
          "height": 34
        }
      },
      "source": [
        "print(torch.cuda.device_count())"
      ],
      "execution_count": 20,
      "outputs": [
        {
          "output_type": "stream",
          "text": [
            "1\n"
          ],
          "name": "stdout"
        }
      ]
    },
    {
      "cell_type": "code",
      "metadata": {
        "id": "UzmVKoPxFU2P",
        "outputId": "ee65653f-9a76-41a6-92ea-30e33f4da156",
        "colab": {
          "base_uri": "https://localhost:8080/",
          "height": 51
        }
      },
      "source": [
        "print(torch.cuda.device(0))\n",
        "print(torch.cuda.get_device_name(0))"
      ],
      "execution_count": 21,
      "outputs": [
        {
          "output_type": "stream",
          "text": [
            "<torch.cuda.device object at 0x7f9cdf8c3908>\n",
            "Tesla P100-PCIE-16GB\n"
          ],
          "name": "stdout"
        }
      ]
    },
    {
      "cell_type": "code",
      "metadata": {
        "id": "TPmXPCWcFyFv"
      },
      "source": [
        "cuda0 = torch.device('cuda:0')"
      ],
      "execution_count": 22,
      "outputs": []
    },
    {
      "cell_type": "code",
      "metadata": {
        "id": "b_2m_Wh8Gbyq",
        "outputId": "b55bf477-b6e8-4b91-b9f3-79c17db5d264",
        "colab": {
          "base_uri": "https://localhost:8080/",
          "height": 68
        }
      },
      "source": [
        "# Creating 3,2 Tensors using CUDA\n",
        "a = torch.ones(3, 2, device=cuda0)\n",
        "b = torch.ones(3, 2, device=cuda0)\n",
        "c = a + b\n",
        "print(c)"
      ],
      "execution_count": 23,
      "outputs": [
        {
          "output_type": "stream",
          "text": [
            "tensor([[2., 2.],\n",
            "        [2., 2.],\n",
            "        [2., 2.]], device='cuda:0')\n"
          ],
          "name": "stdout"
        }
      ]
    },
    {
      "cell_type": "code",
      "metadata": {
        "id": "5yB_emDAGhpj",
        "outputId": "b9890f73-c175-4cf0-cc53-2918504e8e9b",
        "colab": {
          "base_uri": "https://localhost:8080/",
          "height": 68
        }
      },
      "source": [
        "print(a)"
      ],
      "execution_count": 24,
      "outputs": [
        {
          "output_type": "stream",
          "text": [
            "tensor([[1., 1.],\n",
            "        [1., 1.],\n",
            "        [1., 1.]], device='cuda:0')\n"
          ],
          "name": "stdout"
        }
      ]
    },
    {
      "cell_type": "code",
      "metadata": {
        "id": "sVfOAU2EfTXB",
        "outputId": "c2722698-59ae-4fdd-ed15-eabcca176e50",
        "colab": {
          "base_uri": "https://localhost:8080/",
          "height": 51
        }
      },
      "source": [
        "%%time\n",
        "for i in range(10):\n",
        "  a = np.random.randn(10000,10000)\n",
        "  b = np.random.randn(10000,10000)\n",
        "  np.add(b, a)"
      ],
      "execution_count": 25,
      "outputs": [
        {
          "output_type": "stream",
          "text": [
            "CPU times: user 1min 21s, sys: 284 ms, total: 1min 22s\n",
            "Wall time: 1min 22s\n"
          ],
          "name": "stdout"
        }
      ]
    },
    {
      "cell_type": "code",
      "metadata": {
        "id": "G9GLUek5hCfn",
        "outputId": "15b2064b-a353-4256-c343-8b88fe9adcb2",
        "colab": {
          "base_uri": "https://localhost:8080/",
          "height": 51
        }
      },
      "source": [
        "%%time\n",
        "for i in range(10):\n",
        "  a_cpu = torch.randn([10000, 10000])\n",
        "  b_cpu = torch.randn([10000, 10000])\n",
        "  b_cpu.add_(a_cpu)"
      ],
      "execution_count": 26,
      "outputs": [
        {
          "output_type": "stream",
          "text": [
            "CPU times: user 19.3 s, sys: 316 ms, total: 19.6 s\n",
            "Wall time: 19.6 s\n"
          ],
          "name": "stdout"
        }
      ]
    },
    {
      "cell_type": "code",
      "metadata": {
        "id": "FqSYioGrgyMI",
        "outputId": "e73d298e-9eab-48b1-8cd3-f0cf153a1100",
        "colab": {
          "base_uri": "https://localhost:8080/",
          "height": 51
        }
      },
      "source": [
        "%%time\n",
        "for i in range(10):\n",
        "  a = torch.randn([10000, 10000], device=cuda0)\n",
        "  b = torch.randn([10000, 10000], device=cuda0)\n",
        "  b.add_(a)"
      ],
      "execution_count": 27,
      "outputs": [
        {
          "output_type": "stream",
          "text": [
            "CPU times: user 1.78 ms, sys: 1.98 ms, total: 3.76 ms\n",
            "Wall time: 7.75 ms\n"
          ],
          "name": "stdout"
        }
      ]
    },
    {
      "cell_type": "code",
      "metadata": {
        "id": "Kjsl8xRFjPtT",
        "outputId": "47470334-9d45-461e-a678-5099eb9e4d6d",
        "colab": {
          "base_uri": "https://localhost:8080/",
          "height": 51
        }
      },
      "source": [
        "%%time\n",
        "for i in range(10):\n",
        "  a = np.random.randn(10000,10000)\n",
        "  b = np.random.randn(10000,10000)\n",
        "  np.matmul(b, a)"
      ],
      "execution_count": 28,
      "outputs": [
        {
          "output_type": "stream",
          "text": [
            "CPU times: user 16min 25s, sys: 4.28 s, total: 16min 29s\n",
            "Wall time: 9min 2s\n"
          ],
          "name": "stdout"
        }
      ]
    },
    {
      "cell_type": "code",
      "metadata": {
        "id": "avFqbCgXjT3F",
        "outputId": "d107be1e-e888-4f2d-9598-3d9d61ec6c63",
        "colab": {
          "base_uri": "https://localhost:8080/",
          "height": 51
        }
      },
      "source": [
        "%%time\n",
        "for i in range(10):\n",
        "  a_cpu = torch.randn([10000, 10000])\n",
        "  b_cpu = torch.randn([10000, 10000])\n",
        "  torch.matmul(a_cpu, b_cpu)"
      ],
      "execution_count": 29,
      "outputs": [
        {
          "output_type": "stream",
          "text": [
            "CPU times: user 2min 25s, sys: 177 ms, total: 2min 25s\n",
            "Wall time: 2min 25s\n"
          ],
          "name": "stdout"
        }
      ]
    },
    {
      "cell_type": "code",
      "metadata": {
        "id": "hFfMhN2gjlZJ",
        "outputId": "ee241f1a-312c-4733-c93b-ee08d28d2e45",
        "colab": {
          "base_uri": "https://localhost:8080/",
          "height": 51
        }
      },
      "source": [
        "%%time\n",
        "for i in range(10):\n",
        "  a = torch.randn([10000, 10000], device=cuda0)\n",
        "  b = torch.randn([10000, 10000], device=cuda0)\n",
        "  torch.matmul(a, b)"
      ],
      "execution_count": 30,
      "outputs": [
        {
          "output_type": "stream",
          "text": [
            "CPU times: user 4.7 ms, sys: 1 ms, total: 5.71 ms\n",
            "Wall time: 5.7 ms\n"
          ],
          "name": "stdout"
        }
      ]
    },
    {
      "cell_type": "markdown",
      "metadata": {
        "id": "DtKUKUe_HWYW"
      },
      "source": [
        "# AutoGrad"
      ]
    },
    {
      "cell_type": "code",
      "metadata": {
        "id": "PIP4fNFbHWDH",
        "outputId": "b62e417a-ce0a-4d1c-9653-aa3c2e129d78",
        "colab": {
          "base_uri": "https://localhost:8080/",
          "height": 68
        }
      },
      "source": [
        "x = torch.ones([3,2], requires_grad = True)\n",
        "print(x)"
      ],
      "execution_count": 31,
      "outputs": [
        {
          "output_type": "stream",
          "text": [
            "tensor([[1., 1.],\n",
            "        [1., 1.],\n",
            "        [1., 1.]], requires_grad=True)\n"
          ],
          "name": "stdout"
        }
      ]
    },
    {
      "cell_type": "code",
      "metadata": {
        "id": "w-e1ztOmGjU_",
        "outputId": "c043a1e4-e015-4476-be27-8c0708de177c",
        "colab": {
          "base_uri": "https://localhost:8080/",
          "height": 68
        }
      },
      "source": [
        "y = x + 5\n",
        "print(y)"
      ],
      "execution_count": 32,
      "outputs": [
        {
          "output_type": "stream",
          "text": [
            "tensor([[6., 6.],\n",
            "        [6., 6.],\n",
            "        [6., 6.]], grad_fn=<AddBackward0>)\n"
          ],
          "name": "stdout"
        }
      ]
    },
    {
      "cell_type": "code",
      "metadata": {
        "id": "pwB1Wx6oIO0_",
        "outputId": "bf5d5b97-65d2-4dfa-bf18-4c7abc01d6d3",
        "colab": {
          "base_uri": "https://localhost:8080/",
          "height": 68
        }
      },
      "source": [
        "z = y * y + 1\n",
        "print(z)"
      ],
      "execution_count": 33,
      "outputs": [
        {
          "output_type": "stream",
          "text": [
            "tensor([[37., 37.],\n",
            "        [37., 37.],\n",
            "        [37., 37.]], grad_fn=<AddBackward0>)\n"
          ],
          "name": "stdout"
        }
      ]
    },
    {
      "cell_type": "code",
      "metadata": {
        "id": "dDBTenkTIO6A",
        "outputId": "cf7f41d4-7e0c-4f35-fec9-70e54ccaea3c",
        "colab": {
          "base_uri": "https://localhost:8080/",
          "height": 34
        }
      },
      "source": [
        "t = torch.sum(z) # Adding all the elements of Tensor.\n",
        "print(t)"
      ],
      "execution_count": 34,
      "outputs": [
        {
          "output_type": "stream",
          "text": [
            "tensor(222., grad_fn=<SumBackward0>)\n"
          ],
          "name": "stdout"
        }
      ]
    },
    {
      "cell_type": "markdown",
      "metadata": {
        "id": "CCZRDc7XJSDy"
      },
      "source": [
        "Differentiating t by x."
      ]
    },
    {
      "cell_type": "code",
      "metadata": {
        "id": "HRrqzYfiIO4d"
      },
      "source": [
        "t.backward()"
      ],
      "execution_count": 35,
      "outputs": []
    },
    {
      "cell_type": "code",
      "metadata": {
        "id": "cDfbY145IOqY",
        "outputId": "ac8473d4-4692-4b36-d966-fc2e0407dc3a",
        "colab": {
          "base_uri": "https://localhost:8080/",
          "height": 68
        }
      },
      "source": [
        "print(x.grad)"
      ],
      "execution_count": 36,
      "outputs": [
        {
          "output_type": "stream",
          "text": [
            "tensor([[12., 12.],\n",
            "        [12., 12.],\n",
            "        [12., 12.]])\n"
          ],
          "name": "stdout"
        }
      ]
    },
    {
      "cell_type": "markdown",
      "metadata": {
        "id": "PmpikCn0IcBS"
      },
      "source": [
        "$t = \\sum_i z_i, z_i = y_i^2 + 1, y_i = x_i + 5$\n",
        "\n",
        "$\\frac{\\partial t}{\\partial x_i} = \\frac{\\partial z_i}{\\partial x_i} = \\frac{\\partial z_i}{\\partial y_i} \\frac{\\partial y_i}{\\partial x_i} = 2 * y_i $\n",
        "\n",
        "At x = 1, y = 6, $\\frac{\\partial t}{\\partial x_i} = 12$"
      ]
    },
    {
      "cell_type": "code",
      "metadata": {
        "id": "MjM0ZvGuKgox",
        "outputId": "c8b1c59b-f3e6-485e-f218-d3e93b4ffb60",
        "colab": {
          "base_uri": "https://localhost:8080/",
          "height": 170
        }
      },
      "source": [
        "x = torch.ones([3,2], requires_grad = True)\n",
        "y = x + 5\n",
        "print(y)\n",
        "r = 1 / ( 1 + torch.exp(-y) ) # Derivative of Sigmoid = Output * (1 - Output)\n",
        "print(r)\n",
        "s = torch.sum(r)\n",
        "s.backward()\n",
        "print(x.grad)"
      ],
      "execution_count": 37,
      "outputs": [
        {
          "output_type": "stream",
          "text": [
            "tensor([[6., 6.],\n",
            "        [6., 6.],\n",
            "        [6., 6.]], grad_fn=<AddBackward0>)\n",
            "tensor([[0.9975, 0.9975],\n",
            "        [0.9975, 0.9975],\n",
            "        [0.9975, 0.9975]], grad_fn=<MulBackward0>)\n",
            "tensor([[0.0025, 0.0025],\n",
            "        [0.0025, 0.0025],\n",
            "        [0.0025, 0.0025]])\n"
          ],
          "name": "stdout"
        }
      ]
    },
    {
      "cell_type": "code",
      "metadata": {
        "id": "facPb6NyL7vX",
        "outputId": "c3a0cd37-5e2b-4dfa-db9b-6a00e9fb2da5",
        "colab": {
          "base_uri": "https://localhost:8080/",
          "height": 119
        }
      },
      "source": [
        "x = torch.ones([3, 2], requires_grad=True)\n",
        "y = x + 5\n",
        "r = 1/(1 + torch.exp(-y))\n",
        "print(r)\n",
        "a = torch.ones([3,2])\n",
        "r.backward(a)\n",
        "print(x.grad)"
      ],
      "execution_count": 38,
      "outputs": [
        {
          "output_type": "stream",
          "text": [
            "tensor([[0.9975, 0.9975],\n",
            "        [0.9975, 0.9975],\n",
            "        [0.9975, 0.9975]], grad_fn=<MulBackward0>)\n",
            "tensor([[0.0025, 0.0025],\n",
            "        [0.0025, 0.0025],\n",
            "        [0.0025, 0.0025]])\n"
          ],
          "name": "stdout"
        }
      ]
    },
    {
      "cell_type": "markdown",
      "metadata": {
        "id": "4IIroB_FOVgj"
      },
      "source": [
        "In the above code, a -> represents ds/dx which was not available for us. Since dr/dx is computed using the grad and backward function, to satisfy the chain rule and to get the output, a point wise multiplication of a and r is done."
      ]
    },
    {
      "cell_type": "markdown",
      "metadata": {
        "id": "X-p0sUGtOUCF"
      },
      "source": [
        "$\\frac{\\partial{s}}{\\partial{x}} = \\frac{\\partial{s}}{\\partial{r}} \\cdot \\frac{\\partial{r}}{\\partial{x}}$\n",
        "\n",
        "For the above code $a$ represents $\\frac{\\partial{s}}{\\partial{r}}$ and then $x.grad$ gives directly $\\frac{\\partial{s}}{\\partial{x}}$\n",
        "\n"
      ]
    },
    {
      "cell_type": "markdown",
      "metadata": {
        "id": "KSpbGlA8PNTW"
      },
      "source": [
        "## Autodiff example with Own Data and Loss Function"
      ]
    },
    {
      "cell_type": "markdown",
      "metadata": {
        "id": "-WHsj73-P5pw"
      },
      "source": [
        "Here X is the input data, Y is the real output, Y_hat is the predicted output.<br>\n",
        "w and b are the parameters used in y_hat. Here MSE loss function is used."
      ]
    },
    {
      "cell_type": "code",
      "metadata": {
        "id": "ku7pgrc-M6Wu"
      },
      "source": [
        "x = torch.randn([20, 1], requires_grad=True)    \n",
        "y = 3*x - 2                                     "
      ],
      "execution_count": 39,
      "outputs": []
    },
    {
      "cell_type": "code",
      "metadata": {
        "id": "WDGpWgyqPb6l"
      },
      "source": [
        "w = torch.tensor([1.0], requires_grad= True)\n",
        "b = torch.tensor([1.0], requires_grad= True)\n",
        "\n",
        "y_hat = w*x + b\n",
        "\n",
        "loss = torch.sum((y_hat - y)**2)"
      ],
      "execution_count": 40,
      "outputs": []
    },
    {
      "cell_type": "code",
      "metadata": {
        "id": "MQV2F-zCQWsV",
        "outputId": "ca04363f-ab3c-4b69-ba46-8d79a076345f",
        "colab": {
          "base_uri": "https://localhost:8080/",
          "height": 34
        }
      },
      "source": [
        "print(loss)"
      ],
      "execution_count": 41,
      "outputs": [
        {
          "output_type": "stream",
          "text": [
            "tensor(227.6503, grad_fn=<SumBackward0>)\n"
          ],
          "name": "stdout"
        }
      ]
    },
    {
      "cell_type": "code",
      "metadata": {
        "id": "i64W09-DQYhW"
      },
      "source": [
        "loss.backward()"
      ],
      "execution_count": 42,
      "outputs": []
    },
    {
      "cell_type": "markdown",
      "metadata": {
        "id": "Tgkrl7AWRClR"
      },
      "source": [
        "If w.grad returns a positive number, then the selected value of w is greater than the optimal value. If it negative, then it is lower than the optimal value."
      ]
    },
    {
      "cell_type": "code",
      "metadata": {
        "id": "l32YAlaJQaHd",
        "outputId": "9986faa5-16e6-4e1b-e07c-04fd3847792e",
        "colab": {
          "base_uri": "https://localhost:8080/",
          "height": 34
        }
      },
      "source": [
        "print(w.grad, b.grad)"
      ],
      "execution_count": 43,
      "outputs": [
        {
          "output_type": "stream",
          "text": [
            "tensor([-65.6806]) tensor([107.9798])\n"
          ],
          "name": "stdout"
        }
      ]
    },
    {
      "cell_type": "markdown",
      "metadata": {
        "id": "m4jdZTi5QdMa"
      },
      "source": [
        "## Do it in a loop"
      ]
    },
    {
      "cell_type": "code",
      "metadata": {
        "id": "hao7kTUPQcdS",
        "outputId": "947b4497-bc6f-43ad-a4d9-984ee2cbe768",
        "colab": {
          "base_uri": "https://localhost:8080/",
          "height": 204
        }
      },
      "source": [
        "learning_rate = 0.01\n",
        "\n",
        "w = torch.tensor([1.], requires_grad=True)\n",
        "b = torch.tensor([1.], requires_grad=True)\n",
        "\n",
        "print(w.item(), b.item())\n",
        "\n",
        "for i in range(10):\n",
        "    \n",
        "    x = torch.randn([20, 1])\n",
        "    y = 3*x - 2\n",
        "    \n",
        "    y_hat = w*x + b\n",
        "    loss = torch.sum((y_hat - y)**2)\n",
        "    \n",
        "    loss.backward()\n",
        "\n",
        "    # torch.no_grad() is used to prevent weight updates from further building the forward propogation.\n",
        "    with torch.no_grad():\n",
        "        w -= learning_rate * w.grad\n",
        "        b -= learning_rate * b.grad\n",
        "\n",
        "        w.grad.zero_()\n",
        "        b.grad.zero_()\n",
        "    print(w.item(), b.item())"
      ],
      "execution_count": 44,
      "outputs": [
        {
          "output_type": "stream",
          "text": [
            "1.0 1.0\n",
            "1.301446557044983 -0.05205392837524414\n",
            "2.2686986923217773 -0.8300359845161438\n",
            "2.6972808837890625 -1.3352370262145996\n",
            "2.8399739265441895 -1.601739525794983\n",
            "2.7917866706848145 -1.7154347896575928\n",
            "2.910399913787842 -1.8234485387802124\n",
            "2.938993215560913 -1.8965004682540894\n",
            "2.9650840759277344 -1.9387147426605225\n",
            "2.9805994033813477 -1.9650235176086426\n",
            "2.9891178607940674 -1.9791890382766724\n"
          ],
          "name": "stdout"
        }
      ]
    },
    {
      "cell_type": "code",
      "metadata": {
        "id": "0uQhCJAsS3Gb",
        "outputId": "a58e58cc-8737-4a90-ad7d-9f425d4d47a4",
        "colab": {
          "base_uri": "https://localhost:8080/",
          "height": 85
        }
      },
      "source": [
        "%%time\n",
        "learning_rate = 0.001\n",
        "N = 10000000\n",
        "epochs = 200\n",
        "\n",
        "w = torch.rand([N], requires_grad=True)\n",
        "b = torch.ones([1], requires_grad=True)\n",
        "\n",
        "print(torch.mean(w).item(), b.item())\n",
        "\n",
        "for i in range(epochs):\n",
        "    \n",
        "    x = torch.randn([N])\n",
        "    y = torch.dot(3 * torch.ones([N]), x) - 2\n",
        "    \n",
        "    y_hat = torch.dot(w, x) + b\n",
        "    loss = torch.sum((y_hat - y)**2)\n",
        "    \n",
        "    loss.backward()\n",
        "\n",
        "    with torch.no_grad():\n",
        "        w -= learning_rate * w.grad\n",
        "        b -= learning_rate * b.grad\n",
        "\n",
        "        w.grad.zero_()\n",
        "        b.grad.zero_()\n",
        "\n",
        "print(torch.mean(w).item(), b.item())"
      ],
      "execution_count": 45,
      "outputs": [
        {
          "output_type": "stream",
          "text": [
            "0.49982041120529175 1.0\n",
            "nan nan\n",
            "CPU times: user 29.4 s, sys: 32 ms, total: 29.5 s\n",
            "Wall time: 29.5 s\n"
          ],
          "name": "stdout"
        }
      ]
    },
    {
      "cell_type": "markdown",
      "metadata": {
        "id": "ODtX0MOrXESL"
      },
      "source": [
        "Using GPU to create tensors."
      ]
    },
    {
      "cell_type": "code",
      "metadata": {
        "id": "RSj593hgUxNm",
        "outputId": "b2f68017-4370-4435-c75c-9036042f197a",
        "colab": {
          "base_uri": "https://localhost:8080/",
          "height": 85
        }
      },
      "source": [
        "%%time\n",
        "learning_rate = 0.001\n",
        "N = 10000000\n",
        "epochs = 200\n",
        "\n",
        "w = torch.rand([N], requires_grad=True, device = cuda0)\n",
        "b = torch.ones([1], requires_grad=True, device = cuda0)\n",
        "\n",
        "print(torch.mean(w).item(), b.item())\n",
        "\n",
        "for i in range(epochs):\n",
        "    \n",
        "    x = torch.randn([N], device = cuda0)\n",
        "    y = torch.dot(3 * (torch.ones([N], device = cuda0) ), x) - 2\n",
        "    \n",
        "    y_hat = torch.dot(w, x) + b\n",
        "    loss = torch.sum((y_hat - y)**2)\n",
        "    \n",
        "    loss.backward()\n",
        "\n",
        "    with torch.no_grad():\n",
        "        w -= learning_rate * w.grad\n",
        "        b -= learning_rate * b.grad\n",
        "\n",
        "        w.grad.zero_()\n",
        "        b.grad.zero_()\n",
        "\n",
        "print(torch.mean(w).item(), b.item())"
      ],
      "execution_count": 46,
      "outputs": [
        {
          "output_type": "stream",
          "text": [
            "0.49994519352912903 1.0\n",
            "nan nan\n",
            "CPU times: user 286 ms, sys: 108 ms, total: 394 ms\n",
            "Wall time: 421 ms\n"
          ],
          "name": "stdout"
        }
      ]
    },
    {
      "cell_type": "code",
      "metadata": {
        "id": "ZqO3UJjgWjCd"
      },
      "source": [
        ""
      ],
      "execution_count": 46,
      "outputs": []
    }
  ]
}