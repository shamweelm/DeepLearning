{
  "nbformat": 4,
  "nbformat_minor": 0,
  "metadata": {
    "colab": {
      "name": "DL_05B.ipynb",
      "provenance": []
    },
    "kernelspec": {
      "name": "python3",
      "display_name": "Python 3"
    },
    "widgets": {
      "application/vnd.jupyter.widget-state+json": {
        "20c9a72fc61e4cbe96e840945993e102": {
          "model_module": "@jupyter-widgets/controls",
          "model_name": "HBoxModel",
          "state": {
            "_view_name": "HBoxView",
            "_dom_classes": [],
            "_model_name": "HBoxModel",
            "_view_module": "@jupyter-widgets/controls",
            "_model_module_version": "1.5.0",
            "_view_count": null,
            "_view_module_version": "1.5.0",
            "box_style": "",
            "layout": "IPY_MODEL_22f3a3d58aa64239aa69e7b705b0e29d",
            "_model_module": "@jupyter-widgets/controls",
            "children": [
              "IPY_MODEL_252ee62c99ae45fea67d778d99480aa9",
              "IPY_MODEL_124843dbe93a4d04b41625616249f260"
            ]
          }
        },
        "22f3a3d58aa64239aa69e7b705b0e29d": {
          "model_module": "@jupyter-widgets/base",
          "model_name": "LayoutModel",
          "state": {
            "_view_name": "LayoutView",
            "grid_template_rows": null,
            "right": null,
            "justify_content": null,
            "_view_module": "@jupyter-widgets/base",
            "overflow": null,
            "_model_module_version": "1.2.0",
            "_view_count": null,
            "flex_flow": null,
            "width": null,
            "min_width": null,
            "border": null,
            "align_items": null,
            "bottom": null,
            "_model_module": "@jupyter-widgets/base",
            "top": null,
            "grid_column": null,
            "overflow_y": null,
            "overflow_x": null,
            "grid_auto_flow": null,
            "grid_area": null,
            "grid_template_columns": null,
            "flex": null,
            "_model_name": "LayoutModel",
            "justify_items": null,
            "grid_row": null,
            "max_height": null,
            "align_content": null,
            "visibility": null,
            "align_self": null,
            "height": null,
            "min_height": null,
            "padding": null,
            "grid_auto_rows": null,
            "grid_gap": null,
            "max_width": null,
            "order": null,
            "_view_module_version": "1.2.0",
            "grid_template_areas": null,
            "object_position": null,
            "object_fit": null,
            "grid_auto_columns": null,
            "margin": null,
            "display": null,
            "left": null
          }
        },
        "252ee62c99ae45fea67d778d99480aa9": {
          "model_module": "@jupyter-widgets/controls",
          "model_name": "FloatProgressModel",
          "state": {
            "_view_name": "ProgressView",
            "style": "IPY_MODEL_696bbb9c9ef44aa0b87d6e0105d4c6f3",
            "_dom_classes": [],
            "description": "100%",
            "_model_name": "FloatProgressModel",
            "bar_style": "success",
            "max": 2000,
            "_view_module": "@jupyter-widgets/controls",
            "_model_module_version": "1.5.0",
            "value": 2000,
            "_view_count": null,
            "_view_module_version": "1.5.0",
            "orientation": "horizontal",
            "min": 0,
            "description_tooltip": null,
            "_model_module": "@jupyter-widgets/controls",
            "layout": "IPY_MODEL_f8b7e6bff3a244a1a4d9934ab1d67c7c"
          }
        },
        "124843dbe93a4d04b41625616249f260": {
          "model_module": "@jupyter-widgets/controls",
          "model_name": "HTMLModel",
          "state": {
            "_view_name": "HTMLView",
            "style": "IPY_MODEL_41ea95e8a38f4dfcafe8d9107026c2f7",
            "_dom_classes": [],
            "description": "",
            "_model_name": "HTMLModel",
            "placeholder": "​",
            "_view_module": "@jupyter-widgets/controls",
            "_model_module_version": "1.5.0",
            "value": " 2000/2000 [00:02&lt;00:00, 689.70epoch/s]",
            "_view_count": null,
            "_view_module_version": "1.5.0",
            "description_tooltip": null,
            "_model_module": "@jupyter-widgets/controls",
            "layout": "IPY_MODEL_c8b537f810944492bc3683a505a7b80e"
          }
        },
        "696bbb9c9ef44aa0b87d6e0105d4c6f3": {
          "model_module": "@jupyter-widgets/controls",
          "model_name": "ProgressStyleModel",
          "state": {
            "_view_name": "StyleView",
            "_model_name": "ProgressStyleModel",
            "description_width": "initial",
            "_view_module": "@jupyter-widgets/base",
            "_model_module_version": "1.5.0",
            "_view_count": null,
            "_view_module_version": "1.2.0",
            "bar_color": null,
            "_model_module": "@jupyter-widgets/controls"
          }
        },
        "f8b7e6bff3a244a1a4d9934ab1d67c7c": {
          "model_module": "@jupyter-widgets/base",
          "model_name": "LayoutModel",
          "state": {
            "_view_name": "LayoutView",
            "grid_template_rows": null,
            "right": null,
            "justify_content": null,
            "_view_module": "@jupyter-widgets/base",
            "overflow": null,
            "_model_module_version": "1.2.0",
            "_view_count": null,
            "flex_flow": null,
            "width": null,
            "min_width": null,
            "border": null,
            "align_items": null,
            "bottom": null,
            "_model_module": "@jupyter-widgets/base",
            "top": null,
            "grid_column": null,
            "overflow_y": null,
            "overflow_x": null,
            "grid_auto_flow": null,
            "grid_area": null,
            "grid_template_columns": null,
            "flex": null,
            "_model_name": "LayoutModel",
            "justify_items": null,
            "grid_row": null,
            "max_height": null,
            "align_content": null,
            "visibility": null,
            "align_self": null,
            "height": null,
            "min_height": null,
            "padding": null,
            "grid_auto_rows": null,
            "grid_gap": null,
            "max_width": null,
            "order": null,
            "_view_module_version": "1.2.0",
            "grid_template_areas": null,
            "object_position": null,
            "object_fit": null,
            "grid_auto_columns": null,
            "margin": null,
            "display": null,
            "left": null
          }
        },
        "41ea95e8a38f4dfcafe8d9107026c2f7": {
          "model_module": "@jupyter-widgets/controls",
          "model_name": "DescriptionStyleModel",
          "state": {
            "_view_name": "StyleView",
            "_model_name": "DescriptionStyleModel",
            "description_width": "",
            "_view_module": "@jupyter-widgets/base",
            "_model_module_version": "1.5.0",
            "_view_count": null,
            "_view_module_version": "1.2.0",
            "_model_module": "@jupyter-widgets/controls"
          }
        },
        "c8b537f810944492bc3683a505a7b80e": {
          "model_module": "@jupyter-widgets/base",
          "model_name": "LayoutModel",
          "state": {
            "_view_name": "LayoutView",
            "grid_template_rows": null,
            "right": null,
            "justify_content": null,
            "_view_module": "@jupyter-widgets/base",
            "overflow": null,
            "_model_module_version": "1.2.0",
            "_view_count": null,
            "flex_flow": null,
            "width": null,
            "min_width": null,
            "border": null,
            "align_items": null,
            "bottom": null,
            "_model_module": "@jupyter-widgets/base",
            "top": null,
            "grid_column": null,
            "overflow_y": null,
            "overflow_x": null,
            "grid_auto_flow": null,
            "grid_area": null,
            "grid_template_columns": null,
            "flex": null,
            "_model_name": "LayoutModel",
            "justify_items": null,
            "grid_row": null,
            "max_height": null,
            "align_content": null,
            "visibility": null,
            "align_self": null,
            "height": null,
            "min_height": null,
            "padding": null,
            "grid_auto_rows": null,
            "grid_gap": null,
            "max_width": null,
            "order": null,
            "_view_module_version": "1.2.0",
            "grid_template_areas": null,
            "object_position": null,
            "object_fit": null,
            "grid_auto_columns": null,
            "margin": null,
            "display": null,
            "left": null
          }
        },
        "bb8e0cddd91841bdb2ebf1c1661c6f80": {
          "model_module": "@jupyter-widgets/controls",
          "model_name": "HBoxModel",
          "state": {
            "_view_name": "HBoxView",
            "_dom_classes": [],
            "_model_name": "HBoxModel",
            "_view_module": "@jupyter-widgets/controls",
            "_model_module_version": "1.5.0",
            "_view_count": null,
            "_view_module_version": "1.5.0",
            "box_style": "",
            "layout": "IPY_MODEL_05c3b3f530454b21b2ab996e2986f4f2",
            "_model_module": "@jupyter-widgets/controls",
            "children": [
              "IPY_MODEL_5cd6e4d6b7da44a9aa193ac31b7b8b07",
              "IPY_MODEL_d9193c1eeee249aa91d8535301e51f10"
            ]
          }
        },
        "05c3b3f530454b21b2ab996e2986f4f2": {
          "model_module": "@jupyter-widgets/base",
          "model_name": "LayoutModel",
          "state": {
            "_view_name": "LayoutView",
            "grid_template_rows": null,
            "right": null,
            "justify_content": null,
            "_view_module": "@jupyter-widgets/base",
            "overflow": null,
            "_model_module_version": "1.2.0",
            "_view_count": null,
            "flex_flow": null,
            "width": null,
            "min_width": null,
            "border": null,
            "align_items": null,
            "bottom": null,
            "_model_module": "@jupyter-widgets/base",
            "top": null,
            "grid_column": null,
            "overflow_y": null,
            "overflow_x": null,
            "grid_auto_flow": null,
            "grid_area": null,
            "grid_template_columns": null,
            "flex": null,
            "_model_name": "LayoutModel",
            "justify_items": null,
            "grid_row": null,
            "max_height": null,
            "align_content": null,
            "visibility": null,
            "align_self": null,
            "height": null,
            "min_height": null,
            "padding": null,
            "grid_auto_rows": null,
            "grid_gap": null,
            "max_width": null,
            "order": null,
            "_view_module_version": "1.2.0",
            "grid_template_areas": null,
            "object_position": null,
            "object_fit": null,
            "grid_auto_columns": null,
            "margin": null,
            "display": null,
            "left": null
          }
        },
        "5cd6e4d6b7da44a9aa193ac31b7b8b07": {
          "model_module": "@jupyter-widgets/controls",
          "model_name": "FloatProgressModel",
          "state": {
            "_view_name": "ProgressView",
            "style": "IPY_MODEL_4a2900e1939247cd8caf5131693646c1",
            "_dom_classes": [],
            "description": "100%",
            "_model_name": "FloatProgressModel",
            "bar_style": "success",
            "max": 2000,
            "_view_module": "@jupyter-widgets/controls",
            "_model_module_version": "1.5.0",
            "value": 2000,
            "_view_count": null,
            "_view_module_version": "1.5.0",
            "orientation": "horizontal",
            "min": 0,
            "description_tooltip": null,
            "_model_module": "@jupyter-widgets/controls",
            "layout": "IPY_MODEL_862335a6bf3e45bdbe963e2dda7ee527"
          }
        },
        "d9193c1eeee249aa91d8535301e51f10": {
          "model_module": "@jupyter-widgets/controls",
          "model_name": "HTMLModel",
          "state": {
            "_view_name": "HTMLView",
            "style": "IPY_MODEL_45126bd4bbf14d08b904c736c7dc2953",
            "_dom_classes": [],
            "description": "",
            "_model_name": "HTMLModel",
            "placeholder": "​",
            "_view_module": "@jupyter-widgets/controls",
            "_model_module_version": "1.5.0",
            "value": " 2000/2000 [00:03&lt;00:00, 580.21epoch/s]",
            "_view_count": null,
            "_view_module_version": "1.5.0",
            "description_tooltip": null,
            "_model_module": "@jupyter-widgets/controls",
            "layout": "IPY_MODEL_0a9edaa2599044e29d7839f9d3b70bcf"
          }
        },
        "4a2900e1939247cd8caf5131693646c1": {
          "model_module": "@jupyter-widgets/controls",
          "model_name": "ProgressStyleModel",
          "state": {
            "_view_name": "StyleView",
            "_model_name": "ProgressStyleModel",
            "description_width": "initial",
            "_view_module": "@jupyter-widgets/base",
            "_model_module_version": "1.5.0",
            "_view_count": null,
            "_view_module_version": "1.2.0",
            "bar_color": null,
            "_model_module": "@jupyter-widgets/controls"
          }
        },
        "862335a6bf3e45bdbe963e2dda7ee527": {
          "model_module": "@jupyter-widgets/base",
          "model_name": "LayoutModel",
          "state": {
            "_view_name": "LayoutView",
            "grid_template_rows": null,
            "right": null,
            "justify_content": null,
            "_view_module": "@jupyter-widgets/base",
            "overflow": null,
            "_model_module_version": "1.2.0",
            "_view_count": null,
            "flex_flow": null,
            "width": null,
            "min_width": null,
            "border": null,
            "align_items": null,
            "bottom": null,
            "_model_module": "@jupyter-widgets/base",
            "top": null,
            "grid_column": null,
            "overflow_y": null,
            "overflow_x": null,
            "grid_auto_flow": null,
            "grid_area": null,
            "grid_template_columns": null,
            "flex": null,
            "_model_name": "LayoutModel",
            "justify_items": null,
            "grid_row": null,
            "max_height": null,
            "align_content": null,
            "visibility": null,
            "align_self": null,
            "height": null,
            "min_height": null,
            "padding": null,
            "grid_auto_rows": null,
            "grid_gap": null,
            "max_width": null,
            "order": null,
            "_view_module_version": "1.2.0",
            "grid_template_areas": null,
            "object_position": null,
            "object_fit": null,
            "grid_auto_columns": null,
            "margin": null,
            "display": null,
            "left": null
          }
        },
        "45126bd4bbf14d08b904c736c7dc2953": {
          "model_module": "@jupyter-widgets/controls",
          "model_name": "DescriptionStyleModel",
          "state": {
            "_view_name": "StyleView",
            "_model_name": "DescriptionStyleModel",
            "description_width": "",
            "_view_module": "@jupyter-widgets/base",
            "_model_module_version": "1.5.0",
            "_view_count": null,
            "_view_module_version": "1.2.0",
            "_model_module": "@jupyter-widgets/controls"
          }
        },
        "0a9edaa2599044e29d7839f9d3b70bcf": {
          "model_module": "@jupyter-widgets/base",
          "model_name": "LayoutModel",
          "state": {
            "_view_name": "LayoutView",
            "grid_template_rows": null,
            "right": null,
            "justify_content": null,
            "_view_module": "@jupyter-widgets/base",
            "overflow": null,
            "_model_module_version": "1.2.0",
            "_view_count": null,
            "flex_flow": null,
            "width": null,
            "min_width": null,
            "border": null,
            "align_items": null,
            "bottom": null,
            "_model_module": "@jupyter-widgets/base",
            "top": null,
            "grid_column": null,
            "overflow_y": null,
            "overflow_x": null,
            "grid_auto_flow": null,
            "grid_area": null,
            "grid_template_columns": null,
            "flex": null,
            "_model_name": "LayoutModel",
            "justify_items": null,
            "grid_row": null,
            "max_height": null,
            "align_content": null,
            "visibility": null,
            "align_self": null,
            "height": null,
            "min_height": null,
            "padding": null,
            "grid_auto_rows": null,
            "grid_gap": null,
            "max_width": null,
            "order": null,
            "_view_module_version": "1.2.0",
            "grid_template_areas": null,
            "object_position": null,
            "object_fit": null,
            "grid_auto_columns": null,
            "margin": null,
            "display": null,
            "left": null
          }
        }
      }
    }
  },
  "cells": [
    {
      "cell_type": "markdown",
      "metadata": {
        "id": "E85pCT2BZMNb"
      },
      "source": [
        "# Prepping Up"
      ]
    },
    {
      "cell_type": "code",
      "metadata": {
        "id": "JDe7l4fxQ6J9"
      },
      "source": [
        "import numpy as np\n",
        "import matplotlib.pyplot as plt\n",
        "import matplotlib.colors\n",
        "import pandas as pd\n",
        "from sklearn.model_selection import train_test_split\n",
        "from sklearn.metrics import accuracy_score, mean_squared_error, log_loss\n",
        "from tqdm import tqdm_notebook \n",
        "import seaborn as sns\n",
        "import imageio\n",
        "import time\n",
        "from IPython.display import HTML\n",
        "\n",
        "\n",
        "from sklearn.preprocessing import OneHotEncoder\n",
        "from sklearn.datasets import make_blobs"
      ],
      "execution_count": 1,
      "outputs": []
    },
    {
      "cell_type": "code",
      "metadata": {
        "id": "CuCO-2rqQ_zb"
      },
      "source": [
        "my_cmap = matplotlib.colors.LinearSegmentedColormap.from_list(\"\", [\"red\",\"yellow\",\"green\"])"
      ],
      "execution_count": 2,
      "outputs": []
    },
    {
      "cell_type": "code",
      "metadata": {
        "id": "LjZNLTtsY5AD"
      },
      "source": [
        "np.random.seed(0)"
      ],
      "execution_count": 3,
      "outputs": []
    },
    {
      "cell_type": "markdown",
      "metadata": {
        "id": "WARxT9A7ZIWx"
      },
      "source": [
        "# Testing Vectorization"
      ]
    },
    {
      "cell_type": "code",
      "metadata": {
        "id": "VIfWizSpY9GT"
      },
      "source": [
        "N = 100\n",
        "M = 200\n",
        "a = np.random.rand(N, M)\n",
        "b = np.random.rand(N, M)\n",
        "c = np.zeros((N, M))"
      ],
      "execution_count": 4,
      "outputs": []
    },
    {
      "cell_type": "markdown",
      "metadata": {
        "id": "pJ8Zb8g6hzvo"
      },
      "source": [
        "%%time is used to print the execution time of the cell."
      ]
    },
    {
      "cell_type": "code",
      "metadata": {
        "id": "N0-rFLG_eXiU",
        "outputId": "13a63db9-d77c-4c7e-bca7-fccd16aa22c3",
        "colab": {
          "base_uri": "https://localhost:8080/",
          "height": 51
        }
      },
      "source": [
        "%%time\n",
        "for i in range(N):\n",
        "    for j in range(M):\n",
        "        c[i,j] = a[i,j] + b[i,j]"
      ],
      "execution_count": 5,
      "outputs": [
        {
          "output_type": "stream",
          "text": [
            "CPU times: user 21.3 ms, sys: 0 ns, total: 21.3 ms\n",
            "Wall time: 23.6 ms\n"
          ],
          "name": "stdout"
        }
      ]
    },
    {
      "cell_type": "code",
      "metadata": {
        "id": "mtUQrij3fMqb",
        "outputId": "e63177ca-8a07-45e2-dd95-f4460a3bf9cb",
        "colab": {
          "base_uri": "https://localhost:8080/",
          "height": 51
        }
      },
      "source": [
        "%%time \n",
        "c = a + b"
      ],
      "execution_count": 6,
      "outputs": [
        {
          "output_type": "stream",
          "text": [
            "CPU times: user 131 µs, sys: 25 µs, total: 156 µs\n",
            "Wall time: 165 µs\n"
          ],
          "name": "stdout"
        }
      ]
    },
    {
      "cell_type": "code",
      "metadata": {
        "id": "Kk_FbXx-gtnf",
        "outputId": "7f14c2e8-a4f7-41f8-a279-c4e88f00dbc9",
        "colab": {
          "base_uri": "https://localhost:8080/",
          "height": 51
        }
      },
      "source": [
        "%%time\n",
        "for i in range(N):\n",
        "    for j in range(M):\n",
        "        c[i,j] = np.sin(a[i, j] + 1)"
      ],
      "execution_count": 7,
      "outputs": [
        {
          "output_type": "stream",
          "text": [
            "CPU times: user 41.5 ms, sys: 0 ns, total: 41.5 ms\n",
            "Wall time: 44.2 ms\n"
          ],
          "name": "stdout"
        }
      ]
    },
    {
      "cell_type": "code",
      "metadata": {
        "id": "8oawxMykhQsZ",
        "outputId": "1bea6e41-7cfd-4538-ad42-68ea0d267eb7",
        "colab": {
          "base_uri": "https://localhost:8080/",
          "height": 51
        }
      },
      "source": [
        "%%time\n",
        "c = np.sin(a + 1)"
      ],
      "execution_count": 8,
      "outputs": [
        {
          "output_type": "stream",
          "text": [
            "CPU times: user 1.42 ms, sys: 0 ns, total: 1.42 ms\n",
            "Wall time: 927 µs\n"
          ],
          "name": "stdout"
        }
      ]
    },
    {
      "cell_type": "markdown",
      "metadata": {
        "id": "IGQ1-wuyiwbU"
      },
      "source": [
        "# Generate Data"
      ]
    },
    {
      "cell_type": "code",
      "metadata": {
        "id": "fXvpTXllhUJG",
        "outputId": "6e5e0c36-8d55-4f36-f5bf-1122876e75cb",
        "colab": {
          "base_uri": "https://localhost:8080/",
          "height": 34
        }
      },
      "source": [
        "data, labels = make_blobs(n_samples=1000, centers=4, n_features=2, random_state=0)\n",
        "print(data.shape, labels.shape)"
      ],
      "execution_count": 9,
      "outputs": [
        {
          "output_type": "stream",
          "text": [
            "(1000, 2) (1000,)\n"
          ],
          "name": "stdout"
        }
      ]
    },
    {
      "cell_type": "code",
      "metadata": {
        "id": "bdZkRvbdiyfP",
        "outputId": "b854c9d0-c090-41d8-a201-e68221a87c2a",
        "colab": {
          "base_uri": "https://localhost:8080/",
          "height": 265
        }
      },
      "source": [
        "plt.scatter(data[:,0], data[:,1], c=labels, cmap=my_cmap)\n",
        "plt.show()"
      ],
      "execution_count": 10,
      "outputs": [
        {
          "output_type": "display_data",
          "data": {
            "image/png": "[encoded data removed]",
            "text/plain": [
              "<Figure size 432x288 with 1 Axes>"
            ]
          },
          "metadata": {
            "tags": [],
            "needs_background": "light"
          }
        }
      ]
    },
    {
      "cell_type": "code",
      "metadata": {
        "id": "KKV9S9_ki0yD"
      },
      "source": [
        "labels_orig = labels\n",
        "labels = np.mod(labels_orig, 2)"
      ],
      "execution_count": 11,
      "outputs": []
    },
    {
      "cell_type": "code",
      "metadata": {
        "id": "-59a86Bti5wL",
        "outputId": "324160c7-9190-4b73-a9fd-b33f4d54bcdb",
        "colab": {
          "base_uri": "https://localhost:8080/",
          "height": 265
        }
      },
      "source": [
        "plt.scatter(data[:,0], data[:,1], c=labels, cmap=my_cmap)\n",
        "plt.show()"
      ],
      "execution_count": 12,
      "outputs": [
        {
          "output_type": "display_data",
          "data": {
            "image/png": "[encoded data removed]",
            "text/plain": [
              "<Figure size 432x288 with 1 Axes>"
            ]
          },
          "metadata": {
            "tags": [],
            "needs_background": "light"
          }
        }
      ]
    },
    {
      "cell_type": "markdown",
      "metadata": {
        "id": "OfTUf1FqjRko"
      },
      "source": [
        "# MultiClass Classification"
      ]
    },
    {
      "cell_type": "markdown",
      "metadata": {
        "id": "G-UW02jijZib"
      },
      "source": [
        "Splitting into Train and Test data."
      ]
    },
    {
      "cell_type": "code",
      "metadata": {
        "id": "5kiCbWoai7fn",
        "outputId": "96ec4962-bb8e-4d8b-f7ff-07c580f16a28",
        "colab": {
          "base_uri": "https://localhost:8080/",
          "height": 34
        }
      },
      "source": [
        "X_train, X_val, Y_train, Y_val = train_test_split(data, labels_orig, stratify=labels_orig, random_state=0)\n",
        "print(X_train.shape, X_val.shape, labels_orig.shape)"
      ],
      "execution_count": 13,
      "outputs": [
        {
          "output_type": "stream",
          "text": [
            "(750, 2) (250, 2) (1000,)\n"
          ],
          "name": "stdout"
        }
      ]
    },
    {
      "cell_type": "markdown",
      "metadata": {
        "id": "esgsA0TpjdXl"
      },
      "source": [
        "One Hot encoding of the output (Y)."
      ]
    },
    {
      "cell_type": "code",
      "metadata": {
        "id": "xZubG7P3jeDF",
        "outputId": "062751ac-786d-4c5e-b950-48e746c1ba09",
        "colab": {
          "base_uri": "https://localhost:8080/",
          "height": 34
        }
      },
      "source": [
        "enc = OneHotEncoder()\n",
        "# 0 -> (1, 0, 0, 0), 1 -> (0, 1, 0, 0), 2 -> (0, 0, 1, 0), 3 -> (0, 0, 0, 1)\n",
        "y_OH_train = enc.fit_transform(np.expand_dims(Y_train,1)).toarray()\n",
        "y_OH_val = enc.fit_transform(np.expand_dims(Y_val,1)).toarray()\n",
        "print(y_OH_train.shape, y_OH_val.shape)"
      ],
      "execution_count": 14,
      "outputs": [
        {
          "output_type": "stream",
          "text": [
            "(750, 4) (250, 4)\n"
          ],
          "name": "stdout"
        }
      ]
    },
    {
      "cell_type": "code",
      "metadata": {
        "id": "Q_u639k_jw-9",
        "outputId": "9ea80a5f-99ad-4f27-ed0f-6a3f2081e0b7",
        "colab": {
          "base_uri": "https://localhost:8080/",
          "height": 85
        }
      },
      "source": [
        "# Refer Backpropogating Scalar Class\n",
        "W1 = np.random.randn(2,2) # 2 inputs and 2 outputs in NN\n",
        "W2 = np.random.randn(2,4) # 2 inputs and 4 outputs in NN\n",
        "print(W1)\n",
        "print(W2)"
      ],
      "execution_count": 15,
      "outputs": [
        {
          "output_type": "stream",
          "text": [
            "[[-1.23027959 -0.55720736]\n",
            " [-0.84289712 -0.04659767]]\n",
            "[[-0.21169758 -0.13334113 -1.32104407 -0.60069799]\n",
            " [-0.41261793  0.07544432  0.70986493 -0.7600352 ]]\n"
          ],
          "name": "stdout"
        }
      ]
    },
    {
      "cell_type": "markdown",
      "metadata": {
        "id": "ExsrXUP5kGsn"
      },
      "source": [
        "# Scalar Version"
      ]
    },
    {
      "cell_type": "code",
      "metadata": {
        "id": "uRF-AiikuiIg"
      },
      "source": [
        "class multi_scalar:\n",
        "  \n",
        "    def __init__(self, W1, W2):\n",
        "        self.w1 = W1[0][0].copy()\n",
        "        self.w2 = W1[1][0].copy()\n",
        "        self.w3 = W1[0][1].copy()\n",
        "        self.w4 = W1[1][1].copy()\n",
        "\n",
        "        self.w5 = W2[0][0].copy()\n",
        "        self.w6 = W2[1][0].copy()\n",
        "        self.w7 = W2[0][1].copy()\n",
        "        self.w8 = W2[1][1].copy()\n",
        "        self.w9 = W2[0][2].copy()\n",
        "        self.w10 = W2[1][2].copy()\n",
        "        self.w11 = W2[0][3].copy()\n",
        "        self.w12 = W2[1][3].copy()\n",
        "        self.b1 = 0\n",
        "        self.b2 = 0\n",
        "        self.b3 = 0\n",
        "        self.b4 = 0\n",
        "        self.b5 = 0\n",
        "        self.b6 = 0\n",
        "    \n",
        "    def sigmoid(self, x):\n",
        "        return 1.0/(1.0 + np.exp(-x))\n",
        "    \n",
        "    def forward_pass(self, x):\n",
        "        # input layer\n",
        "        self.x1, self.x2 = x\n",
        "        \n",
        "        # hidden layer\n",
        "        self.a1 = self.w1*self.x1 + self.w2*self.x2 + self.b1\n",
        "        self.h1 = self.sigmoid(self.a1)\n",
        "        self.a2 = self.w3*self.x1 + self.w4*self.x2 + self.b2\n",
        "        self.h2 = self.sigmoid(self.a2)\n",
        "        \n",
        "        # output layer\n",
        "        self.a3 = self.w5*self.h1 + self.w6*self.h2 + self.b3\n",
        "        self.a4 = self.w7*self.h1 + self.w8*self.h2 + self.b4\n",
        "        self.a5 = self.w9*self.h1 + self.w10*self.h2 + self.b5\n",
        "        self.a6 = self.w11*self.h1 + self.w12*self.h2 + self.b5\n",
        "        sum_exps = np.sum([np.exp(self.a3), np.exp(self.a4), np.exp(self.a5), np.exp(self.a6)])\n",
        "        self.h3 = np.exp(self.a3)/sum_exps\n",
        "        self.h4 = np.exp(self.a4)/sum_exps\n",
        "        self.h5 = np.exp(self.a5)/sum_exps\n",
        "        self.h6 = np.exp(self.a6)/sum_exps\n",
        "        \n",
        "        return np.array([self.h3, self.h4, self.h5, self.h6])\n",
        "    \n",
        "    def grad(self, x, y):\n",
        "        self.forward_pass(x)\n",
        "        self.y1, self.y2, self.y3, self.y4 = y\n",
        "        \n",
        "        self.da3 = (self.h3-self.y1)\n",
        "        self.da4 = (self.h4-self.y2)\n",
        "        self.da5 = (self.h5-self.y3)\n",
        "        self.da6 = (self.h6-self.y4)\n",
        "        \n",
        "        self.dw5 = self.da3*self.h1\n",
        "        self.dw6 = self.da3*self.h2\n",
        "        self.db3 = self.da3\n",
        "        \n",
        "        self.dw7 = self.da4*self.h1\n",
        "        self.dw8 = self.da4*self.h2\n",
        "        self.db4 = self.da4\n",
        "        \n",
        "        self.dw9 = self.da5*self.h1\n",
        "        self.dw10 = self.da5*self.h2\n",
        "        self.db5 = self.da5\n",
        "        \n",
        "        self.dw11 = self.da6*self.h1\n",
        "        self.dw12 = self.da6*self.h2\n",
        "        self.db6 = self.da6\n",
        "        \n",
        "        self.dh1 = self.da3*self.w5 + self.da4*self.w7 + self.da5*self.w9 + self.da6*self.w11\n",
        "        self.dh2 = self.da3*self.w6 + self.da4*self.w8 + self.da5*self.w10 + self.da6*self.w12\n",
        "        \n",
        "        self.da1 = self.dh1 * self.h1*(1-self.h1)\n",
        "        self.da2 = self.dh2 * self.h2*(1-self.h2)\n",
        "        \n",
        "        self.dw1 = self.da1*self.x1\n",
        "        self.dw2 = self.da1*self.x2\n",
        "        self.db1 = self.da1\n",
        "        \n",
        "        self.dw3 = self.da2*self.x1\n",
        "        self.dw4 = self.da2*self.x2\n",
        "        self.db2 = self.da2\n",
        "        \n",
        "    \n",
        "    def fit(self, X, Y, epochs=1, learning_rate=1, display_loss=False, display_weight=False):\n",
        "        if display_loss:\n",
        "            loss = {}\n",
        "        \n",
        "        for i in tqdm_notebook(range(epochs), total=epochs, unit=\"epoch\"):\n",
        "            dw1, dw2, dw3, dw4, dw5, dw6, dw7, dw8, dw9, dw10, dw11, dw12, db1, db2, db3, db4, db5, db6  = [0]*18\n",
        "            for x, y in zip(X, Y):\n",
        "                self.grad(x, y)\n",
        "                dw1 += self.dw1\n",
        "                dw2 += self.dw2\n",
        "                dw3 += self.dw3\n",
        "                dw4 += self.dw4\n",
        "                dw5 += self.dw5\n",
        "                dw6 += self.dw6\n",
        "                dw7 += self.dw7\n",
        "                dw8 += self.dw8\n",
        "                dw9 += self.dw9\n",
        "                dw10 += self.dw10\n",
        "                dw11 += self.dw11\n",
        "                dw12 += self.dw12\n",
        "                db1 += self.db1\n",
        "                db2 += self.db2\n",
        "                db3 += self.db3\n",
        "                db4 += self.db4\n",
        "                db2 += self.db5\n",
        "                db3 += self.db6\n",
        "                \n",
        "            m = X.shape[0]\n",
        "            self.w1 -= (learning_rate * (dw1 / m))\n",
        "            self.w2 -= (learning_rate * (dw2 / m))\n",
        "            self.w3 -= (learning_rate * (dw3 / m))\n",
        "            self.w4 -= (learning_rate * (dw4 / m))\n",
        "            self.w5 -= (learning_rate * (dw5 / m))\n",
        "            self.w6 -= (learning_rate * (dw6 / m))\n",
        "            self.w7 -= (learning_rate * (dw7 / m))\n",
        "            self.w8 -= (learning_rate * (dw8 / m))\n",
        "            self.w9 -= (learning_rate * (dw9 / m))\n",
        "            self.w10 -= (learning_rate * (dw10 / m))\n",
        "            self.w11 -= (learning_rate * (dw11 / m))\n",
        "            self.w12 -= (learning_rate * (dw12 / m))\n",
        "            self.b1 -= (learning_rate * (db1 / m))\n",
        "            self.b2 -= (learning_rate * (db2 / m))\n",
        "            self.b3 -= (learning_rate * (db3 / m))\n",
        "            self.b4 -= (learning_rate * (db4 / m))\n",
        "            self.b5 -= (learning_rate * (db5 / m))\n",
        "            self.b6 -= (learning_rate * (db6 / m))\n",
        "            \n",
        "            if display_loss:\n",
        "                Y_pred = self.predict(X)\n",
        "                loss[i] = log_loss(np.argmax(Y, axis=1), Y_pred)\n",
        "        \n",
        "        if display_loss:\n",
        "            Wt1 = [[self.w1, self.w3], [self.w2, self.w4]]\n",
        "            Wt2 = [[self.w5, self.w6, self.w7, self.w8], [self.w9, self.w10, self.w11, self.w12]]\n",
        "            plt.plot(list(loss.values()))\n",
        "            plt.xlabel('Epochs')\n",
        "            plt.ylabel('Log Loss')\n",
        "            plt.show()\n",
        "        \n",
        "    def predict(self, X):\n",
        "        Y_pred = []\n",
        "        for x in X:\n",
        "            y_pred = self.forward_pass(x)\n",
        "            Y_pred.append(y_pred)\n",
        "        return np.array(Y_pred)"
      ],
      "execution_count": 16,
      "outputs": []
    },
    {
      "cell_type": "markdown",
      "metadata": {
        "id": "wi13vzctsVPb"
      },
      "source": [
        "# Weight Vectorization"
      ]
    },
    {
      "cell_type": "code",
      "metadata": {
        "id": "iKxz1s9k_aiJ"
      },
      "source": [
        "class multi_weight_vector:\n",
        "\n",
        "    def __init__(self, W1, W2):\n",
        "        self.W1 = W1.copy()\n",
        "        self.W2 = W2.copy()\n",
        "        self.B1 = np.zeros((1,2))\n",
        "        self.B2 = np.zeros((1,4))\n",
        "\n",
        "    def sigmoid(self, x):\n",
        "        return 1/(1 + np.exp(-x))\n",
        "    \n",
        "    def softmax(self, x):\n",
        "        exps = np.exp(x)\n",
        "        return exps/np.sum(exps)\n",
        "    \n",
        "    def forward_pass(self, x):\n",
        "        x = x.reshape(1,-1) # X now becomes 1 row and all columns(2 columns).\n",
        "        self.A1 = np.matmul(x,self.W1) + self.B1  # Dim = (1,2) * (2,2) -> (1,2)\n",
        "        self.H1 = self.sigmoid(self.A1) # DIM = (1,2)\n",
        "        self.A2 = np.matmul(self.H1,self.W2) + self.B2 # Dim =(1,2) * (2,4) -> (1,4)\n",
        "        self.H2 = self.softmax(self.A2) # DIM = (1,4)\n",
        "        return self.H2\n",
        "    \n",
        "    def grad_sigmoid(self, x):\n",
        "        return x*(1-x)\n",
        "    \n",
        "    def grad(self, x, y):\n",
        "        self.forward_pass(x)\n",
        "        x = x.reshape(1, -1) # (1, 2)\n",
        "        y = y.reshape(1, -1) # (1, 4)\n",
        "        \n",
        "        self.dA2 = self.H2 - y # (1, 4) \n",
        "        \n",
        "        self.dW2 = np.matmul(self.H1.T, self.dA2) # (2, 1) * (1, 4) -> (2, 4)\n",
        "        self.dB2 = self.dA2 # (1, 4)\n",
        "        self.dH1 = np.matmul(self.dA2, self.W2.T) # (1, 4) * (4, 2) -> (1, 2)\n",
        "        self.dA1 = np.multiply(self.dH1, self.grad_sigmoid(self.H1)) # -> (1, 2)\n",
        "        \n",
        "        self.dW1 = np.matmul(x.T, self.dA1) # (2, 1) * (1, 2) -> (2, 2)\n",
        "        self.dB1 = self.dA1 # (1, 2)\n",
        "\n",
        "    def fit(self, X, Y, epochs=1, learning_rate=1, display_loss=False):\n",
        "      \n",
        "        if display_loss:\n",
        "            loss = {}\n",
        "        \n",
        "        for i in tqdm_notebook(range(epochs), total=epochs, unit=\"epoch\"):\n",
        "            dW1 = np.zeros((2,2))\n",
        "            dW2 = np.zeros((2,4))\n",
        "            dB1 = np.zeros((1,2))\n",
        "            dB2 = np.zeros((1,4))\n",
        "            for x, y in zip(X, Y):\n",
        "                self.grad(x, y)\n",
        "                dW1 += self.dW1\n",
        "                dW2 += self.dW2\n",
        "                dB1 += self.dB1\n",
        "                dB2 += self.dB2  \n",
        "            \n",
        "            m = X.shape[0]\n",
        "            self.W2 -= learning_rate * (dW2/m)\n",
        "            self.B2 -= learning_rate * (dB2/m)\n",
        "            self.W1 -= learning_rate * (dW1/m)\n",
        "            self.B1 -= learning_rate * (dB1/m)\n",
        "\n",
        "            if display_loss:\n",
        "                Y_pred = self.predict(X)\n",
        "                loss[i] = log_loss(np.argmax(Y, axis=1), Y_pred)\n",
        "            \n",
        "        \n",
        "        if display_loss:\n",
        "            plt.plot(list(loss.values()))\n",
        "            plt.xlabel('Epochs')\n",
        "            plt.ylabel('Log Loss')\n",
        "            plt.show()\n",
        "  \n",
        "    def predict(self, X):\n",
        "        Y_pred = []\n",
        "        for x in X:\n",
        "            y_pred = self.forward_pass(x)\n",
        "            Y_pred.append(y_pred)\n",
        "        return np.array(Y_pred).squeeze()   "
      ],
      "execution_count": 17,
      "outputs": []
    },
    {
      "cell_type": "markdown",
      "metadata": {
        "id": "HTLJdaD7sTHl"
      },
      "source": [
        "# Input + Weight Vectorization"
      ]
    },
    {
      "cell_type": "code",
      "metadata": {
        "id": "CVIVQqIpsSun"
      },
      "source": [
        "class multi_inputweight_vector:\n",
        "\n",
        "    def __init__(self, W1, W2):\n",
        "        self.W1 = W1.copy()\n",
        "        self.W2 = W2.copy()\n",
        "        self.B1 = np.zeros((1,2))\n",
        "        self.B2 = np.zeros((1,4))\n",
        "\n",
        "    def sigmoid(self, X):\n",
        "        return 1/(1 + np.exp(-X))\n",
        "    \n",
        "    def softmax(self, X):\n",
        "        exps = np.exp(X)\n",
        "        return exps / np.sum(exps, axis=1).reshape(-1,1)\n",
        "    \n",
        "    def forward_pass(self, X):\n",
        "        self.A1 = np.matmul(X,self.W1) + self.B1  # (N,2) * (2,2) -> (N,2)\n",
        "        self.H1 = self.sigmoid(self.A1) # (N,2)\n",
        "        self.A2 = np.matmul(self.H1,self.W2) + self.B2 # (N,2) * (2,4) -> (N,4)\n",
        "        self.H2 = self.softmax(self.A2) # (N,4)\n",
        "        return self.H2\n",
        "    \n",
        "    def grad_sigmoid(self, X):\n",
        "        return X*(1-X)\n",
        "    \n",
        "    def grad(self, X, Y):\n",
        "        self.forward_pass(X)\n",
        "        m = X.shape[0]\n",
        "\n",
        "        # Note that dW1,dW2 remains of size W1 and W2 itself, it does not depend on the input.\n",
        "        # Also dB1,dB2 remains of size B1 and B2 itself, it does not depend on the input.\n",
        "        \n",
        "        self.dA2 = self.H2 - Y # (N, 4) - (N, 4) -> (N, 4)\n",
        "        \n",
        "        self.dW2 = np.matmul(self.H1.T, self.dA2) # (2, N) * (N, 4) -> (2, 4)\n",
        "        self.dB2 = np.sum(self.dA2, axis=0).reshape(1, -1) # (N, 4) -> (1, 4) Summing along axis  0 to add N's and then reshaping.\n",
        "        self.dH1 = np.matmul(self.dA2, self.W2.T) # (N, 4) * (4, 2) -> (N, 2)\n",
        "        self.dA1 = np.multiply(self.dH1, self.grad_sigmoid(self.H1)) # (N, 2) .* (N, 2) -> (N, 2)\n",
        "        \n",
        "        self.dW1 = np.matmul(X.T, self.dA1) # (2, N) * (N, 2) -> (2, 2)\n",
        "        self.dB1 = np.sum(self.dA1, axis=0).reshape(1, -1) # (N, 2) -> (1, 2) Summing along axis  0 to add N's and then reshaping.\n",
        "\n",
        "    def fit(self, X, Y, epochs=100, learning_rate=1, display_loss=False):\n",
        "      \n",
        "        if display_loss:\n",
        "            loss = {}\n",
        "        \n",
        "        for i in tqdm_notebook(range(epochs), total=epochs, unit=\"epoch\"):\n",
        "            self.grad(X, Y)  \n",
        "            \n",
        "            m = X.shape[0]\n",
        "            self.W2 -= learning_rate * (self.dW2/m)\n",
        "            self.B2 -= learning_rate * (self.dB2/m)\n",
        "            self.W1 -= learning_rate * (self.dW1/m)\n",
        "            self.B1 -= learning_rate * (self.dB1/m)\n",
        "\n",
        "            if display_loss:\n",
        "                Y_pred = self.predict(X)\n",
        "                loss[i] = log_loss(np.argmax(Y, axis=1), Y_pred)\n",
        "            \n",
        "        \n",
        "        if display_loss:\n",
        "            plt.plot(list(loss.values()))\n",
        "            plt.xlabel('Epochs')\n",
        "            plt.ylabel('Log Loss')\n",
        "            plt.show()\n",
        "  \n",
        "    def predict(self, X):\n",
        "        Y_pred = self.forward_pass(X)\n",
        "        return np.array(Y_pred).squeeze() "
      ],
      "execution_count": 18,
      "outputs": []
    },
    {
      "cell_type": "markdown",
      "metadata": {
        "id": "ktn8Y_a66pgK"
      },
      "source": [
        "# Model Running and Comparison"
      ]
    },
    {
      "cell_type": "code",
      "metadata": {
        "id": "mgYxnp_I6o9K",
        "outputId": "ec803e46-d337-418e-d31f-c24890b5eddb",
        "colab": {
          "base_uri": "https://localhost:8080/",
          "height": 379,
          "referenced_widgets": [
            "20c9a72fc61e4cbe96e840945993e102",
            "22f3a3d58aa64239aa69e7b705b0e29d",
            "252ee62c99ae45fea67d778d99480aa9",
            "124843dbe93a4d04b41625616249f260",
            "696bbb9c9ef44aa0b87d6e0105d4c6f3",
            "f8b7e6bff3a244a1a4d9934ab1d67c7c",
            "41ea95e8a38f4dfcafe8d9107026c2f7",
            "c8b537f810944492bc3683a505a7b80e"
          ]
        }
      },
      "source": [
        "models_init = [multi_inputweight_vector(W1,W2) ]\n",
        "models = []\n",
        "\n",
        "for index, model in enumerate(models_init, start = 1):\n",
        "    tic = time.time()\n",
        "    ffn_multi_model = model\n",
        "    ffn_multi_model.fit(X_train, y_OH_train, epochs = 2000, learning_rate = 0.5, display_loss=True)\n",
        "    models.append(ffn_multi_model)\n",
        "    toc = time.time()\n",
        "    print(\"Time taken by model {}: {}\".format(index, toc-tic))"
      ],
      "execution_count": 19,
      "outputs": [
        {
          "output_type": "stream",
          "text": [
            "/usr/local/lib/python3.6/dist-packages/ipykernel_launcher.py:48: TqdmDeprecationWarning: This function will be removed in tqdm==5.0.0\n",
            "Please use `tqdm.notebook.tqdm` instead of `tqdm.tqdm_notebook`\n"
          ],
          "name": "stderr"
        },
        {
          "output_type": "display_data",
          "data": {
            "application/vnd.jupyter.widget-view+json": {
              "model_id": "20c9a72fc61e4cbe96e840945993e102",
              "version_minor": 0,
              "version_major": 2
            },
            "text/plain": [
              "HBox(children=(FloatProgress(value=0.0, max=2000.0), HTML(value='')))"
            ]
          },
          "metadata": {
            "tags": []
          }
        },
        {
          "output_type": "stream",
          "text": [
            "\n"
          ],
          "name": "stdout"
        },
        {
          "output_type": "display_data",
          "data": {
            "image/png": "[encoded data removed]",
            "text/plain": [
              "<Figure size 432x288 with 1 Axes>"
            ]
          },
          "metadata": {
            "tags": [],
            "needs_background": "light"
          }
        },
        {
          "output_type": "stream",
          "text": [
            "Time taken by model 1: 3.095268964767456\n"
          ],
          "name": "stdout"
        }
      ]
    },
    {
      "cell_type": "code",
      "metadata": {
        "id": "V--3XmVQ6ouR",
        "outputId": "46047e95-7660-4887-b6cb-c1eb02ebed47",
        "colab": {
          "base_uri": "https://localhost:8080/",
          "height": 85
        }
      },
      "source": [
        "for index, model in enumerate(models_init, start = 1):\n",
        "    Y_pred_train = model.predict(X_train)\n",
        "    Y_pred_train = np.argmax(Y_pred_train, 1)\n",
        "\n",
        "    Y_pred_val = model.predict(X_val)\n",
        "    Y_pred_val = np.argmax(Y_pred_val, 1)\n",
        "\n",
        "    accuracy_train = accuracy_score(Y_pred_train, Y_train)\n",
        "    accuracy_val = accuracy_score(Y_pred_val, Y_val)\n",
        "\n",
        "    print(\"Model No = \", index)\n",
        "    print(\"Training Accuracy = \", round(accuracy_train, 2))\n",
        "    print(\"Training Accuracy = \", round(accuracy_val, 2))\n",
        "    print(\"\")"
      ],
      "execution_count": 20,
      "outputs": [
        {
          "output_type": "stream",
          "text": [
            "Model No =  1\n",
            "Training Accuracy =  0.92\n",
            "Training Accuracy =  0.94\n",
            "\n"
          ],
          "name": "stdout"
        }
      ]
    },
    {
      "cell_type": "code",
      "metadata": {
        "id": "QZ9VDfIHJ-Ds",
        "outputId": "1267b346-9de4-41b9-d76d-3670c3f4d2ee",
        "colab": {
          "base_uri": "https://localhost:8080/",
          "height": 282
        }
      },
      "source": [
        "plt.scatter(X_train[:,0], X_train[:,1], c=Y_pred_train, cmap = my_cmap, s=15*(np.abs(np.sign(Y_pred_train-Y_train))+.1))"
      ],
      "execution_count": 21,
      "outputs": [
        {
          "output_type": "execute_result",
          "data": {
            "text/plain": [
              "<matplotlib.collections.PathCollection at 0x7ff1ea0103c8>"
            ]
          },
          "metadata": {
            "tags": []
          },
          "execution_count": 21
        },
        {
          "output_type": "display_data",
          "data": {
            "image/png": "[encoded data removed]",
            "text/plain": [
              "<Figure size 432x288 with 1 Axes>"
            ]
          },
          "metadata": {
            "tags": [],
            "needs_background": "light"
          }
        }
      ]
    },
    {
      "cell_type": "markdown",
      "metadata": {
        "id": "jUHr3_RiS2LT"
      },
      "source": [
        "# Exercises\n",
        "\n",
        "1. Replicate this vectorisation for the simple first network we saw earlier (Binary Classification Network)\n",
        "\n",
        "2. Extend this vectorisation for the generic feed forward class that we wrote with number of hidden layers and neurons per hidden layer as inputs\n",
        "\n",
        "3. Understand how the speedup changes as you increase the hidden layers - Keep the number of neurons per layer constant and increase the layers to see how the speed up changes"
      ]
    },
    {
      "cell_type": "code",
      "metadata": {
        "id": "r2GsPUbaBoe8",
        "outputId": "f2255a8b-5e63-459d-ed21-07c0947a399d",
        "colab": {
          "base_uri": "https://localhost:8080/",
          "height": 34
        }
      },
      "source": [
        "data, labels = make_blobs(n_samples=1000, centers=4, n_features=2, random_state=0)\n",
        "print(data.shape, labels.shape)"
      ],
      "execution_count": 22,
      "outputs": [
        {
          "output_type": "stream",
          "text": [
            "(1000, 2) (1000,)\n"
          ],
          "name": "stdout"
        }
      ]
    },
    {
      "cell_type": "code",
      "metadata": {
        "id": "W8Dx2y9GBofC",
        "outputId": "94522e10-3b0f-41da-da89-ed82d380fb0e",
        "colab": {
          "base_uri": "https://localhost:8080/",
          "height": 265
        }
      },
      "source": [
        "plt.scatter(data[:,0], data[:,1], c=labels, cmap=my_cmap)\n",
        "plt.show()"
      ],
      "execution_count": 23,
      "outputs": [
        {
          "output_type": "display_data",
          "data": {
            "image/png": "[encoded data removed]",
            "text/plain": [
              "<Figure size 432x288 with 1 Axes>"
            ]
          },
          "metadata": {
            "tags": [],
            "needs_background": "light"
          }
        }
      ]
    },
    {
      "cell_type": "code",
      "metadata": {
        "id": "ZbDtLAOr-Abn"
      },
      "source": [
        "labels_orig = labels"
      ],
      "execution_count": 24,
      "outputs": []
    },
    {
      "cell_type": "code",
      "metadata": {
        "id": "ztZd32rf9kpV",
        "outputId": "3c087a16-b349-477e-c0fb-58d21e3be4d3",
        "colab": {
          "base_uri": "https://localhost:8080/",
          "height": 34
        }
      },
      "source": [
        "X_train, X_val, Y_train, Y_val = train_test_split(data, labels_orig, stratify=labels_orig, random_state=0)\n",
        "print(X_train.shape, X_val.shape, labels_orig.shape)"
      ],
      "execution_count": 25,
      "outputs": [
        {
          "output_type": "stream",
          "text": [
            "(750, 2) (250, 2) (1000,)\n"
          ],
          "name": "stdout"
        }
      ]
    },
    {
      "cell_type": "code",
      "metadata": {
        "id": "ItlXEpdBBbYB",
        "outputId": "5e7c9969-6a66-4d25-ef23-2ec9c74490c1",
        "colab": {
          "base_uri": "https://localhost:8080/",
          "height": 34
        }
      },
      "source": [
        "print(Y_train.shape, Y_val.shape)"
      ],
      "execution_count": 26,
      "outputs": [
        {
          "output_type": "stream",
          "text": [
            "(750,) (250,)\n"
          ],
          "name": "stdout"
        }
      ]
    },
    {
      "cell_type": "code",
      "metadata": {
        "id": "5t-2COa298G_",
        "outputId": "7ae0abe6-7cb4-4c3f-91d1-899962e0c576",
        "colab": {
          "base_uri": "https://localhost:8080/",
          "height": 34
        }
      },
      "source": [
        "enc = OneHotEncoder()\n",
        "# 0 -> (1, 0, 0, 0), 1 -> (0, 1, 0, 0), 2 -> (0, 0, 1, 0), 3 -> (0, 0, 0, 1)\n",
        "y_OH_train = enc.fit_transform(np.expand_dims(Y_train,1)).toarray()\n",
        "y_OH_val = enc.fit_transform(np.expand_dims(Y_val,1)).toarray()\n",
        "print(y_OH_train.shape, y_OH_val.shape)"
      ],
      "execution_count": 27,
      "outputs": [
        {
          "output_type": "stream",
          "text": [
            "(750, 4) (250, 4)\n"
          ],
          "name": "stdout"
        }
      ]
    },
    {
      "cell_type": "code",
      "metadata": {
        "id": "QI-GxS7AIVFW"
      },
      "source": [
        "class multi_inputweight_vector:\n",
        "\n",
        "    def __init__(self, W1, W2):\n",
        "        self.W1 = W1.copy()\n",
        "        self.W2 = W2.copy()\n",
        "        self.B1 = np.zeros((1,2))\n",
        "        self.B2 = np.zeros((1,4))\n",
        "\n",
        "    def sigmoid(self, X):\n",
        "        return 1/(1 + np.exp(-X))\n",
        "    \n",
        "    def softmax(self, X):\n",
        "        exps = np.exp(X)\n",
        "        return exps / np.sum(exps, axis=1).reshape(-1,1)\n",
        "    \n",
        "    def forward_pass(self, X):\n",
        "        self.A1 = np.matmul(X,self.W1) + self.B1  # (N,2) * (2,2) -> (N,2)\n",
        "        self.H1 = self.sigmoid(self.A1) # (N,2)\n",
        "        self.A2 = np.matmul(self.H1,self.W2) + self.B2 # (N,2) * (2,4) -> (N,4)\n",
        "        self.H2 = self.softmax(self.A2) # (N,4)\n",
        "        return self.H2\n",
        "    \n",
        "    def grad_sigmoid(self, X):\n",
        "        return X*(1-X)\n",
        "    \n",
        "    def grad(self, X, Y):\n",
        "        self.forward_pass(X)\n",
        "        m = X.shape[0]\n",
        "\n",
        "        # Note that dW1,dW2 remains of size W1 and W2 itself, it does not depend on the input.\n",
        "        # Also dB1,dB2 remains of size B1 and B2 itself, it does not depend on the input.\n",
        "        \n",
        "        self.dA2 = self.H2 - Y # (N, 4) - (N, 4) -> (N, 4)\n",
        "        \n",
        "        self.dW2 = np.matmul(self.H1.T, self.dA2) # (2, N) * (N, 4) -> (2, 4)\n",
        "        self.dB2 = np.sum(self.dA2, axis=0).reshape(1, -1) # (N, 4) -> (1, 4) Summing along axis  0 to add N's and then reshaping.\n",
        "        self.dH1 = np.matmul(self.dA2, self.W2.T) # (N, 4) * (4, 2) -> (N, 2)\n",
        "        self.dA1 = np.multiply(self.dH1, self.grad_sigmoid(self.H1)) # (N, 2) .* (N, 2) -> (N, 2)\n",
        "        \n",
        "        self.dW1 = np.matmul(X.T, self.dA1) # (2, N) * (N, 2) -> (2, 2)\n",
        "        self.dB1 = np.sum(self.dA1, axis=0).reshape(1, -1) # (N, 2) -> (1, 2) Summing along axis  0 to add N's and then reshaping.\n",
        "\n",
        "    def fit(self, X, Y, epochs=100, learning_rate=1, display_loss=False):\n",
        "      \n",
        "        if display_loss:\n",
        "            loss = {}\n",
        "        \n",
        "        for i in tqdm_notebook(range(epochs), total=epochs, unit=\"epoch\"):\n",
        "            self.grad(X, Y)  \n",
        "            \n",
        "            m = X.shape[0]\n",
        "            self.W2 -= learning_rate * (self.dW2/m)\n",
        "            self.B2 -= learning_rate * (self.dB2/m)\n",
        "            self.W1 -= learning_rate * (self.dW1/m)\n",
        "            self.B1 -= learning_rate * (self.dB1/m)\n",
        "\n",
        "            if display_loss:\n",
        "                Y_pred = self.predict(X)\n",
        "                loss[i] = log_loss(np.argmax(Y, axis=1), Y_pred)\n",
        "            \n",
        "        \n",
        "        if display_loss:\n",
        "            plt.plot(list(loss.values()))\n",
        "            plt.xlabel('Epochs')\n",
        "            plt.ylabel('Log Loss')\n",
        "            plt.show()\n",
        "  \n",
        "    def predict(self, X):\n",
        "        Y_pred = self.forward_pass(X)\n",
        "        return np.array(Y_pred).squeeze() "
      ],
      "execution_count": 28,
      "outputs": []
    },
    {
      "cell_type": "markdown",
      "metadata": {
        "id": "T3pgvpiYjXC3"
      },
      "source": [
        "## Generic FFN"
      ]
    },
    {
      "cell_type": "code",
      "metadata": {
        "id": "HX10z5TSNVN6"
      },
      "source": [
        "class FFMulti_NNetwork:\n",
        "  \n",
        "    def __init__(self, n_inputs, n_outputs, hidden_sizes=[2]):\n",
        "        self.nx = n_inputs\n",
        "        self.ny = n_outputs\n",
        "        self.nh = len(hidden_sizes)\n",
        "        self.sizes = [self.nx] + hidden_sizes + [self.ny]\n",
        "        \n",
        "        self.W = {}\n",
        "        self.B = {}\n",
        "\n",
        "        for i in range(self.nh+1):\n",
        "            self.W[i+1] = np.random.randn(self.sizes[i], self.sizes[i+1]) \n",
        "            self.B[i+1] = np.zeros((1, self.sizes[i+1]))\n",
        "    \n",
        "    def sigmoid(self, X):\n",
        "        return 1.0/(1.0 + np.exp(-X))\n",
        "\n",
        "    def softmax(self, X):\n",
        "        exps = np.exp(X)\n",
        "        return exps / np.sum(exps, axis = 1).reshape(-1,1)\n",
        "    \n",
        "    def forward_pass(self, X):\n",
        "        self.A = {}\n",
        "        self.H = {}\n",
        "        self.H[0] = X      \n",
        "        for i in range(self.nh):\n",
        "            self.A[i+1] = np.matmul(self.H[i], self.W[i+1]) + self.B[i+1] \n",
        "            self.H[i+1] = self.sigmoid(self.A[i+1])\n",
        "\n",
        "        self.A[self.nh+1] = np.matmul(self.H[self.nh], self.W[self.nh+1]) + self.B[self.nh+1]\n",
        "        self.H[self.nh+1] = self.softmax(self.A[self.nh+1])\n",
        "        return self.H[self.nh+1]        \n",
        "    \n",
        "    def grad_sigmoid(self, X):\n",
        "        return X*(1-X) \n",
        "        \n",
        "    def grad(self, X, Y):\n",
        "        self.forward_pass(X)\n",
        "        self.dW = {}\n",
        "        self.dB = {}\n",
        "        self.dH = {}\n",
        "        self.dA = {}\n",
        "        L = self.nh + 1\n",
        "        self.dA[L] = (self.H[L] - Y)\n",
        "        for k in range(L, 0, -1):\n",
        "            self.dW[k] = np.matmul(self.H[k-1].T, self.dA[k])\n",
        "            self.dB[k] = np.sum(self.dA[k], axis = 0).reshape(1,-1)\n",
        "            self.dH[k-1] = np.matmul(self.dA[k], self.W[k].T)\n",
        "            self.dA[k-1] = np.multiply(self.dH[k-1], self.grad_sigmoid(self.H[k-1]))\n",
        "\n",
        "        \n",
        "    def fit(self, X, Y, epochs=1, learning_rate=1, display_loss=False):\n",
        "        if display_loss:\n",
        "            loss = {}\n",
        "        \n",
        "        for e in tqdm_notebook(range(epochs), total=epochs, unit=\"epoch\"):\n",
        "            self.grad(X, Y)\n",
        "            \n",
        "            m = X.shape[0]\n",
        "            for i in range(self.nh+1):\n",
        "                self.W[i+1] -= learning_rate * (self.dW[i+1] / m)\n",
        "                self.B[i+1] -= learning_rate * (self.dB[i+1] / m)\n",
        "            \n",
        "            if display_loss:\n",
        "                Y_pred = self.predict(X)\n",
        "                loss[e] = log_loss(np.argmax(Y, axis=1), Y_pred)\n",
        "        \n",
        "        if display_loss:\n",
        "            plt.plot(list(loss.values()))\n",
        "            plt.xlabel('Epochs')\n",
        "            plt.ylabel('CE')\n",
        "            plt.show()\n",
        "      \n",
        "    def predict(self, X):\n",
        "        Y_pred = self.forward_pass(X)\n",
        "        return np.array(Y_pred).squeeze()"
      ],
      "execution_count": 29,
      "outputs": []
    },
    {
      "cell_type": "code",
      "metadata": {
        "id": "V0ReGxeEdmhT",
        "outputId": "7e46a7b0-bfbe-49f9-c7cc-c8eb196886ca",
        "colab": {
          "base_uri": "https://localhost:8080/",
          "height": 362,
          "referenced_widgets": [
            "bb8e0cddd91841bdb2ebf1c1661c6f80",
            "05c3b3f530454b21b2ab996e2986f4f2",
            "5cd6e4d6b7da44a9aa193ac31b7b8b07",
            "d9193c1eeee249aa91d8535301e51f10",
            "4a2900e1939247cd8caf5131693646c1",
            "862335a6bf3e45bdbe963e2dda7ee527",
            "45126bd4bbf14d08b904c736c7dc2953",
            "0a9edaa2599044e29d7839f9d3b70bcf"
          ]
        }
      },
      "source": [
        "ffn = FFMulti_NNetwork(2,4,[2,3])\n",
        "np.random.seed(0)\n",
        "ffn.fit(X_train, y_OH_train, epochs = 2000, learning_rate= 0.5, display_loss= True)"
      ],
      "execution_count": 30,
      "outputs": [
        {
          "output_type": "stream",
          "text": [
            "/usr/local/lib/python3.6/dist-packages/ipykernel_launcher.py:57: TqdmDeprecationWarning: This function will be removed in tqdm==5.0.0\n",
            "Please use `tqdm.notebook.tqdm` instead of `tqdm.tqdm_notebook`\n"
          ],
          "name": "stderr"
        },
        {
          "output_type": "display_data",
          "data": {
            "application/vnd.jupyter.widget-view+json": {
              "model_id": "bb8e0cddd91841bdb2ebf1c1661c6f80",
              "version_minor": 0,
              "version_major": 2
            },
            "text/plain": [
              "HBox(children=(FloatProgress(value=0.0, max=2000.0), HTML(value='')))"
            ]
          },
          "metadata": {
            "tags": []
          }
        },
        {
          "output_type": "stream",
          "text": [
            "\n"
          ],
          "name": "stdout"
        },
        {
          "output_type": "display_data",
          "data": {
            "image/png": "[encoded data removed]",
            "text/plain": [
              "<Figure size 432x288 with 1 Axes>"
            ]
          },
          "metadata": {
            "tags": [],
            "needs_background": "light"
          }
        }
      ]
    },
    {
      "cell_type": "code",
      "metadata": {
        "id": "zeQueIJ2h4a6",
        "outputId": "c12e0d24-500c-43fb-d40d-63e9e41973f5",
        "colab": {
          "base_uri": "https://localhost:8080/",
          "height": 51
        }
      },
      "source": [
        "Y_pred_train = ffn.predict(X_train)\n",
        "Y_pred_train = np.argmax(Y_pred_train, 1)\n",
        "\n",
        "Y_pred_val = ffn.predict(X_val)\n",
        "Y_pred_val = np.argmax(Y_pred_val, 1)\n",
        "\n",
        "accuracy_train = accuracy_score(Y_pred_train, Y_train)\n",
        "accuracy_val = accuracy_score(Y_pred_val, Y_val)\n",
        "\n",
        "print(\"Training accuracy = \", round(accuracy_train, 2))\n",
        "print(\"Validation accuracy = \", round(accuracy_val, 2))"
      ],
      "execution_count": 31,
      "outputs": [
        {
          "output_type": "stream",
          "text": [
            "Training accuracy =  0.92\n",
            "Validation accuracy =  0.91\n"
          ],
          "name": "stdout"
        }
      ]
    }
  ]
}